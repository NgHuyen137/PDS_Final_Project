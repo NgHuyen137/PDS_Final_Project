{
 "cells": [
  {
   "cell_type": "markdown",
   "metadata": {},
   "source": [
    "# **Programming for Data Science - 21_21**\n",
    "# **Final Project**\n",
    "# **Topic:** Indicators of Heart Disease \n",
    "\n",
    "---\n",
    "\n",
    "### **Student Information**:\n",
    "\n",
    "StudentID|Full Name\n",
    "-|-\n",
    "21120475|Nguyen Ngoc Nhu Huyen\n",
    "21120496|Chu Hai Linh\n",
    "\n",
    "<br>\n",
    "\n",
    "---\n"
   ]
  },
  {
   "cell_type": "markdown",
   "metadata": {},
   "source": [
    "## **Overview**"
   ]
  },
  {
   "cell_type": "markdown",
   "metadata": {},
   "source": [
    "<h3>\n",
    "     Indicators of Heart Disease: Exploring factors influencing heart disease in humans using health information collected from the population in the United States.\n",
    "</h3>\n",
    "<center>\n",
    "    <img style=\"padding:10px\" src=\"https://biznet.com.vn/media/k2/items/cache/c79015a227b446e15f181d145a9ed4a7_L.jpg?t=20210330_074818\" width=\"600\"/>\n",
    "</center>\n",
    "According to the CDC, heart disease is a leading cause of death for people of most races in the U.S. (African Americans, American Indians and Alaska Natives, and whites). About half of all Americans (47%) have at least 1 of 3 major risk factors for heart disease: high blood pressure, high cholesterol, and smoking. Other key indicators include diabetes status, obesity (high BMI), not getting enough physical activity, or drinking too much alcohol. Identifying and preventing the factors that have the greatest impact on heart disease is very important in healthcare. In turn, developments in computing allow the application of machine learning methods to detect \"patterns\" in the data that can predict a patient's condition.\n",
    "\n",
    "\n",
    "---"
   ]
  },
  {
   "cell_type": "markdown",
   "metadata": {},
   "source": [
    "## **Data Collection**"
   ]
  },
  {
   "cell_type": "markdown",
   "metadata": {},
   "source": [
    "- **Data about:** The dataset is about key indicators of heart disease and contains 2022 annual CDC survey data of 400k+ adults related to their health status. The dataset covers various factors that are associated with heart disease, such as high blood pressure, high cholesterol, smoking, diabetes status, obesity, physical activity, and alcohol consumption.\n",
    "- **Where did the data set come from?**\n",
    "The dataset originally comes from the CDC and is a major part of the Behavioral Risk Factor Surveillance System (BRFSS), which conducts annual telephone surveys to collect data on the health status of U.S. residents. As described by the CDC: \"Established in 1984 with 15 states, BRFSS now collects data in all 50 states, the District of Columbia, and three U.S. territories. BRFSS completes more than 400,000 adult interviews each year, making it the largest continuously conducted health survey system in the world. The most recent dataset includes data from 2023.\n",
    "- **Source of data:** Website Kaggle\n",
    "- **License:** CC0: Public Domain\n"
   ]
  }
 ],
 "metadata": {
  "language_info": {
   "name": "python"
  }
 },
 "nbformat": 4,
 "nbformat_minor": 2
}
