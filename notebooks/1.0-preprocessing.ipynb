{
 "cells": [
  {
   "cell_type": "markdown",
   "id": "1a4f9f92-8769-4267-a16d-8f5e57bf54e5",
   "metadata": {},
   "source": [
    "<div style=\"text-align: center; background-color: #5A96E3; font-family: 'Trebuchet MS', Arial, sans-serif; color: white; padding: 20px; font-size: 40px; font-weight: bold; border-radius: 0 0 0 0; box-shadow: 0px 6px 8px rgba(0, 0, 0, 0.2);\">\n",
    "  Stage 02 - Data exploration and preprocessing\n",
    "</div>"
   ]
  },
  {
   "cell_type": "markdown",
   "id": "d88db445-0269-4e34-9bd3-d8a2e7ebd7f9",
   "metadata": {},
   "source": [
    "# 1. Import libraries"
   ]
  },
  {
   "cell_type": "code",
   "execution_count": 1,
   "id": "893810ce-e160-4f2b-8195-4c5435626ee1",
   "metadata": {},
   "outputs": [],
   "source": [
    "import pandas as pd\n",
    "import numpy as np\n",
    "\n",
    "import matplotlib.pyplot as plt\n",
    "import seaborn as sn\n",
    "import plotly.express as px\n",
    "from plotly.subplots import make_subplots\n",
    "import plotly.graph_objects as go"
   ]
  },
  {
   "cell_type": "markdown",
   "id": "f42b0914-7a11-4a7d-8938-c7acdb42edd2",
   "metadata": {},
   "source": [
    "# 2. Read data"
   ]
  },
  {
   "cell_type": "code",
   "execution_count": 2,
   "id": "9ab4e307-04ba-4f34-a0c8-c02d89449fbf",
   "metadata": {
    "scrolled": true
   },
   "outputs": [
    {
     "data": {
      "text/html": [
       "<div>\n",
       "<style scoped>\n",
       "    .dataframe tbody tr th:only-of-type {\n",
       "        vertical-align: middle;\n",
       "    }\n",
       "\n",
       "    .dataframe tbody tr th {\n",
       "        vertical-align: top;\n",
       "    }\n",
       "\n",
       "    .dataframe thead th {\n",
       "        text-align: right;\n",
       "    }\n",
       "</style>\n",
       "<table border=\"1\" class=\"dataframe\">\n",
       "  <thead>\n",
       "    <tr style=\"text-align: right;\">\n",
       "      <th></th>\n",
       "      <th>State</th>\n",
       "      <th>Sex</th>\n",
       "      <th>GeneralHealth</th>\n",
       "      <th>PhysicalHealthDays</th>\n",
       "      <th>MentalHealthDays</th>\n",
       "      <th>LastCheckupTime</th>\n",
       "      <th>PhysicalActivities</th>\n",
       "      <th>SleepHours</th>\n",
       "      <th>RemovedTeeth</th>\n",
       "      <th>HadHeartAttack</th>\n",
       "      <th>...</th>\n",
       "      <th>HeightInMeters</th>\n",
       "      <th>WeightInKilograms</th>\n",
       "      <th>BMI</th>\n",
       "      <th>AlcoholDrinkers</th>\n",
       "      <th>HIVTesting</th>\n",
       "      <th>FluVaxLast12</th>\n",
       "      <th>PneumoVaxEver</th>\n",
       "      <th>TetanusLast10Tdap</th>\n",
       "      <th>HighRiskLastYear</th>\n",
       "      <th>CovidPos</th>\n",
       "    </tr>\n",
       "  </thead>\n",
       "  <tbody>\n",
       "    <tr>\n",
       "      <th>0</th>\n",
       "      <td>California</td>\n",
       "      <td>Female</td>\n",
       "      <td>Excellent</td>\n",
       "      <td>NaN</td>\n",
       "      <td>3.0</td>\n",
       "      <td>Within past year (anytime less than 12 months ...</td>\n",
       "      <td>Yes</td>\n",
       "      <td>7.0</td>\n",
       "      <td>None of them</td>\n",
       "      <td>No</td>\n",
       "      <td>...</td>\n",
       "      <td>1.60</td>\n",
       "      <td>67.13</td>\n",
       "      <td>26.22</td>\n",
       "      <td>Yes</td>\n",
       "      <td>No</td>\n",
       "      <td>Yes</td>\n",
       "      <td>Yes</td>\n",
       "      <td>No, did not receive any tetanus shot in the pa...</td>\n",
       "      <td>No</td>\n",
       "      <td>No</td>\n",
       "    </tr>\n",
       "    <tr>\n",
       "      <th>1</th>\n",
       "      <td>California</td>\n",
       "      <td>Male</td>\n",
       "      <td>Very good</td>\n",
       "      <td>0.0</td>\n",
       "      <td>0.0</td>\n",
       "      <td>Within past year (anytime less than 12 months ...</td>\n",
       "      <td>Yes</td>\n",
       "      <td>6.0</td>\n",
       "      <td>None of them</td>\n",
       "      <td>No</td>\n",
       "      <td>...</td>\n",
       "      <td>1.83</td>\n",
       "      <td>86.18</td>\n",
       "      <td>25.77</td>\n",
       "      <td>No</td>\n",
       "      <td>Yes</td>\n",
       "      <td>No</td>\n",
       "      <td>No</td>\n",
       "      <td>Yes, received Tdap</td>\n",
       "      <td>No</td>\n",
       "      <td>No</td>\n",
       "    </tr>\n",
       "    <tr>\n",
       "      <th>2</th>\n",
       "      <td>California</td>\n",
       "      <td>Female</td>\n",
       "      <td>Very good</td>\n",
       "      <td>0.0</td>\n",
       "      <td>0.0</td>\n",
       "      <td>Within past 2 years (1 year but less than 2 ye...</td>\n",
       "      <td>No</td>\n",
       "      <td>8.0</td>\n",
       "      <td>1 to 5</td>\n",
       "      <td>No</td>\n",
       "      <td>...</td>\n",
       "      <td>1.63</td>\n",
       "      <td>55.79</td>\n",
       "      <td>21.11</td>\n",
       "      <td>No</td>\n",
       "      <td>No</td>\n",
       "      <td>No</td>\n",
       "      <td>Yes</td>\n",
       "      <td>No, did not receive any tetanus shot in the pa...</td>\n",
       "      <td>No</td>\n",
       "      <td>No</td>\n",
       "    </tr>\n",
       "    <tr>\n",
       "      <th>3</th>\n",
       "      <td>California</td>\n",
       "      <td>Female</td>\n",
       "      <td>Good</td>\n",
       "      <td>0.0</td>\n",
       "      <td>30.0</td>\n",
       "      <td>Within past year (anytime less than 12 months ...</td>\n",
       "      <td>No</td>\n",
       "      <td>7.0</td>\n",
       "      <td>None of them</td>\n",
       "      <td>No</td>\n",
       "      <td>...</td>\n",
       "      <td>1.75</td>\n",
       "      <td>72.57</td>\n",
       "      <td>23.63</td>\n",
       "      <td>No</td>\n",
       "      <td>No</td>\n",
       "      <td>No</td>\n",
       "      <td>No</td>\n",
       "      <td>No, did not receive any tetanus shot in the pa...</td>\n",
       "      <td>No</td>\n",
       "      <td>No</td>\n",
       "    </tr>\n",
       "    <tr>\n",
       "      <th>4</th>\n",
       "      <td>California</td>\n",
       "      <td>Male</td>\n",
       "      <td>Good</td>\n",
       "      <td>12.0</td>\n",
       "      <td>0.0</td>\n",
       "      <td>Within past year (anytime less than 12 months ...</td>\n",
       "      <td>Yes</td>\n",
       "      <td>8.0</td>\n",
       "      <td>None of them</td>\n",
       "      <td>No</td>\n",
       "      <td>...</td>\n",
       "      <td>1.73</td>\n",
       "      <td>65.77</td>\n",
       "      <td>22.05</td>\n",
       "      <td>Yes</td>\n",
       "      <td>No</td>\n",
       "      <td>Yes</td>\n",
       "      <td>Yes</td>\n",
       "      <td>NaN</td>\n",
       "      <td>Yes</td>\n",
       "      <td>No</td>\n",
       "    </tr>\n",
       "    <tr>\n",
       "      <th>...</th>\n",
       "      <td>...</td>\n",
       "      <td>...</td>\n",
       "      <td>...</td>\n",
       "      <td>...</td>\n",
       "      <td>...</td>\n",
       "      <td>...</td>\n",
       "      <td>...</td>\n",
       "      <td>...</td>\n",
       "      <td>...</td>\n",
       "      <td>...</td>\n",
       "      <td>...</td>\n",
       "      <td>...</td>\n",
       "      <td>...</td>\n",
       "      <td>...</td>\n",
       "      <td>...</td>\n",
       "      <td>...</td>\n",
       "      <td>...</td>\n",
       "      <td>...</td>\n",
       "      <td>...</td>\n",
       "      <td>...</td>\n",
       "      <td>...</td>\n",
       "    </tr>\n",
       "    <tr>\n",
       "      <th>10947</th>\n",
       "      <td>California</td>\n",
       "      <td>Male</td>\n",
       "      <td>Good</td>\n",
       "      <td>0.0</td>\n",
       "      <td>3.0</td>\n",
       "      <td>Within past year (anytime less than 12 months ...</td>\n",
       "      <td>Yes</td>\n",
       "      <td>5.0</td>\n",
       "      <td>1 to 5</td>\n",
       "      <td>No</td>\n",
       "      <td>...</td>\n",
       "      <td>1.83</td>\n",
       "      <td>65.77</td>\n",
       "      <td>19.67</td>\n",
       "      <td>Yes</td>\n",
       "      <td>Yes</td>\n",
       "      <td>No</td>\n",
       "      <td>Yes</td>\n",
       "      <td>Yes, received Tdap</td>\n",
       "      <td>No</td>\n",
       "      <td>No</td>\n",
       "    </tr>\n",
       "    <tr>\n",
       "      <th>10948</th>\n",
       "      <td>California</td>\n",
       "      <td>Male</td>\n",
       "      <td>Good</td>\n",
       "      <td>0.0</td>\n",
       "      <td>0.0</td>\n",
       "      <td>Within past year (anytime less than 12 months ...</td>\n",
       "      <td>Yes</td>\n",
       "      <td>8.0</td>\n",
       "      <td>None of them</td>\n",
       "      <td>No</td>\n",
       "      <td>...</td>\n",
       "      <td>1.78</td>\n",
       "      <td>90.72</td>\n",
       "      <td>28.70</td>\n",
       "      <td>Yes</td>\n",
       "      <td>NaN</td>\n",
       "      <td>Yes</td>\n",
       "      <td>Yes</td>\n",
       "      <td>NaN</td>\n",
       "      <td>No</td>\n",
       "      <td>Tested positive using home test without a heal...</td>\n",
       "    </tr>\n",
       "    <tr>\n",
       "      <th>10949</th>\n",
       "      <td>California</td>\n",
       "      <td>Female</td>\n",
       "      <td>Fair</td>\n",
       "      <td>5.0</td>\n",
       "      <td>5.0</td>\n",
       "      <td>Within past year (anytime less than 12 months ...</td>\n",
       "      <td>Yes</td>\n",
       "      <td>7.0</td>\n",
       "      <td>None of them</td>\n",
       "      <td>No</td>\n",
       "      <td>...</td>\n",
       "      <td>1.57</td>\n",
       "      <td>68.04</td>\n",
       "      <td>27.44</td>\n",
       "      <td>No</td>\n",
       "      <td>No</td>\n",
       "      <td>Yes</td>\n",
       "      <td>NaN</td>\n",
       "      <td>No, did not receive any tetanus shot in the pa...</td>\n",
       "      <td>No</td>\n",
       "      <td>Yes</td>\n",
       "    </tr>\n",
       "    <tr>\n",
       "      <th>10950</th>\n",
       "      <td>California</td>\n",
       "      <td>Female</td>\n",
       "      <td>Excellent</td>\n",
       "      <td>0.0</td>\n",
       "      <td>2.0</td>\n",
       "      <td>Within past 2 years (1 year but less than 2 ye...</td>\n",
       "      <td>Yes</td>\n",
       "      <td>10.0</td>\n",
       "      <td>None of them</td>\n",
       "      <td>No</td>\n",
       "      <td>...</td>\n",
       "      <td>1.75</td>\n",
       "      <td>58.97</td>\n",
       "      <td>19.20</td>\n",
       "      <td>No</td>\n",
       "      <td>Yes</td>\n",
       "      <td>No</td>\n",
       "      <td>NaN</td>\n",
       "      <td>Yes, received Tdap</td>\n",
       "      <td>No</td>\n",
       "      <td>Yes</td>\n",
       "    </tr>\n",
       "    <tr>\n",
       "      <th>10951</th>\n",
       "      <td>California</td>\n",
       "      <td>Female</td>\n",
       "      <td>Very good</td>\n",
       "      <td>1.0</td>\n",
       "      <td>3.0</td>\n",
       "      <td>Within past year (anytime less than 12 months ...</td>\n",
       "      <td>Yes</td>\n",
       "      <td>8.0</td>\n",
       "      <td>1 to 5</td>\n",
       "      <td>No</td>\n",
       "      <td>...</td>\n",
       "      <td>NaN</td>\n",
       "      <td>77.11</td>\n",
       "      <td>NaN</td>\n",
       "      <td>NaN</td>\n",
       "      <td>NaN</td>\n",
       "      <td>NaN</td>\n",
       "      <td>NaN</td>\n",
       "      <td>NaN</td>\n",
       "      <td>NaN</td>\n",
       "      <td>NaN</td>\n",
       "    </tr>\n",
       "  </tbody>\n",
       "</table>\n",
       "<p>10952 rows × 40 columns</p>\n",
       "</div>"
      ],
      "text/plain": [
       "            State     Sex GeneralHealth  PhysicalHealthDays  MentalHealthDays  \\\n",
       "0      California  Female     Excellent                 NaN               3.0   \n",
       "1      California    Male     Very good                 0.0               0.0   \n",
       "2      California  Female     Very good                 0.0               0.0   \n",
       "3      California  Female          Good                 0.0              30.0   \n",
       "4      California    Male          Good                12.0               0.0   \n",
       "...           ...     ...           ...                 ...               ...   \n",
       "10947  California    Male          Good                 0.0               3.0   \n",
       "10948  California    Male          Good                 0.0               0.0   \n",
       "10949  California  Female          Fair                 5.0               5.0   \n",
       "10950  California  Female     Excellent                 0.0               2.0   \n",
       "10951  California  Female     Very good                 1.0               3.0   \n",
       "\n",
       "                                         LastCheckupTime PhysicalActivities  \\\n",
       "0      Within past year (anytime less than 12 months ...                Yes   \n",
       "1      Within past year (anytime less than 12 months ...                Yes   \n",
       "2      Within past 2 years (1 year but less than 2 ye...                 No   \n",
       "3      Within past year (anytime less than 12 months ...                 No   \n",
       "4      Within past year (anytime less than 12 months ...                Yes   \n",
       "...                                                  ...                ...   \n",
       "10947  Within past year (anytime less than 12 months ...                Yes   \n",
       "10948  Within past year (anytime less than 12 months ...                Yes   \n",
       "10949  Within past year (anytime less than 12 months ...                Yes   \n",
       "10950  Within past 2 years (1 year but less than 2 ye...                Yes   \n",
       "10951  Within past year (anytime less than 12 months ...                Yes   \n",
       "\n",
       "       SleepHours  RemovedTeeth HadHeartAttack  ... HeightInMeters  \\\n",
       "0             7.0  None of them             No  ...           1.60   \n",
       "1             6.0  None of them             No  ...           1.83   \n",
       "2             8.0        1 to 5             No  ...           1.63   \n",
       "3             7.0  None of them             No  ...           1.75   \n",
       "4             8.0  None of them             No  ...           1.73   \n",
       "...           ...           ...            ...  ...            ...   \n",
       "10947         5.0        1 to 5             No  ...           1.83   \n",
       "10948         8.0  None of them             No  ...           1.78   \n",
       "10949         7.0  None of them             No  ...           1.57   \n",
       "10950        10.0  None of them             No  ...           1.75   \n",
       "10951         8.0        1 to 5             No  ...            NaN   \n",
       "\n",
       "      WeightInKilograms    BMI AlcoholDrinkers HIVTesting FluVaxLast12  \\\n",
       "0                 67.13  26.22             Yes         No          Yes   \n",
       "1                 86.18  25.77              No        Yes           No   \n",
       "2                 55.79  21.11              No         No           No   \n",
       "3                 72.57  23.63              No         No           No   \n",
       "4                 65.77  22.05             Yes         No          Yes   \n",
       "...                 ...    ...             ...        ...          ...   \n",
       "10947             65.77  19.67             Yes        Yes           No   \n",
       "10948             90.72  28.70             Yes        NaN          Yes   \n",
       "10949             68.04  27.44              No         No          Yes   \n",
       "10950             58.97  19.20              No        Yes           No   \n",
       "10951             77.11    NaN             NaN        NaN          NaN   \n",
       "\n",
       "      PneumoVaxEver                                  TetanusLast10Tdap  \\\n",
       "0               Yes  No, did not receive any tetanus shot in the pa...   \n",
       "1                No                                 Yes, received Tdap   \n",
       "2               Yes  No, did not receive any tetanus shot in the pa...   \n",
       "3                No  No, did not receive any tetanus shot in the pa...   \n",
       "4               Yes                                                NaN   \n",
       "...             ...                                                ...   \n",
       "10947           Yes                                 Yes, received Tdap   \n",
       "10948           Yes                                                NaN   \n",
       "10949           NaN  No, did not receive any tetanus shot in the pa...   \n",
       "10950           NaN                                 Yes, received Tdap   \n",
       "10951           NaN                                                NaN   \n",
       "\n",
       "      HighRiskLastYear                                           CovidPos  \n",
       "0                   No                                                 No  \n",
       "1                   No                                                 No  \n",
       "2                   No                                                 No  \n",
       "3                   No                                                 No  \n",
       "4                  Yes                                                 No  \n",
       "...                ...                                                ...  \n",
       "10947               No                                                 No  \n",
       "10948               No  Tested positive using home test without a heal...  \n",
       "10949               No                                                Yes  \n",
       "10950               No                                                Yes  \n",
       "10951              NaN                                                NaN  \n",
       "\n",
       "[10952 rows x 40 columns]"
      ]
     },
     "execution_count": 2,
     "metadata": {},
     "output_type": "execute_result"
    }
   ],
   "source": [
    "raw_data = pd.read_csv('../data/data.csv')\n",
    "raw_data"
   ]
  },
  {
   "cell_type": "markdown",
   "id": "91e26287-9ea2-4ac4-8721-54b4a82360e7",
   "metadata": {},
   "source": [
    "## Read data"
   ]
  },
  {
   "cell_type": "code",
   "execution_count": null,
   "id": "9ab4e307-04ba-4f34-a0c8-c02d89449fbf",
   "metadata": {},
   "outputs": [],
   "source": [
    "raw_data = pd.read_csv('../data/data.csv')\n",
    "raw_data"
   ]
  },
  {
   "cell_type": "markdown",
   "id": "424b492c-92c8-4132-9480-03e566b448e7",
   "metadata": {},
   "source": [
    "## How many rows and how many columns does the raw data have?\n",
    "- First, we should find out our dataset contains."
   ]
  },
  {
   "cell_type": "code",
   "execution_count": 3,
   "id": "057f7a44-aa0f-46b4-81db-2ba3315faefd",
   "metadata": {},
   "outputs": [
    {
     "data": {
      "text/plain": [
       "(10952, 40)"
      ]
     },
     "execution_count": 3,
     "metadata": {},
     "output_type": "execute_result"
    }
   ],
   "source": [
    "# Todo\n",
    "raw_data.shape"
   ]
  },
  {
   "cell_type": "markdown",
   "id": "04822f8a-ecd3-4839-94d3-d03b253a307e",
   "metadata": {},
   "source": [
    "We can see in this dataset, there are\n",
    "- `10952 rows`\n",
    "- `40 columns`"
   ]
  },
  {
   "cell_type": "markdown",
   "id": "11071b90-2dce-4506-9851-353c4f4422cf",
   "metadata": {},
   "source": [
    "## What are the meanings of each row?"
   ]
  },
  {
   "cell_type": "markdown",
   "id": "9a3700c7-29e7-4b67-bcb3-ffab064c1115",
   "metadata": {},
   "source": [
    "Each row in the dataset represents the **information of an individual** in the state of **California**, USA. The information includes the state, gender, general health status, number of days affected by physical and mental health, last health checkup time, physical activities, sleep hours, medical history, and other health-related factors."
   ]
  },
  {
   "cell_type": "markdown",
   "id": "fd4d93da-ad8d-43a4-96e1-b41221f44824",
   "metadata": {},
   "source": [
    "## Does the raw data have duplicate rows? "
   ]
  },
  {
   "cell_type": "code",
   "execution_count": 4,
   "id": "81ec2340-de67-487a-b17a-7f1576084fc2",
   "metadata": {},
   "outputs": [
    {
     "name": "stdout",
     "output_type": "stream",
     "text": [
      "Duplicate rows found\n",
      "           State     Sex GeneralHealth  PhysicalHealthDays  MentalHealthDays  \\\n",
      "2341  California    Male     Excellent                 0.0               0.0   \n",
      "3474  California    Male     Excellent                 0.0               0.0   \n",
      "6846  California  Female           NaN                 NaN               NaN   \n",
      "9779  California    Male     Excellent                 0.0               0.0   \n",
      "\n",
      "                                        LastCheckupTime PhysicalActivities  \\\n",
      "2341  Within past year (anytime less than 12 months ...                Yes   \n",
      "3474  Within past year (anytime less than 12 months ...                Yes   \n",
      "6846                                                NaN                NaN   \n",
      "9779  Within past year (anytime less than 12 months ...                Yes   \n",
      "\n",
      "      SleepHours  RemovedTeeth HadHeartAttack  ... HeightInMeters  \\\n",
      "2341         7.0  None of them             No  ...            NaN   \n",
      "3474         7.0  None of them             No  ...            NaN   \n",
      "6846         NaN           NaN            NaN  ...            NaN   \n",
      "9779         7.0  None of them             No  ...            NaN   \n",
      "\n",
      "     WeightInKilograms BMI AlcoholDrinkers HIVTesting FluVaxLast12  \\\n",
      "2341               NaN NaN             NaN        NaN          NaN   \n",
      "3474               NaN NaN             NaN        NaN          NaN   \n",
      "6846               NaN NaN             NaN        NaN          NaN   \n",
      "9779               NaN NaN             NaN        NaN          NaN   \n",
      "\n",
      "     PneumoVaxEver TetanusLast10Tdap HighRiskLastYear CovidPos  \n",
      "2341           NaN               NaN              NaN      NaN  \n",
      "3474           NaN               NaN              NaN      NaN  \n",
      "6846           NaN               NaN              NaN      NaN  \n",
      "9779           NaN               NaN              NaN      NaN  \n",
      "\n",
      "[4 rows x 40 columns]\n"
     ]
    }
   ],
   "source": [
    "# Todo\n",
    "def check_duplicates(data):\n",
    "    duplicate_rows = data[data.duplicated()]\n",
    "    if duplicate_rows.empty:\n",
    "        print('No duplicate rows found')\n",
    "    else:\n",
    "        print('Duplicate rows found')\n",
    "        print(duplicate_rows)\n",
    "    return duplicate_rows\n",
    "duplicates = check_duplicates(raw_data)"
   ]
  },
  {
   "cell_type": "markdown",
   "id": "ffdf9381-2b2a-4066-b78f-29cc0937af5a",
   "metadata": {},
   "source": [
    "In this dataset, there are duplicated rows of data, so we will proceed to remove these rows."
   ]
  },
  {
   "cell_type": "code",
   "execution_count": 5,
   "id": "5faf2b44-9eb7-40e2-bb42-35024afc9bf6",
   "metadata": {},
   "outputs": [
    {
     "name": "stdout",
     "output_type": "stream",
     "text": [
      "No duplicate rows found\n"
     ]
    }
   ],
   "source": [
    "# Remove duplicate rows\n",
    "raw_data = raw_data.drop_duplicates()\n",
    "# Check again\n",
    "duplicate_rows =  check_duplicates(raw_data)"
   ]
  },
  {
   "cell_type": "markdown",
   "id": "1cde0405-9d49-4cb6-819c-a792466b2284",
   "metadata": {},
   "source": [
    "The rows of data that have a significant number of missing attributes will be removed from the dataset."
   ]
  },
  {
   "cell_type": "code",
   "execution_count": 6,
   "id": "43c32dcd-e8c0-4496-89b6-d960bc930521",
   "metadata": {},
   "outputs": [
    {
     "name": "stdout",
     "output_type": "stream",
     "text": [
      "Dropped 76 rows with a significant percentage of missing data.\n"
     ]
    }
   ],
   "source": [
    "threshold = 0.5 # Define the threshold percentage\n",
    "# Calculate the percentage of missing values in each row\n",
    "missing_percentage_row = raw_data.isnull().sum(axis = 1)/raw_data.shape[1]\n",
    "# Check for rows with a significant percentage of missing data\n",
    "rows_with_many_missing_values = raw_data[missing_percentage_row > threshold]\n",
    "# Drop rows with a significant percentage of missing data\n",
    "raw_data = raw_data.drop(rows_with_many_missing_values.index)\n",
    "# Print a message after dropping the rows with a significant percentage of missing data\n",
    "print(f\"Dropped {len(rows_with_many_missing_values)} rows with a significant percentage of missing data.\")"
   ]
  },
  {
   "cell_type": "markdown",
   "id": "5eb3876e-5cc1-47f6-876c-ee7fcb3824e3",
   "metadata": {},
   "source": [
    "## What does each column mean?"
   ]
  },
  {
   "cell_type": "code",
   "execution_count": 7,
   "id": "45638653-f56b-4657-8ea6-e20e1b5f3451",
   "metadata": {},
   "outputs": [
    {
     "data": {
      "text/plain": [
       "Index(['State', 'Sex', 'GeneralHealth', 'PhysicalHealthDays',\n",
       "       'MentalHealthDays', 'LastCheckupTime', 'PhysicalActivities',\n",
       "       'SleepHours', 'RemovedTeeth', 'HadHeartAttack', 'HadAngina',\n",
       "       'HadStroke', 'HadAsthma', 'HadSkinCancer', 'HadCOPD',\n",
       "       'HadDepressiveDisorder', 'HadKidneyDisease', 'HadArthritis',\n",
       "       'HadDiabetes', 'DeafOrHardOfHearing', 'BlindOrVisionDifficulty',\n",
       "       'DifficultyConcentrating', 'DifficultyWalking',\n",
       "       'DifficultyDressingBathing', 'DifficultyErrands', 'SmokerStatus',\n",
       "       'ECigaretteUsage', 'ChestScan', 'RaceEthnicityCategory', 'AgeCategory',\n",
       "       'HeightInMeters', 'WeightInKilograms', 'BMI', 'AlcoholDrinkers',\n",
       "       'HIVTesting', 'FluVaxLast12', 'PneumoVaxEver', 'TetanusLast10Tdap',\n",
       "       'HighRiskLastYear', 'CovidPos'],\n",
       "      dtype='object')"
      ]
     },
     "execution_count": 7,
     "metadata": {},
     "output_type": "execute_result"
    }
   ],
   "source": [
    "raw_data.columns"
   ]
  },
  {
   "cell_type": "markdown",
   "id": "2b8fcd28-696f-451c-aeec-8279131170ab",
   "metadata": {},
   "source": [
    "Describe meaning of each column"
   ]
  },
  {
   "cell_type": "code",
   "execution_count": null,
   "id": "3b72745a-aed0-451b-9f51-a45073c99918",
   "metadata": {},
   "outputs": [],
   "source": []
  },
  {
   "cell_type": "code",
   "execution_count": null,
   "id": "e081b361-1803-47ae-9c30-d402e769f417",
   "metadata": {},
   "outputs": [],
   "source": [
    "col_meaning_df = pd.read_csv('../data/schema.csv')\n",
    "pd.set_option(\"display.max_colwidth\", None)\n",
    "\n",
    "col_meaning_df"
   ]
  },
  {
   "cell_type": "markdown",
   "id": "05f5df0f-5f83-4da0-ad39-9b676f68f1cf",
   "metadata": {},
   "source": [
    "## What data type does each column currently have? Are there any columns whose data types are not suitable for further processing?"
   ]
  },
  {
   "cell_type": "code",
   "execution_count": 8,
   "id": "9a32eed3-a28e-4224-ace1-545f7188f5b8",
   "metadata": {},
   "outputs": [
    {
     "data": {
      "text/plain": [
       "State                         object\n",
       "Sex                           object\n",
       "GeneralHealth                 object\n",
       "PhysicalHealthDays           float64\n",
       "MentalHealthDays             float64\n",
       "LastCheckupTime               object\n",
       "PhysicalActivities            object\n",
       "SleepHours                   float64\n",
       "RemovedTeeth                  object\n",
       "HadHeartAttack                object\n",
       "HadAngina                     object\n",
       "HadStroke                     object\n",
       "HadAsthma                     object\n",
       "HadSkinCancer                 object\n",
       "HadCOPD                       object\n",
       "HadDepressiveDisorder         object\n",
       "HadKidneyDisease              object\n",
       "HadArthritis                  object\n",
       "HadDiabetes                   object\n",
       "DeafOrHardOfHearing           object\n",
       "BlindOrVisionDifficulty       object\n",
       "DifficultyConcentrating       object\n",
       "DifficultyWalking             object\n",
       "DifficultyDressingBathing     object\n",
       "DifficultyErrands             object\n",
       "SmokerStatus                  object\n",
       "ECigaretteUsage               object\n",
       "ChestScan                     object\n",
       "RaceEthnicityCategory         object\n",
       "AgeCategory                   object\n",
       "HeightInMeters               float64\n",
       "WeightInKilograms            float64\n",
       "BMI                          float64\n",
       "AlcoholDrinkers               object\n",
       "HIVTesting                    object\n",
       "FluVaxLast12                  object\n",
       "PneumoVaxEver                 object\n",
       "TetanusLast10Tdap             object\n",
       "HighRiskLastYear              object\n",
       "CovidPos                      object\n",
       "dtype: object"
      ]
     },
     "execution_count": 8,
     "metadata": {},
     "output_type": "execute_result"
    }
   ],
   "source": [
    "raw_data.dtypes"
   ]
  },
  {
   "cell_type": "markdown",
   "id": "a487840d-a042-4d76-9562-8a1c2518ebaa",
   "metadata": {},
   "source": [
    "- In general, the data types of the columns are not unusual, but for convenience in the working process, we will convert the data types of some columns and drop unnecessary columns."
   ]
  },
  {
   "cell_type": "markdown",
   "id": "03396e66-9371-43eb-8a63-b429f3fb2896",
   "metadata": {},
   "source": [
    "With each numerical column, how are values distributed?\n",
    "- What is the percentage of missing values?\n",
    "- If there are missing values, handle them.\n",
    "- Min? max? Are they abnormal?\n",
    "- Missing value treatment."
   ]
  },
  {
   "cell_type": "markdown",
   "id": "0b49d41a-1c5a-41f1-8988-38248950bf1f",
   "metadata": {},
   "source": [
    "### Select numeric columns"
   ]
  },
  {
   "cell_type": "code",
   "execution_count": null,
   "id": "f5e415f3-de42-4253-a52f-85d3bae9288a",
   "metadata": {},
   "outputs": [],
   "source": [
    "num_col_df = raw_data.select_dtypes(include='float64')\n",
    "num_col_df"
   ]
  },
  {
   "cell_type": "markdown",
   "id": "ded49ba4-8fa6-460b-9046-aa5e421be225",
   "metadata": {},
   "source": [
    "### Explore the distribution using descriptive statistics",
    "With each numerical column, how are values distributed?\n",
    "- What is the percentage of missing values?\n",
    "- If there are missing values, handle them.\n",
    "- Min? max? Are they abnormal?\n",
    "- Missing value treatment"
   ]
  },
  {
   "cell_type": "code",
   "execution_count": null,
   "id": "a0191612-f0e8-4b86-a036-e0f142a556e0",
   "metadata": {},
   "outputs": [],
   "source": [
    "def missing_ratio(col):\n",
    "    return (col.isna().sum() * 100 / len(col)).round(1)\n",
    "\n",
    "def lower_quartile(col):\n",
    "    return col.quantile(0.25).round(1)\n",
    "\n",
    "def upper_quartile(col):\n",
    "    return col.quantile(0.75).round(1)\n",
    "\n",
    "num_col_info_df = num_col_df.agg([missing_ratio, 'min', lower_quartile, 'median', upper_quartile, 'max'])\n",
    "num_col_info_df"
   ]
  },
  {
   "cell_type": "markdown",
   "id": "2e18ba15-ca56-4a35-961d-9b3fa85e600e",
   "metadata": {},
   "source": [
    "**Observation:**\n",
    "- The percentage of missing values of each numeric column is low so we won't drop any of these columns. Instead, we try to handle these missing values.\n",
    "- The minimum and maximum values of each numeric column are within normal ranges:\n",
    "    - There are no negative numbers.\n",
    "    - PhysicalHealthDays and MentalHealthDays both have values equal or less than 30.\n",
    "    - SleepHours have values equal or less than 24.\n",
    "    - Three remaining columns also have reasonable values.\n",
    "- Based on upper-quartile values and max values, we can see PhysicalHealthDays, MentalHealthDays, SleepHours, WeightInKilograms and BMI have right-skewed distributions as upper-quartile values are far from max values.\n",
    "- Because of that, we will fill missing values in these columns with the median (an indicator that is insensitive with outliers)."
   ]
  },
  {
   "cell_type": "markdown",
   "id": "982a6261-f615-4bb5-a0a0-48f9f6b57d64",
   "metadata": {},
   "source": [
    "### Visualize missing ratio"
   ]
  },
  {
   "cell_type": "code",
   "execution_count": null,
   "id": "9b5b10d4-d35b-4841-8f8b-192e85537128",
   "metadata": {},
   "outputs": [],
   "source": [
    "data = num_col_info_df.loc['missing_ratio']\n",
    "fig = px.bar(x=data.index, y=data.values, width=1000, height=500, labels={'x': 'Numeric column', 'y': 'Percentage(%)'}, \n",
    "             title='Missing ratio of numeric columns')\n",
    "fig.show()"
   ]
  },
  {
   "cell_type": "markdown",
   "id": "77c65963-3e42-4eee-8f59-d8cf5c1037b9",
   "metadata": {},
   "source": [
    "### Handle missing values"
   ]
  },
  {
   "cell_type": "code",
   "execution_count": null,
   "id": "67bf4409-4558-4089-b25e-19973ad599c7",
   "metadata": {},
   "outputs": [],
   "source": [
    "raw_data[num_col_df.columns] = raw_data[num_col_df.columns].fillna(num_col_df.median())"
   ]
  },
  {
   "cell_type": "markdown",
   "id": "e55621cd-97e4-415b-ac0f-1957e44e77d3",
   "metadata": {},
   "source": [
    "After handling missing values, we will check missing-ratio again to ensure that we have handle missing values successfully."
   ]
  },
  {
   "cell_type": "code",
   "execution_count": null,
   "id": "1c1107e7-fc57-4e5f-a046-15f9a79bee10",
   "metadata": {},
   "outputs": [],
   "source": [
    "non_nan_num_cols = raw_data[num_col_df.columns] \n",
    "non_nan_num_col_info_df = non_nan_num_cols.agg([missing_ratio, 'min', lower_quartile, 'median', upper_quartile, 'max'])\n",
    "non_nan_num_col_info_df"
   ]
  },
  {
   "cell_type": "markdown",
   "id": "a9f22569-8836-441c-a1b4-6f6f6a81e06c",
   "metadata": {},
   "source": [
    "Now there are no missing values. "
   ]
  },
  {
   "cell_type": "markdown",
   "id": "5b36f1d0-5c88-45cb-bf90-ef7e2550fdbd",
   "metadata": {},
   "source": [
    "### Visualize the distribution "
   ]
  },
  {
   "cell_type": "markdown",
   "id": "c6867ae7-584f-4be2-91fa-9daecbe2da37",
   "metadata": {},
   "source": [
    "We will use **histogram** to visualize the distributions of numeric columns and provide insights we can gain from them."
   ]
  },
  {
   "cell_type": "code",
   "execution_count": null,
   "id": "a930a6db-0f59-41c4-bce0-c9216bb19250",
   "metadata": {},
   "outputs": [],
   "source": [
    "fig, axes = plt.subplots(2, 3, figsize=(14, 6))\n",
    "axes = axes.flatten()\n",
    "plt.subplots_adjust(hspace=0.4)\n",
    "\n",
    "bin_nums = [10, 10, 23, 20, 20, 20]\n",
    "for i in range(len(axes)):\n",
    "    axes[i].hist(raw_data[non_nan_num_cols.columns[i]], bins=bin_nums[i])\n",
    "    axes[i].set_title(non_nan_num_cols.columns[i]);"
   ]
  },
  {
   "cell_type": "markdown",
   "id": "2c6900c0-df96-4c38-a019-3109a0f4b6c1",
   "metadata": {},
   "source": [
    "**Observation**:\n",
    "- The physical health of people in California is generally good, as most of them experienced physical health problems for less than 6 days.\n",
    "- The number of people experiencing mental health problems for more than 6 days is quite higher than that of physical health problems. It can be observed that mental health problems often persist for a longer duration compared to physical health problems.\n",
    "- The distribution of the SleepHours column is narrow, indicating that most people in California have average sleep hours around 6 to 9 hours per day, which is good for health.\n",
    "- The height of people in California is various, but focused mainly in the range of 1.5 to 1.85 meters.\n",
    "- Similarly, the weight and BMI are primarily centered in the range of 50 to 112 kilograms and 20 to 35."
   ]
  },
  {
   "cell_type": "markdown",
   "id": "896639aa-5643-4ece-87a4-a62549da4222",
   "metadata": {},
   "source": [
    "### Handle outliers"
   ]
  },
  {
   "cell_type": "markdown",
   "id": "cc152c47-b0ad-4759-89bb-a17dcb58ca14",
   "metadata": {},
   "source": [
    "First, we will see if there are any outliers in numerical columns."
   ]
  },
  {
   "cell_type": "code",
   "execution_count": null,
   "id": "317de949-0efa-4ad6-b190-7f106d257959",
   "metadata": {},
   "outputs": [],
   "source": [
    "fig, axes = plt.subplots(2, 3, figsize=(14, 6))\n",
    "axes = axes.flatten()\n",
    "plt.subplots_adjust(hspace=0.3)\n",
    "\n",
    "non_nan_num_cols = raw_data[num_col_df.columns]\n",
    "for i in range(len(axes)):\n",
    "    axes[i].boxplot(non_nan_num_cols.iloc[:, i]);\n",
    "    axes[i].set_title(non_nan_num_cols.columns[i])"
   ]
  },
  {
   "cell_type": "markdown",
   "id": "89d4fa4c-32ad-4310-b0a1-0370fac0a9c7",
   "metadata": {},
   "source": [
    "**With each catagorical column, how are values distributed?**"
   ]
  },
  {
   "cell_type": "markdown",
   "id": "ac919299-605b-4e70-88ad-fbdbab379dad",
   "metadata": {},
   "source": [
    "- What is the percentage of missing values?"
   ]
  },
  {
   "cell_type": "markdown",
   "id": "da9cc3ea-cee0-459c-821c-2c28c1042877",
   "metadata": {},
   "source": [
    "*Select catagorical columns*"
   ]
  },
  {
   "cell_type": "code",
   "execution_count": null,
   "id": "dfb3b9e5-0014-4fa4-988b-9d2fbef89a4d",
   "metadata": {},
   "outputs": [],
   "source": [
    "# Select catagorical columns in data\n",
    "cat_col_df = raw_data.select_dtypes(include = ['object'])\n",
    "cat_col_df.head(5)"
   ]
  },
  {
   "cell_type": "code",
   "execution_count": null,
   "id": "45909799-9805-48a6-95ff-5d56820fc98d",
   "metadata": {},
   "outputs": [],
   "source": [
    "# Function \n",
    "def missing_ratio(col):\n",
    "    return (col.isnull().mean()*100).round(2)\n",
    "\n",
    "# Calculate missing ratio for catagorical columns\n",
    "cat_missing_ratio = cat_col_df.agg(missing_ratio)\n",
    "# Print the result\n",
    "print(\"The percentage of missing values:\")\n",
    "for col, ratio in cat_missing_ratio.items():\n",
    "    print(f\"- {col}: {ratio}%\")"
   ]
  },
  {
   "cell_type": "markdown",
   "id": "572da5fb-a32e-464b-9d55-f345ba6fa5b8",
   "metadata": {},
   "source": [
    "*Visualize missing ratio of catagorical columns*"
   ]
  },
  {
   "cell_type": "code",
   "execution_count": null,
   "id": "faed633d-418a-403b-964b-7328488acb9e",
   "metadata": {},
   "outputs": [],
   "source": [
    "cat_missing_ratio_df = pd.DataFrame({'Column': cat_missing_ratio.index, 'Missing Ratio (%)': cat_missing_ratio.values})\n",
    "fig = px.bar(cat_missing_ratio_df, x = cat_missing_ratio_df['Missing Ratio (%)'], y = 'Column', \n",
    "             title = 'Missing Ratio of Catagorical Columns', range_x= (0, 100),\n",
    "             text = 'Missing Ratio (%)')\n",
    "fig.update_layout(height=800, width=800)\n",
    "fig.show()"
   ]
  },
  {
   "cell_type": "markdown",
   "id": "f5bda73e-65a8-403a-8d96-7adfa2a0a0f0",
   "metadata": {},
   "source": [
    "**Observation:**\n",
    "- The missing value ratio of each catagorical column is quite low, so we will keep the columns and handle the missing values."
   ]
  },
  {
   "cell_type": "markdown",
   "id": "9596c6ef-1ebf-48a2-b86a-b215e4e9ac7f",
   "metadata": {},
   "source": [
    "- How many different values? Are they abnormal?"
   ]
  },
  {
   "cell_type": "code",
   "execution_count": null,
   "id": "65e52924-ac89-4edc-aac8-e7c8af0d7198",
   "metadata": {},
   "outputs": [],
   "source": [
    "cat_col_info_df = cat_col_df.agg([missing_ratio, num_values, value_ratios])\n",
    "cat_col_info_df"
   ]
  },
  {
   "cell_type": "markdown",
   "id": "3d9184fe-de49-4aeb-9ccc-1fa48a143d04",
   "metadata": {},
   "source": [
    "## Outliers detection"
   ]
  },
  {
   "cell_type": "code",
   "execution_count": null,
   "id": "33a5cf9c-eba3-40c7-aef8-b2284525b4a9",
   "metadata": {},
   "outputs": [],
   "source": []
  }
 ],
 "metadata": {
  "kernelspec": {
   "display_name": "Python 3 (ipykernel)",
   "language": "python",
   "name": "python3"
  },
  "language_info": {
   "codemirror_mode": {
    "name": "ipython",
    "version": 3
   },
   "file_extension": ".py",
   "mimetype": "text/x-python",
   "name": "python",
   "nbconvert_exporter": "python",
   "pygments_lexer": "ipython3",
   "version": "3.10.8"
  }
 },
 "nbformat": 4,
 "nbformat_minor": 5
}
