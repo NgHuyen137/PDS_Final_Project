{
 "cells": [
  {
   "cell_type": "markdown",
   "id": "a4ea10a3",
   "metadata": {},
   "source": [
    "<div style=\"text-align: center; background-color: #5A96E3; font-family: 'Trebuchet MS', Arial, sans-serif; color: white; padding: 20px; font-size: 40px; font-weight: bold; border-radius: 0 0 0 0; box-shadow: 0px 6px 8px rgba(0, 0, 0, 0.2);\">\n",
    "  Stage 02 - Exploratory Data Analysis\n",
    "</div>"
   ]
  },
  {
   "cell_type": "markdown",
   "id": "2d5b5cdb-7725-4d07-be64-d61c99473824",
   "metadata": {},
   "source": [
    "# 1. Import libraries"
   ]
  },
  {
   "cell_type": "code",
   "execution_count": 1,
   "id": "79a58cc3-94d4-4738-9e9a-9c1e8f1b1418",
   "metadata": {},
   "outputs": [],
   "source": [
    "import pandas as pd\n",
    "import numpy as np\n",
    "\n",
    "import plotly.express as px\n",
    "import matplotlib.pyplot as plt\n",
    "import seaborn as sn"
   ]
  },
  {
   "cell_type": "markdown",
   "id": "257a7930-06e2-429f-9921-734ee3d7fd78",
   "metadata": {},
   "source": [
    "# 2. Read data"
   ]
  },
  {
   "cell_type": "code",
   "execution_count": 2,
   "id": "2b8cbff4-9006-43f0-bb8b-52314a40c78f",
   "metadata": {},
   "outputs": [
    {
     "data": {
      "text/html": [
       "<div>\n",
       "<style scoped>\n",
       "    .dataframe tbody tr th:only-of-type {\n",
       "        vertical-align: middle;\n",
       "    }\n",
       "\n",
       "    .dataframe tbody tr th {\n",
       "        vertical-align: top;\n",
       "    }\n",
       "\n",
       "    .dataframe thead th {\n",
       "        text-align: right;\n",
       "    }\n",
       "</style>\n",
       "<table border=\"1\" class=\"dataframe\">\n",
       "  <thead>\n",
       "    <tr style=\"text-align: right;\">\n",
       "      <th></th>\n",
       "      <th>Sex</th>\n",
       "      <th>GeneralHealth</th>\n",
       "      <th>PhysicalHealthDays</th>\n",
       "      <th>MentalHealthDays</th>\n",
       "      <th>LastCheckupTime</th>\n",
       "      <th>PhysicalActivities</th>\n",
       "      <th>SleepHours</th>\n",
       "      <th>RemovedTeeth</th>\n",
       "      <th>HadHeartAttack</th>\n",
       "      <th>HadAngina</th>\n",
       "      <th>...</th>\n",
       "      <th>DifficultyErrands</th>\n",
       "      <th>SmokerStatus</th>\n",
       "      <th>ECigaretteUsage</th>\n",
       "      <th>ChestScan</th>\n",
       "      <th>RaceEthnicityCategory</th>\n",
       "      <th>AgeCategory</th>\n",
       "      <th>HeightInMeters</th>\n",
       "      <th>WeightInKilograms</th>\n",
       "      <th>BMI</th>\n",
       "      <th>AlcoholDrinkers</th>\n",
       "    </tr>\n",
       "  </thead>\n",
       "  <tbody>\n",
       "    <tr>\n",
       "      <th>0</th>\n",
       "      <td>Female</td>\n",
       "      <td>Excellent</td>\n",
       "      <td>0.0</td>\n",
       "      <td>3.0</td>\n",
       "      <td>Within past year (anytime less than 12 months ...</td>\n",
       "      <td>Yes</td>\n",
       "      <td>7.0</td>\n",
       "      <td>None of them</td>\n",
       "      <td>No</td>\n",
       "      <td>No</td>\n",
       "      <td>...</td>\n",
       "      <td>No</td>\n",
       "      <td>Never smoked</td>\n",
       "      <td>Never used e-cigarettes in my entire life</td>\n",
       "      <td>No</td>\n",
       "      <td>White only, Non-Hispanic</td>\n",
       "      <td>Age 70 to 74</td>\n",
       "      <td>1.60</td>\n",
       "      <td>67.13</td>\n",
       "      <td>26.22</td>\n",
       "      <td>Yes</td>\n",
       "    </tr>\n",
       "    <tr>\n",
       "      <th>1</th>\n",
       "      <td>Male</td>\n",
       "      <td>Very good</td>\n",
       "      <td>0.0</td>\n",
       "      <td>0.0</td>\n",
       "      <td>Within past year (anytime less than 12 months ...</td>\n",
       "      <td>Yes</td>\n",
       "      <td>6.0</td>\n",
       "      <td>None of them</td>\n",
       "      <td>No</td>\n",
       "      <td>No</td>\n",
       "      <td>...</td>\n",
       "      <td>No</td>\n",
       "      <td>Never smoked</td>\n",
       "      <td>Never used e-cigarettes in my entire life</td>\n",
       "      <td>No</td>\n",
       "      <td>Hispanic</td>\n",
       "      <td>Age 40 to 44</td>\n",
       "      <td>1.83</td>\n",
       "      <td>86.18</td>\n",
       "      <td>25.77</td>\n",
       "      <td>No</td>\n",
       "    </tr>\n",
       "    <tr>\n",
       "      <th>2</th>\n",
       "      <td>Female</td>\n",
       "      <td>Very good</td>\n",
       "      <td>0.0</td>\n",
       "      <td>0.0</td>\n",
       "      <td>Within past 2 years (1 year but less than 2 ye...</td>\n",
       "      <td>No</td>\n",
       "      <td>8.0</td>\n",
       "      <td>1 to 5</td>\n",
       "      <td>No</td>\n",
       "      <td>No</td>\n",
       "      <td>...</td>\n",
       "      <td>No</td>\n",
       "      <td>Never smoked</td>\n",
       "      <td>Never used e-cigarettes in my entire life</td>\n",
       "      <td>No</td>\n",
       "      <td>White only, Non-Hispanic</td>\n",
       "      <td>Age 75 to 79</td>\n",
       "      <td>1.63</td>\n",
       "      <td>55.79</td>\n",
       "      <td>21.11</td>\n",
       "      <td>No</td>\n",
       "    </tr>\n",
       "    <tr>\n",
       "      <th>3</th>\n",
       "      <td>Female</td>\n",
       "      <td>Good</td>\n",
       "      <td>0.0</td>\n",
       "      <td>30.0</td>\n",
       "      <td>Within past year (anytime less than 12 months ...</td>\n",
       "      <td>No</td>\n",
       "      <td>7.0</td>\n",
       "      <td>None of them</td>\n",
       "      <td>No</td>\n",
       "      <td>No</td>\n",
       "      <td>...</td>\n",
       "      <td>No</td>\n",
       "      <td>Never smoked</td>\n",
       "      <td>Never used e-cigarettes in my entire life</td>\n",
       "      <td>No</td>\n",
       "      <td>Black only, Non-Hispanic</td>\n",
       "      <td>Age 80 or older</td>\n",
       "      <td>1.75</td>\n",
       "      <td>72.57</td>\n",
       "      <td>23.63</td>\n",
       "      <td>No</td>\n",
       "    </tr>\n",
       "    <tr>\n",
       "      <th>4</th>\n",
       "      <td>Male</td>\n",
       "      <td>Good</td>\n",
       "      <td>12.0</td>\n",
       "      <td>0.0</td>\n",
       "      <td>Within past year (anytime less than 12 months ...</td>\n",
       "      <td>Yes</td>\n",
       "      <td>8.0</td>\n",
       "      <td>None of them</td>\n",
       "      <td>No</td>\n",
       "      <td>No</td>\n",
       "      <td>...</td>\n",
       "      <td>No</td>\n",
       "      <td>Former smoker</td>\n",
       "      <td>Never used e-cigarettes in my entire life</td>\n",
       "      <td>No</td>\n",
       "      <td>White only, Non-Hispanic</td>\n",
       "      <td>Age 75 to 79</td>\n",
       "      <td>1.73</td>\n",
       "      <td>65.77</td>\n",
       "      <td>22.05</td>\n",
       "      <td>Yes</td>\n",
       "    </tr>\n",
       "    <tr>\n",
       "      <th>...</th>\n",
       "      <td>...</td>\n",
       "      <td>...</td>\n",
       "      <td>...</td>\n",
       "      <td>...</td>\n",
       "      <td>...</td>\n",
       "      <td>...</td>\n",
       "      <td>...</td>\n",
       "      <td>...</td>\n",
       "      <td>...</td>\n",
       "      <td>...</td>\n",
       "      <td>...</td>\n",
       "      <td>...</td>\n",
       "      <td>...</td>\n",
       "      <td>...</td>\n",
       "      <td>...</td>\n",
       "      <td>...</td>\n",
       "      <td>...</td>\n",
       "      <td>...</td>\n",
       "      <td>...</td>\n",
       "      <td>...</td>\n",
       "      <td>...</td>\n",
       "    </tr>\n",
       "    <tr>\n",
       "      <th>7652</th>\n",
       "      <td>Female</td>\n",
       "      <td>Fair</td>\n",
       "      <td>5.0</td>\n",
       "      <td>0.0</td>\n",
       "      <td>Within past year (anytime less than 12 months ...</td>\n",
       "      <td>Yes</td>\n",
       "      <td>9.0</td>\n",
       "      <td>None of them</td>\n",
       "      <td>No</td>\n",
       "      <td>No</td>\n",
       "      <td>...</td>\n",
       "      <td>No</td>\n",
       "      <td>Former smoker</td>\n",
       "      <td>Never used e-cigarettes in my entire life</td>\n",
       "      <td>No</td>\n",
       "      <td>White only, Non-Hispanic</td>\n",
       "      <td>Age 60 to 64</td>\n",
       "      <td>1.63</td>\n",
       "      <td>79.38</td>\n",
       "      <td>30.04</td>\n",
       "      <td>Yes</td>\n",
       "    </tr>\n",
       "    <tr>\n",
       "      <th>7653</th>\n",
       "      <td>Male</td>\n",
       "      <td>Good</td>\n",
       "      <td>0.0</td>\n",
       "      <td>3.0</td>\n",
       "      <td>Within past year (anytime less than 12 months ...</td>\n",
       "      <td>Yes</td>\n",
       "      <td>5.0</td>\n",
       "      <td>1 to 5</td>\n",
       "      <td>No</td>\n",
       "      <td>No</td>\n",
       "      <td>...</td>\n",
       "      <td>No</td>\n",
       "      <td>Current smoker - now smokes some days</td>\n",
       "      <td>Use them every day</td>\n",
       "      <td>Yes</td>\n",
       "      <td>White only, Non-Hispanic</td>\n",
       "      <td>Age 30 to 34</td>\n",
       "      <td>1.83</td>\n",
       "      <td>65.77</td>\n",
       "      <td>19.67</td>\n",
       "      <td>Yes</td>\n",
       "    </tr>\n",
       "    <tr>\n",
       "      <th>7654</th>\n",
       "      <td>Male</td>\n",
       "      <td>Good</td>\n",
       "      <td>0.0</td>\n",
       "      <td>0.0</td>\n",
       "      <td>Within past year (anytime less than 12 months ...</td>\n",
       "      <td>Yes</td>\n",
       "      <td>8.0</td>\n",
       "      <td>None of them</td>\n",
       "      <td>No</td>\n",
       "      <td>Yes</td>\n",
       "      <td>...</td>\n",
       "      <td>No</td>\n",
       "      <td>Former smoker</td>\n",
       "      <td>Never used e-cigarettes in my entire life</td>\n",
       "      <td>Yes</td>\n",
       "      <td>White only, Non-Hispanic</td>\n",
       "      <td>Age 70 to 74</td>\n",
       "      <td>1.78</td>\n",
       "      <td>90.72</td>\n",
       "      <td>28.70</td>\n",
       "      <td>Yes</td>\n",
       "    </tr>\n",
       "    <tr>\n",
       "      <th>7655</th>\n",
       "      <td>Female</td>\n",
       "      <td>Fair</td>\n",
       "      <td>5.0</td>\n",
       "      <td>5.0</td>\n",
       "      <td>Within past year (anytime less than 12 months ...</td>\n",
       "      <td>Yes</td>\n",
       "      <td>7.0</td>\n",
       "      <td>None of them</td>\n",
       "      <td>No</td>\n",
       "      <td>No</td>\n",
       "      <td>...</td>\n",
       "      <td>No</td>\n",
       "      <td>Never smoked</td>\n",
       "      <td>Not at all (right now)</td>\n",
       "      <td>No</td>\n",
       "      <td>Hispanic</td>\n",
       "      <td>Age 18 to 24</td>\n",
       "      <td>1.57</td>\n",
       "      <td>68.04</td>\n",
       "      <td>27.44</td>\n",
       "      <td>No</td>\n",
       "    </tr>\n",
       "    <tr>\n",
       "      <th>7656</th>\n",
       "      <td>Female</td>\n",
       "      <td>Excellent</td>\n",
       "      <td>0.0</td>\n",
       "      <td>2.0</td>\n",
       "      <td>Within past 2 years (1 year but less than 2 ye...</td>\n",
       "      <td>Yes</td>\n",
       "      <td>10.0</td>\n",
       "      <td>None of them</td>\n",
       "      <td>No</td>\n",
       "      <td>No</td>\n",
       "      <td>...</td>\n",
       "      <td>No</td>\n",
       "      <td>Former smoker</td>\n",
       "      <td>Use them every day</td>\n",
       "      <td>No</td>\n",
       "      <td>White only, Non-Hispanic</td>\n",
       "      <td>Age 18 to 24</td>\n",
       "      <td>1.75</td>\n",
       "      <td>58.97</td>\n",
       "      <td>19.20</td>\n",
       "      <td>No</td>\n",
       "    </tr>\n",
       "  </tbody>\n",
       "</table>\n",
       "<p>7657 rows × 33 columns</p>\n",
       "</div>"
      ],
      "text/plain": [
       "         Sex GeneralHealth  PhysicalHealthDays  MentalHealthDays  \\\n",
       "0     Female     Excellent                 0.0               3.0   \n",
       "1       Male     Very good                 0.0               0.0   \n",
       "2     Female     Very good                 0.0               0.0   \n",
       "3     Female          Good                 0.0              30.0   \n",
       "4       Male          Good                12.0               0.0   \n",
       "...      ...           ...                 ...               ...   \n",
       "7652  Female          Fair                 5.0               0.0   \n",
       "7653    Male          Good                 0.0               3.0   \n",
       "7654    Male          Good                 0.0               0.0   \n",
       "7655  Female          Fair                 5.0               5.0   \n",
       "7656  Female     Excellent                 0.0               2.0   \n",
       "\n",
       "                                        LastCheckupTime PhysicalActivities  \\\n",
       "0     Within past year (anytime less than 12 months ...                Yes   \n",
       "1     Within past year (anytime less than 12 months ...                Yes   \n",
       "2     Within past 2 years (1 year but less than 2 ye...                 No   \n",
       "3     Within past year (anytime less than 12 months ...                 No   \n",
       "4     Within past year (anytime less than 12 months ...                Yes   \n",
       "...                                                 ...                ...   \n",
       "7652  Within past year (anytime less than 12 months ...                Yes   \n",
       "7653  Within past year (anytime less than 12 months ...                Yes   \n",
       "7654  Within past year (anytime less than 12 months ...                Yes   \n",
       "7655  Within past year (anytime less than 12 months ...                Yes   \n",
       "7656  Within past 2 years (1 year but less than 2 ye...                Yes   \n",
       "\n",
       "      SleepHours  RemovedTeeth HadHeartAttack HadAngina  ...  \\\n",
       "0            7.0  None of them             No        No  ...   \n",
       "1            6.0  None of them             No        No  ...   \n",
       "2            8.0        1 to 5             No        No  ...   \n",
       "3            7.0  None of them             No        No  ...   \n",
       "4            8.0  None of them             No        No  ...   \n",
       "...          ...           ...            ...       ...  ...   \n",
       "7652         9.0  None of them             No        No  ...   \n",
       "7653         5.0        1 to 5             No        No  ...   \n",
       "7654         8.0  None of them             No       Yes  ...   \n",
       "7655         7.0  None of them             No        No  ...   \n",
       "7656        10.0  None of them             No        No  ...   \n",
       "\n",
       "     DifficultyErrands                           SmokerStatus  \\\n",
       "0                   No                           Never smoked   \n",
       "1                   No                           Never smoked   \n",
       "2                   No                           Never smoked   \n",
       "3                   No                           Never smoked   \n",
       "4                   No                          Former smoker   \n",
       "...                ...                                    ...   \n",
       "7652                No                          Former smoker   \n",
       "7653                No  Current smoker - now smokes some days   \n",
       "7654                No                          Former smoker   \n",
       "7655                No                           Never smoked   \n",
       "7656                No                          Former smoker   \n",
       "\n",
       "                                ECigaretteUsage ChestScan  \\\n",
       "0     Never used e-cigarettes in my entire life        No   \n",
       "1     Never used e-cigarettes in my entire life        No   \n",
       "2     Never used e-cigarettes in my entire life        No   \n",
       "3     Never used e-cigarettes in my entire life        No   \n",
       "4     Never used e-cigarettes in my entire life        No   \n",
       "...                                         ...       ...   \n",
       "7652  Never used e-cigarettes in my entire life        No   \n",
       "7653                         Use them every day       Yes   \n",
       "7654  Never used e-cigarettes in my entire life       Yes   \n",
       "7655                     Not at all (right now)        No   \n",
       "7656                         Use them every day        No   \n",
       "\n",
       "         RaceEthnicityCategory      AgeCategory HeightInMeters  \\\n",
       "0     White only, Non-Hispanic     Age 70 to 74           1.60   \n",
       "1                     Hispanic     Age 40 to 44           1.83   \n",
       "2     White only, Non-Hispanic     Age 75 to 79           1.63   \n",
       "3     Black only, Non-Hispanic  Age 80 or older           1.75   \n",
       "4     White only, Non-Hispanic     Age 75 to 79           1.73   \n",
       "...                        ...              ...            ...   \n",
       "7652  White only, Non-Hispanic     Age 60 to 64           1.63   \n",
       "7653  White only, Non-Hispanic     Age 30 to 34           1.83   \n",
       "7654  White only, Non-Hispanic     Age 70 to 74           1.78   \n",
       "7655                  Hispanic     Age 18 to 24           1.57   \n",
       "7656  White only, Non-Hispanic     Age 18 to 24           1.75   \n",
       "\n",
       "     WeightInKilograms    BMI AlcoholDrinkers  \n",
       "0                67.13  26.22             Yes  \n",
       "1                86.18  25.77              No  \n",
       "2                55.79  21.11              No  \n",
       "3                72.57  23.63              No  \n",
       "4                65.77  22.05             Yes  \n",
       "...                ...    ...             ...  \n",
       "7652             79.38  30.04             Yes  \n",
       "7653             65.77  19.67             Yes  \n",
       "7654             90.72  28.70             Yes  \n",
       "7655             68.04  27.44              No  \n",
       "7656             58.97  19.20              No  \n",
       "\n",
       "[7657 rows x 33 columns]"
      ]
     },
     "execution_count": 2,
     "metadata": {},
     "output_type": "execute_result"
    }
   ],
   "source": [
    "cleaned_data = pd.read_csv('../data/cleaned_data.csv')\n",
    "cleaned_data"
   ]
  },
  {
   "cell_type": "markdown",
   "id": "1608c5bd-068c-4943-9c76-5098e23879d2",
   "metadata": {},
   "source": [
    "# 3. Questions"
   ]
  },
  {
   "cell_type": "markdown",
   "id": "97395738-07c6-4d61-8eca-025b8b1c2b41",
   "metadata": {},
   "source": [
    "## Question 1: Which indicators can affect heart attack most?"
   ]
  },
  {
   "cell_type": "markdown",
   "id": "df1b503e-07b2-4cbf-aef4-1a7b419c1500",
   "metadata": {},
   "source": [
    "- **Purpose:** Understanding the factors that can influence the occurrence of a heart attack empowers us to take preventative measures and adjust our daily routines to mitigate these risk factors. \n",
    "- **How to answer:**\n",
    "    - Select all people that have heart attack (the value of the `HadHeartAttack` column is equal to `Yes`).\n",
    "    - Choose appropriate columns, we will choose all columns having only `Yes, No` values and three columns having multiple values `HadDiabetes, SmokerStatus, ECigaretteUsage`.\n",
    "    - Preprocess columns having multiple values so that these columns only have `Yes, No` values.\n",
    "    - Calculate the percentage of `Yes or No` values based on the meanings of the columns."
   ]
  },
  {
   "cell_type": "markdown",
   "id": "b729dfae-5367-4f60-8425-30a713e6dbb8",
   "metadata": {},
   "source": [
    "### Preprocessing"
   ]
  },
  {
   "cell_type": "markdown",
   "id": "f7a1287d-4be4-4897-bfa3-6addfabe0d5e",
   "metadata": {},
   "source": [
    "**Preprocess columns having multiple values**"
   ]
  },
  {
   "cell_type": "markdown",
   "id": "38535031-0ae8-4463-9627-3fc0a69330af",
   "metadata": {},
   "source": [
    "First, we will check the unique values of these columns."
   ]
  },
  {
   "cell_type": "code",
   "execution_count": 5,
   "id": "cf59c2fc-8c6d-49a5-914c-b0130dc4eb67",
   "metadata": {},
   "outputs": [
    {
     "name": "stdout",
     "output_type": "stream",
     "text": [
      "No                                         189\n",
      "Yes                                         93\n",
      "No, pre-diabetes or borderline diabetes     15\n",
      "Yes, but only during pregnancy (female)      1\n",
      "Name: HadDiabetes, dtype: int64\n",
      "================================================\n",
      "Never smoked                             150\n",
      "Former smoker                            102\n",
      "Current smoker - now smokes every day     27\n",
      "Current smoker - now smokes some days     19\n",
      "Name: SmokerStatus, dtype: int64\n",
      "================================================\n",
      "Never used e-cigarettes in my entire life    210\n",
      "Not at all (right now)                        75\n",
      "Use them some days                             8\n",
      "Use them every day                             5\n",
      "Name: ECigaretteUsage, dtype: int64\n"
     ]
    }
   ],
   "source": [
    "heart_attack_df = cleaned_data[cleaned_data['HadHeartAttack'] == 'Yes']\n",
    "\n",
    "print(heart_attack_df['HadDiabetes'].value_counts())\n",
    "print('================================================')\n",
    "print(heart_attack_df['SmokerStatus'].value_counts())\n",
    "print('================================================')\n",
    "print(heart_attack_df['ECigaretteUsage'].value_counts())"
   ]
  },
  {
   "cell_type": "markdown",
   "id": "a0300b3c-1d36-4ff9-9927-eda9ebab275a",
   "metadata": {},
   "source": [
    "Then, we convert these unique values to only `Yes No` values."
   ]
  },
  {
   "cell_type": "code",
   "execution_count": 6,
   "id": "dc27e383-aa52-449d-b44a-82497d500723",
   "metadata": {},
   "outputs": [
    {
     "data": {
      "text/html": [
       "<div>\n",
       "<style scoped>\n",
       "    .dataframe tbody tr th:only-of-type {\n",
       "        vertical-align: middle;\n",
       "    }\n",
       "\n",
       "    .dataframe tbody tr th {\n",
       "        vertical-align: top;\n",
       "    }\n",
       "\n",
       "    .dataframe thead th {\n",
       "        text-align: right;\n",
       "    }\n",
       "</style>\n",
       "<table border=\"1\" class=\"dataframe\">\n",
       "  <thead>\n",
       "    <tr style=\"text-align: right;\">\n",
       "      <th></th>\n",
       "      <th>Sex</th>\n",
       "      <th>GeneralHealth</th>\n",
       "      <th>PhysicalHealthDays</th>\n",
       "      <th>MentalHealthDays</th>\n",
       "      <th>LastCheckupTime</th>\n",
       "      <th>PhysicalActivities</th>\n",
       "      <th>SleepHours</th>\n",
       "      <th>RemovedTeeth</th>\n",
       "      <th>HadHeartAttack</th>\n",
       "      <th>HadAngina</th>\n",
       "      <th>...</th>\n",
       "      <th>DifficultyErrands</th>\n",
       "      <th>SmokerStatus</th>\n",
       "      <th>ECigaretteUsage</th>\n",
       "      <th>ChestScan</th>\n",
       "      <th>RaceEthnicityCategory</th>\n",
       "      <th>AgeCategory</th>\n",
       "      <th>HeightInMeters</th>\n",
       "      <th>WeightInKilograms</th>\n",
       "      <th>BMI</th>\n",
       "      <th>AlcoholDrinkers</th>\n",
       "    </tr>\n",
       "  </thead>\n",
       "  <tbody>\n",
       "    <tr>\n",
       "      <th>0</th>\n",
       "      <td>Female</td>\n",
       "      <td>Excellent</td>\n",
       "      <td>0.0</td>\n",
       "      <td>3.0</td>\n",
       "      <td>Within past year (anytime less than 12 months ...</td>\n",
       "      <td>Yes</td>\n",
       "      <td>7.0</td>\n",
       "      <td>None of them</td>\n",
       "      <td>No</td>\n",
       "      <td>No</td>\n",
       "      <td>...</td>\n",
       "      <td>No</td>\n",
       "      <td>No</td>\n",
       "      <td>No</td>\n",
       "      <td>No</td>\n",
       "      <td>White only, Non-Hispanic</td>\n",
       "      <td>Age 70 to 74</td>\n",
       "      <td>1.60</td>\n",
       "      <td>67.13</td>\n",
       "      <td>26.22</td>\n",
       "      <td>Yes</td>\n",
       "    </tr>\n",
       "    <tr>\n",
       "      <th>1</th>\n",
       "      <td>Male</td>\n",
       "      <td>Very good</td>\n",
       "      <td>0.0</td>\n",
       "      <td>0.0</td>\n",
       "      <td>Within past year (anytime less than 12 months ...</td>\n",
       "      <td>Yes</td>\n",
       "      <td>6.0</td>\n",
       "      <td>None of them</td>\n",
       "      <td>No</td>\n",
       "      <td>No</td>\n",
       "      <td>...</td>\n",
       "      <td>No</td>\n",
       "      <td>No</td>\n",
       "      <td>No</td>\n",
       "      <td>No</td>\n",
       "      <td>Hispanic</td>\n",
       "      <td>Age 40 to 44</td>\n",
       "      <td>1.83</td>\n",
       "      <td>86.18</td>\n",
       "      <td>25.77</td>\n",
       "      <td>No</td>\n",
       "    </tr>\n",
       "    <tr>\n",
       "      <th>2</th>\n",
       "      <td>Female</td>\n",
       "      <td>Very good</td>\n",
       "      <td>0.0</td>\n",
       "      <td>0.0</td>\n",
       "      <td>Within past 2 years (1 year but less than 2 ye...</td>\n",
       "      <td>No</td>\n",
       "      <td>8.0</td>\n",
       "      <td>1 to 5</td>\n",
       "      <td>No</td>\n",
       "      <td>No</td>\n",
       "      <td>...</td>\n",
       "      <td>No</td>\n",
       "      <td>No</td>\n",
       "      <td>No</td>\n",
       "      <td>No</td>\n",
       "      <td>White only, Non-Hispanic</td>\n",
       "      <td>Age 75 to 79</td>\n",
       "      <td>1.63</td>\n",
       "      <td>55.79</td>\n",
       "      <td>21.11</td>\n",
       "      <td>No</td>\n",
       "    </tr>\n",
       "    <tr>\n",
       "      <th>3</th>\n",
       "      <td>Female</td>\n",
       "      <td>Good</td>\n",
       "      <td>0.0</td>\n",
       "      <td>30.0</td>\n",
       "      <td>Within past year (anytime less than 12 months ...</td>\n",
       "      <td>No</td>\n",
       "      <td>7.0</td>\n",
       "      <td>None of them</td>\n",
       "      <td>No</td>\n",
       "      <td>No</td>\n",
       "      <td>...</td>\n",
       "      <td>No</td>\n",
       "      <td>No</td>\n",
       "      <td>No</td>\n",
       "      <td>No</td>\n",
       "      <td>Black only, Non-Hispanic</td>\n",
       "      <td>Age 80 or older</td>\n",
       "      <td>1.75</td>\n",
       "      <td>72.57</td>\n",
       "      <td>23.63</td>\n",
       "      <td>No</td>\n",
       "    </tr>\n",
       "    <tr>\n",
       "      <th>4</th>\n",
       "      <td>Male</td>\n",
       "      <td>Good</td>\n",
       "      <td>12.0</td>\n",
       "      <td>0.0</td>\n",
       "      <td>Within past year (anytime less than 12 months ...</td>\n",
       "      <td>Yes</td>\n",
       "      <td>8.0</td>\n",
       "      <td>None of them</td>\n",
       "      <td>No</td>\n",
       "      <td>No</td>\n",
       "      <td>...</td>\n",
       "      <td>No</td>\n",
       "      <td>Yes</td>\n",
       "      <td>No</td>\n",
       "      <td>No</td>\n",
       "      <td>White only, Non-Hispanic</td>\n",
       "      <td>Age 75 to 79</td>\n",
       "      <td>1.73</td>\n",
       "      <td>65.77</td>\n",
       "      <td>22.05</td>\n",
       "      <td>Yes</td>\n",
       "    </tr>\n",
       "    <tr>\n",
       "      <th>...</th>\n",
       "      <td>...</td>\n",
       "      <td>...</td>\n",
       "      <td>...</td>\n",
       "      <td>...</td>\n",
       "      <td>...</td>\n",
       "      <td>...</td>\n",
       "      <td>...</td>\n",
       "      <td>...</td>\n",
       "      <td>...</td>\n",
       "      <td>...</td>\n",
       "      <td>...</td>\n",
       "      <td>...</td>\n",
       "      <td>...</td>\n",
       "      <td>...</td>\n",
       "      <td>...</td>\n",
       "      <td>...</td>\n",
       "      <td>...</td>\n",
       "      <td>...</td>\n",
       "      <td>...</td>\n",
       "      <td>...</td>\n",
       "      <td>...</td>\n",
       "    </tr>\n",
       "    <tr>\n",
       "      <th>7652</th>\n",
       "      <td>Female</td>\n",
       "      <td>Fair</td>\n",
       "      <td>5.0</td>\n",
       "      <td>0.0</td>\n",
       "      <td>Within past year (anytime less than 12 months ...</td>\n",
       "      <td>Yes</td>\n",
       "      <td>9.0</td>\n",
       "      <td>None of them</td>\n",
       "      <td>No</td>\n",
       "      <td>No</td>\n",
       "      <td>...</td>\n",
       "      <td>No</td>\n",
       "      <td>Yes</td>\n",
       "      <td>No</td>\n",
       "      <td>No</td>\n",
       "      <td>White only, Non-Hispanic</td>\n",
       "      <td>Age 60 to 64</td>\n",
       "      <td>1.63</td>\n",
       "      <td>79.38</td>\n",
       "      <td>30.04</td>\n",
       "      <td>Yes</td>\n",
       "    </tr>\n",
       "    <tr>\n",
       "      <th>7653</th>\n",
       "      <td>Male</td>\n",
       "      <td>Good</td>\n",
       "      <td>0.0</td>\n",
       "      <td>3.0</td>\n",
       "      <td>Within past year (anytime less than 12 months ...</td>\n",
       "      <td>Yes</td>\n",
       "      <td>5.0</td>\n",
       "      <td>1 to 5</td>\n",
       "      <td>No</td>\n",
       "      <td>No</td>\n",
       "      <td>...</td>\n",
       "      <td>No</td>\n",
       "      <td>Yes</td>\n",
       "      <td>Yes</td>\n",
       "      <td>Yes</td>\n",
       "      <td>White only, Non-Hispanic</td>\n",
       "      <td>Age 30 to 34</td>\n",
       "      <td>1.83</td>\n",
       "      <td>65.77</td>\n",
       "      <td>19.67</td>\n",
       "      <td>Yes</td>\n",
       "    </tr>\n",
       "    <tr>\n",
       "      <th>7654</th>\n",
       "      <td>Male</td>\n",
       "      <td>Good</td>\n",
       "      <td>0.0</td>\n",
       "      <td>0.0</td>\n",
       "      <td>Within past year (anytime less than 12 months ...</td>\n",
       "      <td>Yes</td>\n",
       "      <td>8.0</td>\n",
       "      <td>None of them</td>\n",
       "      <td>No</td>\n",
       "      <td>Yes</td>\n",
       "      <td>...</td>\n",
       "      <td>No</td>\n",
       "      <td>Yes</td>\n",
       "      <td>No</td>\n",
       "      <td>Yes</td>\n",
       "      <td>White only, Non-Hispanic</td>\n",
       "      <td>Age 70 to 74</td>\n",
       "      <td>1.78</td>\n",
       "      <td>90.72</td>\n",
       "      <td>28.70</td>\n",
       "      <td>Yes</td>\n",
       "    </tr>\n",
       "    <tr>\n",
       "      <th>7655</th>\n",
       "      <td>Female</td>\n",
       "      <td>Fair</td>\n",
       "      <td>5.0</td>\n",
       "      <td>5.0</td>\n",
       "      <td>Within past year (anytime less than 12 months ...</td>\n",
       "      <td>Yes</td>\n",
       "      <td>7.0</td>\n",
       "      <td>None of them</td>\n",
       "      <td>No</td>\n",
       "      <td>No</td>\n",
       "      <td>...</td>\n",
       "      <td>No</td>\n",
       "      <td>No</td>\n",
       "      <td>No</td>\n",
       "      <td>No</td>\n",
       "      <td>Hispanic</td>\n",
       "      <td>Age 18 to 24</td>\n",
       "      <td>1.57</td>\n",
       "      <td>68.04</td>\n",
       "      <td>27.44</td>\n",
       "      <td>No</td>\n",
       "    </tr>\n",
       "    <tr>\n",
       "      <th>7656</th>\n",
       "      <td>Female</td>\n",
       "      <td>Excellent</td>\n",
       "      <td>0.0</td>\n",
       "      <td>2.0</td>\n",
       "      <td>Within past 2 years (1 year but less than 2 ye...</td>\n",
       "      <td>Yes</td>\n",
       "      <td>10.0</td>\n",
       "      <td>None of them</td>\n",
       "      <td>No</td>\n",
       "      <td>No</td>\n",
       "      <td>...</td>\n",
       "      <td>No</td>\n",
       "      <td>Yes</td>\n",
       "      <td>Yes</td>\n",
       "      <td>No</td>\n",
       "      <td>White only, Non-Hispanic</td>\n",
       "      <td>Age 18 to 24</td>\n",
       "      <td>1.75</td>\n",
       "      <td>58.97</td>\n",
       "      <td>19.20</td>\n",
       "      <td>No</td>\n",
       "    </tr>\n",
       "  </tbody>\n",
       "</table>\n",
       "<p>7657 rows × 33 columns</p>\n",
       "</div>"
      ],
      "text/plain": [
       "         Sex GeneralHealth  PhysicalHealthDays  MentalHealthDays  \\\n",
       "0     Female     Excellent                 0.0               3.0   \n",
       "1       Male     Very good                 0.0               0.0   \n",
       "2     Female     Very good                 0.0               0.0   \n",
       "3     Female          Good                 0.0              30.0   \n",
       "4       Male          Good                12.0               0.0   \n",
       "...      ...           ...                 ...               ...   \n",
       "7652  Female          Fair                 5.0               0.0   \n",
       "7653    Male          Good                 0.0               3.0   \n",
       "7654    Male          Good                 0.0               0.0   \n",
       "7655  Female          Fair                 5.0               5.0   \n",
       "7656  Female     Excellent                 0.0               2.0   \n",
       "\n",
       "                                        LastCheckupTime PhysicalActivities  \\\n",
       "0     Within past year (anytime less than 12 months ...                Yes   \n",
       "1     Within past year (anytime less than 12 months ...                Yes   \n",
       "2     Within past 2 years (1 year but less than 2 ye...                 No   \n",
       "3     Within past year (anytime less than 12 months ...                 No   \n",
       "4     Within past year (anytime less than 12 months ...                Yes   \n",
       "...                                                 ...                ...   \n",
       "7652  Within past year (anytime less than 12 months ...                Yes   \n",
       "7653  Within past year (anytime less than 12 months ...                Yes   \n",
       "7654  Within past year (anytime less than 12 months ...                Yes   \n",
       "7655  Within past year (anytime less than 12 months ...                Yes   \n",
       "7656  Within past 2 years (1 year but less than 2 ye...                Yes   \n",
       "\n",
       "      SleepHours  RemovedTeeth HadHeartAttack HadAngina  ...  \\\n",
       "0            7.0  None of them             No        No  ...   \n",
       "1            6.0  None of them             No        No  ...   \n",
       "2            8.0        1 to 5             No        No  ...   \n",
       "3            7.0  None of them             No        No  ...   \n",
       "4            8.0  None of them             No        No  ...   \n",
       "...          ...           ...            ...       ...  ...   \n",
       "7652         9.0  None of them             No        No  ...   \n",
       "7653         5.0        1 to 5             No        No  ...   \n",
       "7654         8.0  None of them             No       Yes  ...   \n",
       "7655         7.0  None of them             No        No  ...   \n",
       "7656        10.0  None of them             No        No  ...   \n",
       "\n",
       "     DifficultyErrands SmokerStatus ECigaretteUsage ChestScan  \\\n",
       "0                   No           No              No        No   \n",
       "1                   No           No              No        No   \n",
       "2                   No           No              No        No   \n",
       "3                   No           No              No        No   \n",
       "4                   No          Yes              No        No   \n",
       "...                ...          ...             ...       ...   \n",
       "7652                No          Yes              No        No   \n",
       "7653                No          Yes             Yes       Yes   \n",
       "7654                No          Yes              No       Yes   \n",
       "7655                No           No              No        No   \n",
       "7656                No          Yes             Yes        No   \n",
       "\n",
       "         RaceEthnicityCategory      AgeCategory HeightInMeters  \\\n",
       "0     White only, Non-Hispanic     Age 70 to 74           1.60   \n",
       "1                     Hispanic     Age 40 to 44           1.83   \n",
       "2     White only, Non-Hispanic     Age 75 to 79           1.63   \n",
       "3     Black only, Non-Hispanic  Age 80 or older           1.75   \n",
       "4     White only, Non-Hispanic     Age 75 to 79           1.73   \n",
       "...                        ...              ...            ...   \n",
       "7652  White only, Non-Hispanic     Age 60 to 64           1.63   \n",
       "7653  White only, Non-Hispanic     Age 30 to 34           1.83   \n",
       "7654  White only, Non-Hispanic     Age 70 to 74           1.78   \n",
       "7655                  Hispanic     Age 18 to 24           1.57   \n",
       "7656  White only, Non-Hispanic     Age 18 to 24           1.75   \n",
       "\n",
       "     WeightInKilograms    BMI AlcoholDrinkers  \n",
       "0                67.13  26.22             Yes  \n",
       "1                86.18  25.77              No  \n",
       "2                55.79  21.11              No  \n",
       "3                72.57  23.63              No  \n",
       "4                65.77  22.05             Yes  \n",
       "...                ...    ...             ...  \n",
       "7652             79.38  30.04             Yes  \n",
       "7653             65.77  19.67             Yes  \n",
       "7654             90.72  28.70             Yes  \n",
       "7655             68.04  27.44              No  \n",
       "7656             58.97  19.20              No  \n",
       "\n",
       "[7657 rows x 33 columns]"
      ]
     },
     "execution_count": 6,
     "metadata": {},
     "output_type": "execute_result"
    }
   ],
   "source": [
    "cleaned_data_copy = cleaned_data.copy()\n",
    "\n",
    "cleaned_data_copy['HadDiabetes'] = cleaned_data_copy['HadDiabetes'].replace(['Yes, but only during pregnancy (female)', \n",
    "                                                                             'No, pre-diabetes or borderline diabetes'], ['Yes', 'Yes'])\n",
    "\n",
    "cleaned_data_copy['SmokerStatus'] = cleaned_data_copy['SmokerStatus'].replace(['Never smoked', 'Former smoker', \n",
    "                                                                               'Current smoker - now smokes every day', \n",
    "                                                                               'Current smoker - now smokes some days'], \n",
    "                                                                              ['No', 'Yes', 'Yes', 'Yes'])\n",
    "\n",
    "cleaned_data_copy['ECigaretteUsage'] = cleaned_data_copy['ECigaretteUsage'].replace(['Never used e-cigarettes in my entire life', \n",
    "                                                                                     'Not at all (right now)', 'Use them some days', \n",
    "                                                                                     'Use them every day'], ['No', 'No', 'Yes', 'Yes'])\n",
    "cleaned_data_copy"
   ]
  },
  {
   "cell_type": "markdown",
   "id": "dffc1ac4-b694-4c66-b70e-8e40cbcfebd5",
   "metadata": {},
   "source": [
    "**Select rows having `HadHeartAttack = Yes`**"
   ]
  },
  {
   "cell_type": "code",
   "execution_count": 7,
   "id": "8c2d8e07-27fd-4877-a9a8-08e4804cba26",
   "metadata": {},
   "outputs": [],
   "source": [
    "heart_attack_df = cleaned_data_copy[cleaned_data_copy['HadHeartAttack'] == 'Yes']"
   ]
  },
  {
   "cell_type": "markdown",
   "id": "f68752db-212a-4d31-a1a0-bd4e32b6eedb",
   "metadata": {},
   "source": [
    "Calculate the probability a person has heart attack under the condition he/she has one of the indicators that we think might lead to heart attack."
   ]
  },
  {
   "cell_type": "code",
   "execution_count": 8,
   "id": "a8532646-ba20-4cb8-9336-3f11b7447b41",
   "metadata": {},
   "outputs": [],
   "source": [
    "# Select columns having only yes and no values\n",
    "yes_no_cols = heart_attack_df.columns[(heart_attack_df.isin(['Yes', 'No']).all()) & (heart_attack_df.columns != 'HadHeartAttack')]\n",
    "\n",
    "# Seperate yes_no_cols into two different lists\n",
    "# no_cols: a list containing all columns' names that we will use only No value\n",
    "# yes_cols: a list containing all columns' names that we will use only Yes value\n",
    "no_cols = ['PhysicalActivities', 'ChestScan']\n",
    "yes_cols = yes_no_cols[~yes_no_cols.isin(no_cols)]\n",
    "\n",
    "def count_yes(col):\n",
    "    counts = col.value_counts()\n",
    "    return counts['Yes']\n",
    "\n",
    "def count_no(col):\n",
    "    counts = col.value_counts()\n",
    "    return counts['No']\n",
    "\n",
    "# Calculate conditional probability\n",
    " # The number of people has the particular indicator\n",
    "num_yes = cleaned_data_copy[yes_cols].agg(count_yes)\n",
    "num_no = cleaned_data_copy[no_cols].agg(count_no)\n",
    "num_has_indicator = pd.concat([num_yes, num_no])\n",
    "\n",
    "# The number of people has both the particular indicator and heart attack\n",
    "num_yes = heart_attack_df[yes_cols].agg(count_yes)\n",
    "num_no = heart_attack_df[no_cols].agg(count_no)\n",
    "num_has_indicator_heart_attack = pd.concat([num_yes, num_no])\n",
    "\n",
    "prop_heart_attack_under_indicator = (num_has_indicator_heart_attack * 100 / num_has_indicator).round(2)\n",
    "prop_heart_attack_under_indicator = prop_heart_attack_under_indicator.sort_values()"
   ]
  },
  {
   "cell_type": "markdown",
   "id": "d59c95bc-d29c-40b4-b906-dac721edc0b9",
   "metadata": {},
   "source": [
    "### Visualization"
   ]
  },
  {
   "cell_type": "code",
   "execution_count": 12,
   "id": "e011d449-5161-4158-b293-78b0e62a351f",
   "metadata": {},
   "outputs": [
    {
     "data": {
      "application/vnd.plotly.v1+json": {
       "config": {
        "plotlyServerURL": "https://plot.ly"
       },
       "data": [
        {
         "alignmentgroup": "True",
         "hovertemplate": "Probability(%)=%{x}<br>Indicators=%{y}<extra></extra>",
         "legendgroup": "",
         "marker": {
          "color": "#636efa",
          "pattern": {
           "shape": ""
          }
         },
         "name": "",
         "offsetgroup": "",
         "orientation": "h",
         "showlegend": false,
         "textposition": "auto",
         "type": "bar",
         "x": [
          1.62,
          2.48,
          2.88,
          4.65,
          5.38,
          5.46,
          5.88,
          6.08,
          6.31,
          8.32,
          9.47,
          9.64,
          10.26,
          10.71,
          12.99,
          13.56,
          14.45,
          16.18,
          24.9,
          42.66
         ],
         "xaxis": "x",
         "y": [
          "ChestScan",
          "ECigaretteUsage",
          "AlcoholDrinkers",
          "HadDepressiveDisorder",
          "PhysicalActivities",
          "HadAsthma",
          "SmokerStatus",
          "DifficultyConcentrating",
          "HadSkinCancer",
          "HadArthritis",
          "BlindOrVisionDifficulty",
          "HadDiabetes",
          "DeafOrHardOfHearing",
          "DifficultyErrands",
          "DifficultyWalking",
          "HadCOPD",
          "DifficultyDressingBathing",
          "HadKidneyDisease",
          "HadStroke",
          "HadAngina"
         ],
         "yaxis": "y"
        }
       ],
       "layout": {
        "barmode": "relative",
        "height": 800,
        "legend": {
         "tracegroupgap": 0
        },
        "template": {
         "data": {
          "bar": [
           {
            "error_x": {
             "color": "#2a3f5f"
            },
            "error_y": {
             "color": "#2a3f5f"
            },
            "marker": {
             "line": {
              "color": "#E5ECF6",
              "width": 0.5
             },
             "pattern": {
              "fillmode": "overlay",
              "size": 10,
              "solidity": 0.2
             }
            },
            "type": "bar"
           }
          ],
          "barpolar": [
           {
            "marker": {
             "line": {
              "color": "#E5ECF6",
              "width": 0.5
             },
             "pattern": {
              "fillmode": "overlay",
              "size": 10,
              "solidity": 0.2
             }
            },
            "type": "barpolar"
           }
          ],
          "carpet": [
           {
            "aaxis": {
             "endlinecolor": "#2a3f5f",
             "gridcolor": "white",
             "linecolor": "white",
             "minorgridcolor": "white",
             "startlinecolor": "#2a3f5f"
            },
            "baxis": {
             "endlinecolor": "#2a3f5f",
             "gridcolor": "white",
             "linecolor": "white",
             "minorgridcolor": "white",
             "startlinecolor": "#2a3f5f"
            },
            "type": "carpet"
           }
          ],
          "choropleth": [
           {
            "colorbar": {
             "outlinewidth": 0,
             "ticks": ""
            },
            "type": "choropleth"
           }
          ],
          "contour": [
           {
            "colorbar": {
             "outlinewidth": 0,
             "ticks": ""
            },
            "colorscale": [
             [
              0,
              "#0d0887"
             ],
             [
              0.1111111111111111,
              "#46039f"
             ],
             [
              0.2222222222222222,
              "#7201a8"
             ],
             [
              0.3333333333333333,
              "#9c179e"
             ],
             [
              0.4444444444444444,
              "#bd3786"
             ],
             [
              0.5555555555555556,
              "#d8576b"
             ],
             [
              0.6666666666666666,
              "#ed7953"
             ],
             [
              0.7777777777777778,
              "#fb9f3a"
             ],
             [
              0.8888888888888888,
              "#fdca26"
             ],
             [
              1,
              "#f0f921"
             ]
            ],
            "type": "contour"
           }
          ],
          "contourcarpet": [
           {
            "colorbar": {
             "outlinewidth": 0,
             "ticks": ""
            },
            "type": "contourcarpet"
           }
          ],
          "heatmap": [
           {
            "colorbar": {
             "outlinewidth": 0,
             "ticks": ""
            },
            "colorscale": [
             [
              0,
              "#0d0887"
             ],
             [
              0.1111111111111111,
              "#46039f"
             ],
             [
              0.2222222222222222,
              "#7201a8"
             ],
             [
              0.3333333333333333,
              "#9c179e"
             ],
             [
              0.4444444444444444,
              "#bd3786"
             ],
             [
              0.5555555555555556,
              "#d8576b"
             ],
             [
              0.6666666666666666,
              "#ed7953"
             ],
             [
              0.7777777777777778,
              "#fb9f3a"
             ],
             [
              0.8888888888888888,
              "#fdca26"
             ],
             [
              1,
              "#f0f921"
             ]
            ],
            "type": "heatmap"
           }
          ],
          "heatmapgl": [
           {
            "colorbar": {
             "outlinewidth": 0,
             "ticks": ""
            },
            "colorscale": [
             [
              0,
              "#0d0887"
             ],
             [
              0.1111111111111111,
              "#46039f"
             ],
             [
              0.2222222222222222,
              "#7201a8"
             ],
             [
              0.3333333333333333,
              "#9c179e"
             ],
             [
              0.4444444444444444,
              "#bd3786"
             ],
             [
              0.5555555555555556,
              "#d8576b"
             ],
             [
              0.6666666666666666,
              "#ed7953"
             ],
             [
              0.7777777777777778,
              "#fb9f3a"
             ],
             [
              0.8888888888888888,
              "#fdca26"
             ],
             [
              1,
              "#f0f921"
             ]
            ],
            "type": "heatmapgl"
           }
          ],
          "histogram": [
           {
            "marker": {
             "pattern": {
              "fillmode": "overlay",
              "size": 10,
              "solidity": 0.2
             }
            },
            "type": "histogram"
           }
          ],
          "histogram2d": [
           {
            "colorbar": {
             "outlinewidth": 0,
             "ticks": ""
            },
            "colorscale": [
             [
              0,
              "#0d0887"
             ],
             [
              0.1111111111111111,
              "#46039f"
             ],
             [
              0.2222222222222222,
              "#7201a8"
             ],
             [
              0.3333333333333333,
              "#9c179e"
             ],
             [
              0.4444444444444444,
              "#bd3786"
             ],
             [
              0.5555555555555556,
              "#d8576b"
             ],
             [
              0.6666666666666666,
              "#ed7953"
             ],
             [
              0.7777777777777778,
              "#fb9f3a"
             ],
             [
              0.8888888888888888,
              "#fdca26"
             ],
             [
              1,
              "#f0f921"
             ]
            ],
            "type": "histogram2d"
           }
          ],
          "histogram2dcontour": [
           {
            "colorbar": {
             "outlinewidth": 0,
             "ticks": ""
            },
            "colorscale": [
             [
              0,
              "#0d0887"
             ],
             [
              0.1111111111111111,
              "#46039f"
             ],
             [
              0.2222222222222222,
              "#7201a8"
             ],
             [
              0.3333333333333333,
              "#9c179e"
             ],
             [
              0.4444444444444444,
              "#bd3786"
             ],
             [
              0.5555555555555556,
              "#d8576b"
             ],
             [
              0.6666666666666666,
              "#ed7953"
             ],
             [
              0.7777777777777778,
              "#fb9f3a"
             ],
             [
              0.8888888888888888,
              "#fdca26"
             ],
             [
              1,
              "#f0f921"
             ]
            ],
            "type": "histogram2dcontour"
           }
          ],
          "mesh3d": [
           {
            "colorbar": {
             "outlinewidth": 0,
             "ticks": ""
            },
            "type": "mesh3d"
           }
          ],
          "parcoords": [
           {
            "line": {
             "colorbar": {
              "outlinewidth": 0,
              "ticks": ""
             }
            },
            "type": "parcoords"
           }
          ],
          "pie": [
           {
            "automargin": true,
            "type": "pie"
           }
          ],
          "scatter": [
           {
            "fillpattern": {
             "fillmode": "overlay",
             "size": 10,
             "solidity": 0.2
            },
            "type": "scatter"
           }
          ],
          "scatter3d": [
           {
            "line": {
             "colorbar": {
              "outlinewidth": 0,
              "ticks": ""
             }
            },
            "marker": {
             "colorbar": {
              "outlinewidth": 0,
              "ticks": ""
             }
            },
            "type": "scatter3d"
           }
          ],
          "scattercarpet": [
           {
            "marker": {
             "colorbar": {
              "outlinewidth": 0,
              "ticks": ""
             }
            },
            "type": "scattercarpet"
           }
          ],
          "scattergeo": [
           {
            "marker": {
             "colorbar": {
              "outlinewidth": 0,
              "ticks": ""
             }
            },
            "type": "scattergeo"
           }
          ],
          "scattergl": [
           {
            "marker": {
             "colorbar": {
              "outlinewidth": 0,
              "ticks": ""
             }
            },
            "type": "scattergl"
           }
          ],
          "scattermapbox": [
           {
            "marker": {
             "colorbar": {
              "outlinewidth": 0,
              "ticks": ""
             }
            },
            "type": "scattermapbox"
           }
          ],
          "scatterpolar": [
           {
            "marker": {
             "colorbar": {
              "outlinewidth": 0,
              "ticks": ""
             }
            },
            "type": "scatterpolar"
           }
          ],
          "scatterpolargl": [
           {
            "marker": {
             "colorbar": {
              "outlinewidth": 0,
              "ticks": ""
             }
            },
            "type": "scatterpolargl"
           }
          ],
          "scatterternary": [
           {
            "marker": {
             "colorbar": {
              "outlinewidth": 0,
              "ticks": ""
             }
            },
            "type": "scatterternary"
           }
          ],
          "surface": [
           {
            "colorbar": {
             "outlinewidth": 0,
             "ticks": ""
            },
            "colorscale": [
             [
              0,
              "#0d0887"
             ],
             [
              0.1111111111111111,
              "#46039f"
             ],
             [
              0.2222222222222222,
              "#7201a8"
             ],
             [
              0.3333333333333333,
              "#9c179e"
             ],
             [
              0.4444444444444444,
              "#bd3786"
             ],
             [
              0.5555555555555556,
              "#d8576b"
             ],
             [
              0.6666666666666666,
              "#ed7953"
             ],
             [
              0.7777777777777778,
              "#fb9f3a"
             ],
             [
              0.8888888888888888,
              "#fdca26"
             ],
             [
              1,
              "#f0f921"
             ]
            ],
            "type": "surface"
           }
          ],
          "table": [
           {
            "cells": {
             "fill": {
              "color": "#EBF0F8"
             },
             "line": {
              "color": "white"
             }
            },
            "header": {
             "fill": {
              "color": "#C8D4E3"
             },
             "line": {
              "color": "white"
             }
            },
            "type": "table"
           }
          ]
         },
         "layout": {
          "annotationdefaults": {
           "arrowcolor": "#2a3f5f",
           "arrowhead": 0,
           "arrowwidth": 1
          },
          "autotypenumbers": "strict",
          "coloraxis": {
           "colorbar": {
            "outlinewidth": 0,
            "ticks": ""
           }
          },
          "colorscale": {
           "diverging": [
            [
             0,
             "#8e0152"
            ],
            [
             0.1,
             "#c51b7d"
            ],
            [
             0.2,
             "#de77ae"
            ],
            [
             0.3,
             "#f1b6da"
            ],
            [
             0.4,
             "#fde0ef"
            ],
            [
             0.5,
             "#f7f7f7"
            ],
            [
             0.6,
             "#e6f5d0"
            ],
            [
             0.7,
             "#b8e186"
            ],
            [
             0.8,
             "#7fbc41"
            ],
            [
             0.9,
             "#4d9221"
            ],
            [
             1,
             "#276419"
            ]
           ],
           "sequential": [
            [
             0,
             "#0d0887"
            ],
            [
             0.1111111111111111,
             "#46039f"
            ],
            [
             0.2222222222222222,
             "#7201a8"
            ],
            [
             0.3333333333333333,
             "#9c179e"
            ],
            [
             0.4444444444444444,
             "#bd3786"
            ],
            [
             0.5555555555555556,
             "#d8576b"
            ],
            [
             0.6666666666666666,
             "#ed7953"
            ],
            [
             0.7777777777777778,
             "#fb9f3a"
            ],
            [
             0.8888888888888888,
             "#fdca26"
            ],
            [
             1,
             "#f0f921"
            ]
           ],
           "sequentialminus": [
            [
             0,
             "#0d0887"
            ],
            [
             0.1111111111111111,
             "#46039f"
            ],
            [
             0.2222222222222222,
             "#7201a8"
            ],
            [
             0.3333333333333333,
             "#9c179e"
            ],
            [
             0.4444444444444444,
             "#bd3786"
            ],
            [
             0.5555555555555556,
             "#d8576b"
            ],
            [
             0.6666666666666666,
             "#ed7953"
            ],
            [
             0.7777777777777778,
             "#fb9f3a"
            ],
            [
             0.8888888888888888,
             "#fdca26"
            ],
            [
             1,
             "#f0f921"
            ]
           ]
          },
          "colorway": [
           "#636efa",
           "#EF553B",
           "#00cc96",
           "#ab63fa",
           "#FFA15A",
           "#19d3f3",
           "#FF6692",
           "#B6E880",
           "#FF97FF",
           "#FECB52"
          ],
          "font": {
           "color": "#2a3f5f"
          },
          "geo": {
           "bgcolor": "white",
           "lakecolor": "white",
           "landcolor": "#E5ECF6",
           "showlakes": true,
           "showland": true,
           "subunitcolor": "white"
          },
          "hoverlabel": {
           "align": "left"
          },
          "hovermode": "closest",
          "mapbox": {
           "style": "light"
          },
          "paper_bgcolor": "white",
          "plot_bgcolor": "#E5ECF6",
          "polar": {
           "angularaxis": {
            "gridcolor": "white",
            "linecolor": "white",
            "ticks": ""
           },
           "bgcolor": "#E5ECF6",
           "radialaxis": {
            "gridcolor": "white",
            "linecolor": "white",
            "ticks": ""
           }
          },
          "scene": {
           "xaxis": {
            "backgroundcolor": "#E5ECF6",
            "gridcolor": "white",
            "gridwidth": 2,
            "linecolor": "white",
            "showbackground": true,
            "ticks": "",
            "zerolinecolor": "white"
           },
           "yaxis": {
            "backgroundcolor": "#E5ECF6",
            "gridcolor": "white",
            "gridwidth": 2,
            "linecolor": "white",
            "showbackground": true,
            "ticks": "",
            "zerolinecolor": "white"
           },
           "zaxis": {
            "backgroundcolor": "#E5ECF6",
            "gridcolor": "white",
            "gridwidth": 2,
            "linecolor": "white",
            "showbackground": true,
            "ticks": "",
            "zerolinecolor": "white"
           }
          },
          "shapedefaults": {
           "line": {
            "color": "#2a3f5f"
           }
          },
          "ternary": {
           "aaxis": {
            "gridcolor": "white",
            "linecolor": "white",
            "ticks": ""
           },
           "baxis": {
            "gridcolor": "white",
            "linecolor": "white",
            "ticks": ""
           },
           "bgcolor": "#E5ECF6",
           "caxis": {
            "gridcolor": "white",
            "linecolor": "white",
            "ticks": ""
           }
          },
          "title": {
           "x": 0.05
          },
          "xaxis": {
           "automargin": true,
           "gridcolor": "white",
           "linecolor": "white",
           "ticks": "",
           "title": {
            "standoff": 15
           },
           "zerolinecolor": "white",
           "zerolinewidth": 2
          },
          "yaxis": {
           "automargin": true,
           "gridcolor": "white",
           "linecolor": "white",
           "ticks": "",
           "title": {
            "standoff": 15
           },
           "zerolinecolor": "white",
           "zerolinewidth": 2
          }
         }
        },
        "title": {
         "text": "Probability a person has heart attack under an indicator"
        },
        "width": 800,
        "xaxis": {
         "anchor": "y",
         "domain": [
          0,
          1
         ],
         "range": [
          0,
          100
         ],
         "title": {
          "text": "Probability(%)"
         },
         "type": "linear"
        },
        "yaxis": {
         "anchor": "x",
         "autorange": true,
         "domain": [
          0,
          1
         ],
         "range": [
          -0.5,
          19.5
         ],
         "title": {
          "text": "Indicators"
         },
         "type": "category"
        }
       }
      },
      "image/png": "[encoded data removed]",
      "text/html": [
       "<div>                            <div id=\"9759c61c-c4e0-45c2-8808-6f7b99dd11ad\" class=\"plotly-graph-div\" style=\"height:800px; width:800px;\"></div>            <script type=\"text/javascript\">                require([\"plotly\"], function(Plotly) {                    window.PLOTLYENV=window.PLOTLYENV || {};                                    if (document.getElementById(\"9759c61c-c4e0-45c2-8808-6f7b99dd11ad\")) {                    Plotly.newPlot(                        \"9759c61c-c4e0-45c2-8808-6f7b99dd11ad\",                        [{\"alignmentgroup\":\"True\",\"hovertemplate\":\"Probability(%)=%{x}\\u003cbr\\u003eIndicators=%{y}\\u003cextra\\u003e\\u003c\\u002fextra\\u003e\",\"legendgroup\":\"\",\"marker\":{\"color\":\"#636efa\",\"pattern\":{\"shape\":\"\"}},\"name\":\"\",\"offsetgroup\":\"\",\"orientation\":\"h\",\"showlegend\":false,\"textposition\":\"auto\",\"x\":[1.62,2.48,2.88,4.65,5.38,5.46,5.88,6.08,6.31,8.32,9.47,9.64,10.26,10.71,12.99,13.56,14.45,16.18,24.9,42.66],\"xaxis\":\"x\",\"y\":[\"ChestScan\",\"ECigaretteUsage\",\"AlcoholDrinkers\",\"HadDepressiveDisorder\",\"PhysicalActivities\",\"HadAsthma\",\"SmokerStatus\",\"DifficultyConcentrating\",\"HadSkinCancer\",\"HadArthritis\",\"BlindOrVisionDifficulty\",\"HadDiabetes\",\"DeafOrHardOfHearing\",\"DifficultyErrands\",\"DifficultyWalking\",\"HadCOPD\",\"DifficultyDressingBathing\",\"HadKidneyDisease\",\"HadStroke\",\"HadAngina\"],\"yaxis\":\"y\",\"type\":\"bar\"}],                        {\"template\":{\"data\":{\"histogram2dcontour\":[{\"type\":\"histogram2dcontour\",\"colorbar\":{\"outlinewidth\":0,\"ticks\":\"\"},\"colorscale\":[[0.0,\"#0d0887\"],[0.1111111111111111,\"#46039f\"],[0.2222222222222222,\"#7201a8\"],[0.3333333333333333,\"#9c179e\"],[0.4444444444444444,\"#bd3786\"],[0.5555555555555556,\"#d8576b\"],[0.6666666666666666,\"#ed7953\"],[0.7777777777777778,\"#fb9f3a\"],[0.8888888888888888,\"#fdca26\"],[1.0,\"#f0f921\"]]}],\"choropleth\":[{\"type\":\"choropleth\",\"colorbar\":{\"outlinewidth\":0,\"ticks\":\"\"}}],\"histogram2d\":[{\"type\":\"histogram2d\",\"colorbar\":{\"outlinewidth\":0,\"ticks\":\"\"},\"colorscale\":[[0.0,\"#0d0887\"],[0.1111111111111111,\"#46039f\"],[0.2222222222222222,\"#7201a8\"],[0.3333333333333333,\"#9c179e\"],[0.4444444444444444,\"#bd3786\"],[0.5555555555555556,\"#d8576b\"],[0.6666666666666666,\"#ed7953\"],[0.7777777777777778,\"#fb9f3a\"],[0.8888888888888888,\"#fdca26\"],[1.0,\"#f0f921\"]]}],\"heatmap\":[{\"type\":\"heatmap\",\"colorbar\":{\"outlinewidth\":0,\"ticks\":\"\"},\"colorscale\":[[0.0,\"#0d0887\"],[0.1111111111111111,\"#46039f\"],[0.2222222222222222,\"#7201a8\"],[0.3333333333333333,\"#9c179e\"],[0.4444444444444444,\"#bd3786\"],[0.5555555555555556,\"#d8576b\"],[0.6666666666666666,\"#ed7953\"],[0.7777777777777778,\"#fb9f3a\"],[0.8888888888888888,\"#fdca26\"],[1.0,\"#f0f921\"]]}],\"heatmapgl\":[{\"type\":\"heatmapgl\",\"colorbar\":{\"outlinewidth\":0,\"ticks\":\"\"},\"colorscale\":[[0.0,\"#0d0887\"],[0.1111111111111111,\"#46039f\"],[0.2222222222222222,\"#7201a8\"],[0.3333333333333333,\"#9c179e\"],[0.4444444444444444,\"#bd3786\"],[0.5555555555555556,\"#d8576b\"],[0.6666666666666666,\"#ed7953\"],[0.7777777777777778,\"#fb9f3a\"],[0.8888888888888888,\"#fdca26\"],[1.0,\"#f0f921\"]]}],\"contourcarpet\":[{\"type\":\"contourcarpet\",\"colorbar\":{\"outlinewidth\":0,\"ticks\":\"\"}}],\"contour\":[{\"type\":\"contour\",\"colorbar\":{\"outlinewidth\":0,\"ticks\":\"\"},\"colorscale\":[[0.0,\"#0d0887\"],[0.1111111111111111,\"#46039f\"],[0.2222222222222222,\"#7201a8\"],[0.3333333333333333,\"#9c179e\"],[0.4444444444444444,\"#bd3786\"],[0.5555555555555556,\"#d8576b\"],[0.6666666666666666,\"#ed7953\"],[0.7777777777777778,\"#fb9f3a\"],[0.8888888888888888,\"#fdca26\"],[1.0,\"#f0f921\"]]}],\"surface\":[{\"type\":\"surface\",\"colorbar\":{\"outlinewidth\":0,\"ticks\":\"\"},\"colorscale\":[[0.0,\"#0d0887\"],[0.1111111111111111,\"#46039f\"],[0.2222222222222222,\"#7201a8\"],[0.3333333333333333,\"#9c179e\"],[0.4444444444444444,\"#bd3786\"],[0.5555555555555556,\"#d8576b\"],[0.6666666666666666,\"#ed7953\"],[0.7777777777777778,\"#fb9f3a\"],[0.8888888888888888,\"#fdca26\"],[1.0,\"#f0f921\"]]}],\"mesh3d\":[{\"type\":\"mesh3d\",\"colorbar\":{\"outlinewidth\":0,\"ticks\":\"\"}}],\"scatter\":[{\"fillpattern\":{\"fillmode\":\"overlay\",\"size\":10,\"solidity\":0.2},\"type\":\"scatter\"}],\"parcoords\":[{\"type\":\"parcoords\",\"line\":{\"colorbar\":{\"outlinewidth\":0,\"ticks\":\"\"}}}],\"scatterpolargl\":[{\"type\":\"scatterpolargl\",\"marker\":{\"colorbar\":{\"outlinewidth\":0,\"ticks\":\"\"}}}],\"bar\":[{\"error_x\":{\"color\":\"#2a3f5f\"},\"error_y\":{\"color\":\"#2a3f5f\"},\"marker\":{\"line\":{\"color\":\"#E5ECF6\",\"width\":0.5},\"pattern\":{\"fillmode\":\"overlay\",\"size\":10,\"solidity\":0.2}},\"type\":\"bar\"}],\"scattergeo\":[{\"type\":\"scattergeo\",\"marker\":{\"colorbar\":{\"outlinewidth\":0,\"ticks\":\"\"}}}],\"scatterpolar\":[{\"type\":\"scatterpolar\",\"marker\":{\"colorbar\":{\"outlinewidth\":0,\"ticks\":\"\"}}}],\"histogram\":[{\"marker\":{\"pattern\":{\"fillmode\":\"overlay\",\"size\":10,\"solidity\":0.2}},\"type\":\"histogram\"}],\"scattergl\":[{\"type\":\"scattergl\",\"marker\":{\"colorbar\":{\"outlinewidth\":0,\"ticks\":\"\"}}}],\"scatter3d\":[{\"type\":\"scatter3d\",\"line\":{\"colorbar\":{\"outlinewidth\":0,\"ticks\":\"\"}},\"marker\":{\"colorbar\":{\"outlinewidth\":0,\"ticks\":\"\"}}}],\"scattermapbox\":[{\"type\":\"scattermapbox\",\"marker\":{\"colorbar\":{\"outlinewidth\":0,\"ticks\":\"\"}}}],\"scatterternary\":[{\"type\":\"scatterternary\",\"marker\":{\"colorbar\":{\"outlinewidth\":0,\"ticks\":\"\"}}}],\"scattercarpet\":[{\"type\":\"scattercarpet\",\"marker\":{\"colorbar\":{\"outlinewidth\":0,\"ticks\":\"\"}}}],\"carpet\":[{\"aaxis\":{\"endlinecolor\":\"#2a3f5f\",\"gridcolor\":\"white\",\"linecolor\":\"white\",\"minorgridcolor\":\"white\",\"startlinecolor\":\"#2a3f5f\"},\"baxis\":{\"endlinecolor\":\"#2a3f5f\",\"gridcolor\":\"white\",\"linecolor\":\"white\",\"minorgridcolor\":\"white\",\"startlinecolor\":\"#2a3f5f\"},\"type\":\"carpet\"}],\"table\":[{\"cells\":{\"fill\":{\"color\":\"#EBF0F8\"},\"line\":{\"color\":\"white\"}},\"header\":{\"fill\":{\"color\":\"#C8D4E3\"},\"line\":{\"color\":\"white\"}},\"type\":\"table\"}],\"barpolar\":[{\"marker\":{\"line\":{\"color\":\"#E5ECF6\",\"width\":0.5},\"pattern\":{\"fillmode\":\"overlay\",\"size\":10,\"solidity\":0.2}},\"type\":\"barpolar\"}],\"pie\":[{\"automargin\":true,\"type\":\"pie\"}]},\"layout\":{\"autotypenumbers\":\"strict\",\"colorway\":[\"#636efa\",\"#EF553B\",\"#00cc96\",\"#ab63fa\",\"#FFA15A\",\"#19d3f3\",\"#FF6692\",\"#B6E880\",\"#FF97FF\",\"#FECB52\"],\"font\":{\"color\":\"#2a3f5f\"},\"hovermode\":\"closest\",\"hoverlabel\":{\"align\":\"left\"},\"paper_bgcolor\":\"white\",\"plot_bgcolor\":\"#E5ECF6\",\"polar\":{\"bgcolor\":\"#E5ECF6\",\"angularaxis\":{\"gridcolor\":\"white\",\"linecolor\":\"white\",\"ticks\":\"\"},\"radialaxis\":{\"gridcolor\":\"white\",\"linecolor\":\"white\",\"ticks\":\"\"}},\"ternary\":{\"bgcolor\":\"#E5ECF6\",\"aaxis\":{\"gridcolor\":\"white\",\"linecolor\":\"white\",\"ticks\":\"\"},\"baxis\":{\"gridcolor\":\"white\",\"linecolor\":\"white\",\"ticks\":\"\"},\"caxis\":{\"gridcolor\":\"white\",\"linecolor\":\"white\",\"ticks\":\"\"}},\"coloraxis\":{\"colorbar\":{\"outlinewidth\":0,\"ticks\":\"\"}},\"colorscale\":{\"sequential\":[[0.0,\"#0d0887\"],[0.1111111111111111,\"#46039f\"],[0.2222222222222222,\"#7201a8\"],[0.3333333333333333,\"#9c179e\"],[0.4444444444444444,\"#bd3786\"],[0.5555555555555556,\"#d8576b\"],[0.6666666666666666,\"#ed7953\"],[0.7777777777777778,\"#fb9f3a\"],[0.8888888888888888,\"#fdca26\"],[1.0,\"#f0f921\"]],\"sequentialminus\":[[0.0,\"#0d0887\"],[0.1111111111111111,\"#46039f\"],[0.2222222222222222,\"#7201a8\"],[0.3333333333333333,\"#9c179e\"],[0.4444444444444444,\"#bd3786\"],[0.5555555555555556,\"#d8576b\"],[0.6666666666666666,\"#ed7953\"],[0.7777777777777778,\"#fb9f3a\"],[0.8888888888888888,\"#fdca26\"],[1.0,\"#f0f921\"]],\"diverging\":[[0,\"#8e0152\"],[0.1,\"#c51b7d\"],[0.2,\"#de77ae\"],[0.3,\"#f1b6da\"],[0.4,\"#fde0ef\"],[0.5,\"#f7f7f7\"],[0.6,\"#e6f5d0\"],[0.7,\"#b8e186\"],[0.8,\"#7fbc41\"],[0.9,\"#4d9221\"],[1,\"#276419\"]]},\"xaxis\":{\"gridcolor\":\"white\",\"linecolor\":\"white\",\"ticks\":\"\",\"title\":{\"standoff\":15},\"zerolinecolor\":\"white\",\"automargin\":true,\"zerolinewidth\":2},\"yaxis\":{\"gridcolor\":\"white\",\"linecolor\":\"white\",\"ticks\":\"\",\"title\":{\"standoff\":15},\"zerolinecolor\":\"white\",\"automargin\":true,\"zerolinewidth\":2},\"scene\":{\"xaxis\":{\"backgroundcolor\":\"#E5ECF6\",\"gridcolor\":\"white\",\"linecolor\":\"white\",\"showbackground\":true,\"ticks\":\"\",\"zerolinecolor\":\"white\",\"gridwidth\":2},\"yaxis\":{\"backgroundcolor\":\"#E5ECF6\",\"gridcolor\":\"white\",\"linecolor\":\"white\",\"showbackground\":true,\"ticks\":\"\",\"zerolinecolor\":\"white\",\"gridwidth\":2},\"zaxis\":{\"backgroundcolor\":\"#E5ECF6\",\"gridcolor\":\"white\",\"linecolor\":\"white\",\"showbackground\":true,\"ticks\":\"\",\"zerolinecolor\":\"white\",\"gridwidth\":2}},\"shapedefaults\":{\"line\":{\"color\":\"#2a3f5f\"}},\"annotationdefaults\":{\"arrowcolor\":\"#2a3f5f\",\"arrowhead\":0,\"arrowwidth\":1},\"geo\":{\"bgcolor\":\"white\",\"landcolor\":\"#E5ECF6\",\"subunitcolor\":\"white\",\"showland\":true,\"showlakes\":true,\"lakecolor\":\"white\"},\"title\":{\"x\":0.05},\"mapbox\":{\"style\":\"light\"}}},\"xaxis\":{\"anchor\":\"y\",\"domain\":[0.0,1.0],\"title\":{\"text\":\"Probability(%)\"},\"range\":[0,100]},\"yaxis\":{\"anchor\":\"x\",\"domain\":[0.0,1.0],\"title\":{\"text\":\"Indicators\"}},\"legend\":{\"tracegroupgap\":0},\"title\":{\"text\":\"Probability a person has heart attack under an indicator\"},\"barmode\":\"relative\",\"height\":800,\"width\":800},                        {\"responsive\": true}                    ).then(function(){\n",
       "                            \n",
       "var gd = document.getElementById('9759c61c-c4e0-45c2-8808-6f7b99dd11ad');\n",
       "var x = new MutationObserver(function (mutations, observer) {{\n",
       "        var display = window.getComputedStyle(gd).display;\n",
       "        if (!display || display === 'none') {{\n",
       "            console.log([gd, 'removed!']);\n",
       "            Plotly.purge(gd);\n",
       "            observer.disconnect();\n",
       "        }}\n",
       "}});\n",
       "\n",
       "// Listen for the removal of the full notebook cells\n",
       "var notebookContainer = gd.closest('#notebook-container');\n",
       "if (notebookContainer) {{\n",
       "    x.observe(notebookContainer, {childList: true});\n",
       "}}\n",
       "\n",
       "// Listen for the clearing of the current output cell\n",
       "var outputEl = gd.closest('.output');\n",
       "if (outputEl) {{\n",
       "    x.observe(outputEl, {childList: true});\n",
       "}}\n",
       "\n",
       "                        })                };                });            </script>        </div>"
      ]
     },
     "metadata": {},
     "output_type": "display_data"
    }
   ],
   "source": [
    "fig = px.bar(prop_heart_attack_under_indicator, x = prop_heart_attack_under_indicator.values, y = prop_heart_attack_under_indicator.index, \n",
    "             title = 'Probability a person has heart attack under an indicator', labels = {'x': 'Probability(%)', 'index': 'Indicators'}, range_x = (0, 100))\n",
    "fig.update_layout(height=800, width=800)\n",
    "fig.show()"
   ]
  },
  {
   "cell_type": "markdown",
   "id": "4e918524-b846-4996-a35b-1f66272c18f6",
   "metadata": {},
   "source": [
    "### Observation"
   ]
  },
  {
   "cell_type": "markdown",
   "id": "f6823459-6f38-4d80-995e-330c54c8d20e",
   "metadata": {},
   "source": [
    "- We can see that the `HadAngina` and `HadStroke` columns have the highest probability **(42.66% and 24.9%)**, which means if a person has angina or stroke, he or she is more likely to have heart attack.\n",
    "- The second highest probability includes `HadKidneyDisease` and `HadCOPD` with **16.18%** and **13.56%**.  \n",
    "- The third to be considered is `HadDiabetes` and `HadArthritis` with **9.64%** and **8.32%**."
   ]
  },
  {
   "cell_type": "markdown",
   "id": "b36c1264-8e22-42e3-a7ea-df87867929e9",
   "metadata": {},
   "source": [
    "## Question 2:"
   ]
  },
  {
   "cell_type": "markdown",
   "id": "6f7e803c-e979-4244-8215-1e34a1b2ce80",
   "metadata": {},
   "source": [
    "- **Purpose:**\n",
    "- **How to answer:**"
   ]
  },
  {
   "cell_type": "markdown",
   "id": "ba3f0654-5a5c-4e22-9be8-3af31ce25dab",
   "metadata": {},
   "source": [
    "### Preprocessing"
   ]
  },
  {
   "cell_type": "code",
   "execution_count": null,
   "id": "4a5c5aaa-102c-49a0-8cc4-950668e79abf",
   "metadata": {},
   "outputs": [],
   "source": []
  },
  {
   "cell_type": "markdown",
   "id": "68a48eac-926c-4ad1-a378-cc33e5b2a2d0",
   "metadata": {},
   "source": [
    "### Visualization"
   ]
  },
  {
   "cell_type": "code",
   "execution_count": null,
   "id": "c1f722bd-3ac2-4e50-89b1-087b222188ba",
   "metadata": {},
   "outputs": [],
   "source": []
  },
  {
   "cell_type": "markdown",
   "id": "181255e6-46e6-4680-9e4f-fe5deffe4978",
   "metadata": {},
   "source": [
    "### Observation"
   ]
  },
  {
   "cell_type": "markdown",
   "id": "1cc2bf66-78df-4f00-a63e-9462cf9686e2",
   "metadata": {},
   "source": []
  },
  {
   "cell_type": "markdown",
   "id": "52a83b64-25ce-48b7-a4e2-ae32bbc2cbd1",
   "metadata": {},
   "source": [
    "## Question 3:"
   ]
  },
  {
   "cell_type": "markdown",
   "id": "4bcfdb2c-e6b7-4deb-b534-c78bdb4a2f8b",
   "metadata": {},
   "source": [
    "- **Purpose:**\n",
    "- **How to answer:**"
   ]
  },
  {
   "cell_type": "markdown",
   "id": "c0806329-7277-4272-a7d7-8ce66f84b6da",
   "metadata": {},
   "source": [
    "### Preprocessing"
   ]
  },
  {
   "cell_type": "code",
   "execution_count": null,
   "id": "c07d4b40-06e2-492f-889c-260ef9c6fa1b",
   "metadata": {},
   "outputs": [],
   "source": []
  },
  {
   "cell_type": "markdown",
   "id": "1e1e14ee-2a90-4dee-a4b8-2546e465d8cc",
   "metadata": {},
   "source": [
    "### Visualization"
   ]
  },
  {
   "cell_type": "code",
   "execution_count": null,
   "id": "b4a16d5f-8105-47a0-bbb3-d9b5797b5c00",
   "metadata": {},
   "outputs": [],
   "source": []
  },
  {
   "cell_type": "markdown",
   "id": "13a09d53-f914-415b-8997-9cc49fb8cab1",
   "metadata": {},
   "source": [
    "### Observation"
   ]
  },
  {
   "cell_type": "markdown",
   "id": "e4a35e1a-0baf-4753-b8a2-40fbc3473866",
   "metadata": {},
   "source": []
  }
 ],
 "metadata": {
  "kernelspec": {
   "display_name": "Python 3 (ipykernel)",
   "language": "python",
   "name": "python3"
  },
  "language_info": {
   "codemirror_mode": {
    "name": "ipython",
    "version": 3
   },
   "file_extension": ".py",
   "mimetype": "text/x-python",
   "name": "python",
   "nbconvert_exporter": "python",
   "pygments_lexer": "ipython3",
   "version": "3.10.8"
  }
 },
 "nbformat": 4,
 "nbformat_minor": 5
}
