{
 "cells": [
  {
   "cell_type": "markdown",
   "id": "a4ea10a3",
   "metadata": {},
   "source": [
    "<div style=\"text-align: center; background-color: #5A96E3; font-family: 'Trebuchet MS', Arial, sans-serif; color: white; padding: 20px; font-size: 40px; font-weight: bold; border-radius: 0 0 0 0; box-shadow: 0px 6px 8px rgba(0, 0, 0, 0.2);\">\n",
    "  Stage 02 - Exploratory Data Analysis\n",
    "</div>"
   ]
  },
  {
   "cell_type": "markdown",
   "id": "2d5b5cdb-7725-4d07-be64-d61c99473824",
   "metadata": {},
   "source": [
    "# **1. Import libraries**"
   ]
  },
  {
   "cell_type": "code",
   "execution_count": null,
   "id": "79a58cc3-94d4-4738-9e9a-9c1e8f1b1418",
   "metadata": {},
   "outputs": [],
   "source": [
    "import pandas as pd\n",
    "import numpy as np\n",
    "\n",
    "import plotly.express as px\n",
    "import plotly.graph_objects as go\n",
    "from plotly.subplots import make_subplots\n",
    "import matplotlib.pyplot as plt\n",
    "import seaborn as sn\n",
    "from sklearn.preprocessing import LabelEncoder\n",
    "from sklearn.model_selection import train_test_split, cross_val_score\n",
    "from sklearn.ensemble import RandomForestClassifier\n",
    "from sklearn.preprocessing import RobustScaler, OneHotEncoder\n",
    "from sklearn.compose import ColumnTransformer\n",
    "from sklearn.pipeline import Pipeline\n",
    "from sklearn.metrics import accuracy_score"
   ]
  },
  {
   "cell_type": "markdown",
   "id": "257a7930-06e2-429f-9921-734ee3d7fd78",
   "metadata": {},
   "source": [
    "# **2. Read data**"
   ]
  },
  {
   "cell_type": "markdown",
   "id": "714cecdc",
   "metadata": {},
   "source": [
    "- The data has been previously cleaned and saved into the file ../data/cleaned_data.csv.\n",
    "- We read the data and saved it into a variable called `data` as a dataframe."
   ]
  },
  {
   "cell_type": "code",
   "execution_count": null,
   "id": "2b8cbff4-9006-43f0-bb8b-52314a40c78f",
   "metadata": {},
   "outputs": [],
   "source": [
    "data = pd.read_csv('../data/cleaned_data.csv')\n",
    "data"
   ]
  },
  {
   "cell_type": "markdown",
   "id": "6bfc7989",
   "metadata": {},
   "source": [
    "# **Overview**\n",
    "\n",
    "Before conducting the analysis, let's examine the correlations between the variables in the dataset."
   ]
  },
  {
   "cell_type": "markdown",
   "id": "f3b4485c",
   "metadata": {},
   "source": [
    "- **First**, we need to encode the data to compute the correlation matrix.\n"
   ]
  },
  {
   "cell_type": "code",
   "execution_count": null,
   "id": "bac56bf7",
   "metadata": {},
   "outputs": [],
   "source": [
    "df = data.copy()\n",
    "le = LabelEncoder()\n",
    "for column in df.columns:\n",
    "    if df[column].dtype == 'object':\n",
    "        df[column] = le.fit_transform(df[column].astype(str))\n",
    "df.head(5)"
   ]
  },
  {
   "cell_type": "markdown",
   "id": "ac6500ec",
   "metadata": {},
   "source": [
    "- **Secondly**, we calculate the correlation matrix using the `corr()` function and visualize it using a **heatmap** chart."
   ]
  },
  {
   "cell_type": "code",
   "execution_count": null,
   "id": "d7d3537b",
   "metadata": {},
   "outputs": [],
   "source": [
    "# Calculate the correlation matrix\n",
    "correlation_matrix = df.corr()\n",
    "\n",
    "# Draw heatmap\n",
    "plt.figure(figsize=(30, 20))\n",
    "\n",
    "# Create a triangular mask to hide the upper triangle of the heatmap\n",
    "mask = np.triu(np.ones_like(correlation_matrix, dtype=bool))\n",
    "\n",
    "# Plot the correlation matrix as a heatmap\n",
    "sn.heatmap(correlation_matrix, mask=mask, annot=True, cmap='coolwarm')\n",
    "\n",
    "# Add a title to the plot\n",
    "plt.title('Correlation Matrix')\n",
    "\n",
    "# Display the heatmap\n",
    "plt.show()"
   ]
  },
  {
   "cell_type": "markdown",
   "id": "a7e802a0",
   "metadata": {},
   "source": [
    "\n",
    "**Observations:** Looking at the correlation matrix, we can observe the relationships between variables through the **correlation coefficients**. This provides a general overview of the relationships between columns in the data, which can be helpful for analyzing the following questions."
   ]
  },
  {
   "cell_type": "markdown",
   "id": "1608c5bd-068c-4943-9c76-5098e23879d2",
   "metadata": {},
   "source": [
    "# **3. Questions**"
   ]
  },
  {
   "cell_type": "markdown",
   "id": "b36c1264-8e22-42e3-a7ea-df87867929e9",
   "metadata": {},
   "source": [
    "## **Question 1: What is the overall comparison of general health statuses between males and females across different age groups?**"
   ]
  },
  {
   "cell_type": "markdown",
   "id": "7518cd1a",
   "metadata": {},
   "source": [
    "- **Purpose:** The purpose of asking the question is to understand the overall comparison of general health statuses between males and females across different age groups. This analysis aims to identify any patterns, trends, or disparities in health between genders and age groups.\n",
    "- **How to answer:** To answer this question, we will extract relevant columns of data such as `Sex`, `GeneralHealth`, and `AgeCategory`. Then, we will group the data by `Sex` and `AgeCategory`, analyze and compare the general health statuses using statistical analysis techniques. The results can be displayed by utilizing appropriate visualizations, and the findings can be explained to draw conclusions and discuss the significance of healthcare policies and interventions."
   ]
  },
  {
   "cell_type": "markdown",
   "id": "421e2d08",
   "metadata": {},
   "source": [
    "**1. Preprocessing**\n",
    "- Step 1: Filter the DataFrame to include only the relevant columns for analysis (`Sex`, `GeneralHealth`, and `AgeCategory`)\n",
    "- Step 2: Group the data by `Sex` and `AgeCategory` columns, and calculate the count of each health status using the `groupby()` and `value_counts()` functions."
   ]
  },
  {
   "cell_type": "code",
   "execution_count": null,
   "id": "a460d139",
   "metadata": {},
   "outputs": [],
   "source": [
    "#Filter the DataFrame to include only the relevant columns for analysis\n",
    "df_health = data[[\"Sex\", \"GeneralHealth\", \"AgeCategory\"]]\n",
    "# Group the data by \"Sex\" and \"AgeCategory\" columns, and calculate the count of each health status\n",
    "health_counts = df_health.groupby([\"Sex\", \"AgeCategory\"])[\"GeneralHealth\"].value_counts().unstack().reset_index()"
   ]
  },
  {
   "cell_type": "markdown",
   "id": "4acea918",
   "metadata": {},
   "source": [
    "**2. Visualization**"
   ]
  },
  {
   "cell_type": "code",
   "execution_count": null,
   "id": "8dcea9b6",
   "metadata": {},
   "outputs": [],
   "source": [
    "# Filter the data for males and females\n",
    "male_data = health_counts[health_counts[\"Sex\"] == \"Male\"]\n",
    "female_data = health_counts[health_counts[\"Sex\"] == \"Female\"]\n",
    "\n",
    "# Define the colors for each health status\n",
    "colors = ['rgba(31, 119, 180, 0.7)', 'rgba(255, 127, 14, 0.7)', 'rgba(44, 160, 44, 0.7)',\n",
    "          'rgba(214, 39, 40, 0.7)', 'rgba(148, 103, 189, 0.7)']\n",
    "\n",
    "# Create subplots for males and females with shared y-axis\n",
    "fig = make_subplots(rows=1, cols=2, subplot_titles=(\"Male\", \"Female\"), shared_yaxes=True)\n",
    "\n",
    "# Plot the stacked bar chart for males\n",
    "for i, status in enumerate([\"Excellent\", \"Very good\", \"Good\", \"Fair\", \"Poor\"]):\n",
    "    fig.add_trace(go.Bar(x=male_data[\"AgeCategory\"], y=male_data[status], name=status, marker_color=colors[i]), row=1, col=1)\n",
    "\n",
    "# Plot the stacked bar chart for females\n",
    "for i, status in enumerate([\"Excellent\", \"Very good\", \"Good\", \"Fair\", \"Poor\"]):\n",
    "    fig.add_trace(go.Bar(x=female_data[\"AgeCategory\"], y=female_data[status], name=status, marker_color=colors[i]), row=1, col=2)\n",
    "\n",
    "# Customize the legend\n",
    "fig.update_layout(legend=dict(x=1, y=1, traceorder=\"normal\", bgcolor='rgba(0,0,0,0)'), showlegend=True)\n",
    "\n",
    "# Customize the layout\n",
    "fig.update_layout(title=\"General Health by Gender and Age Group\", xaxis_title=\"Age Category\", yaxis_title=\"Count\")\n",
    "\n",
    "# Show the plot\n",
    "fig.show()"
   ]
  },
  {
   "cell_type": "markdown",
   "id": "ab195359",
   "metadata": {},
   "source": [
    "**3. Observation**"
   ]
  },
  {
   "cell_type": "markdown",
   "id": "0636d1c3",
   "metadata": {},
   "source": [
    "- In general, at every age and gender, the proportion of people with good or above-average health remains high.\n",
    "- Specific analysis:\n",
    "    - For the age group of 18 to 24: it can be said that this is the age group with the best overall health, with the lowest proportion of poor health.\n",
    "    - Health status tends to decline over time. In males, from the age of 50 onwards, there is a significant increase in poor health. For females, from the age of 35 onwards, there is a noticeable decline in health."
   ]
  },
  {
   "cell_type": "markdown",
   "id": "97395738-07c6-4d61-8eca-025b8b1c2b41",
   "metadata": {},
   "source": [
    "## **Question 2: Which factors can influence heart attack?**"
   ]
  },
  {
   "cell_type": "markdown",
   "id": "df1b503e-07b2-4cbf-aef4-1a7b419c1500",
   "metadata": {},
   "source": [
    "- **Purpose:** Understanding the factors that can influence the occurrence of a heart attack empowers us to take preventative measures and adjust our daily routines to mitigate these risk factors. Furthermore, it aids medical professionals in identifying the causes and treatment options for heart attack. \n",
    "- **How to answer:**\n",
    "    - Choose appropriate columns, we will choose all columns having only `Yes, No` values and three columns having multiple values `HadDiabetes, SmokerStatus, ECigaretteUsage`.\n",
    "    - Preprocess columns having multiple values so that these columns only have `Yes, No` values.\n",
    "    - Calculate the probability of a heart attack based on the presence of a specific factor (it can be a disease or habit)."
   ]
  },
  {
   "cell_type": "markdown",
   "id": "b729dfae-5367-4f60-8425-30a713e6dbb8",
   "metadata": {},
   "source": [
    "**1. Preprocessing**"
   ]
  },
  {
   "cell_type": "markdown",
   "id": "f7a1287d-4be4-4897-bfa3-6addfabe0d5e",
   "metadata": {},
   "source": [
    "**Preprocess columns having multiple values**"
   ]
  },
  {
   "cell_type": "markdown",
   "id": "38535031-0ae8-4463-9627-3fc0a69330af",
   "metadata": {},
   "source": [
    "First, we will check the unique values of these columns."
   ]
  },
  {
   "cell_type": "code",
   "execution_count": null,
   "id": "cf59c2fc-8c6d-49a5-914c-b0130dc4eb67",
   "metadata": {},
   "outputs": [],
   "source": [
    "heart_attack_df = data[data['HadHeartAttack'] == 'Yes']\n",
    "\n",
    "print(heart_attack_df['HadDiabetes'].value_counts())\n",
    "print('================================================')\n",
    "print(heart_attack_df['SmokerStatus'].value_counts())\n",
    "print('================================================')\n",
    "print(heart_attack_df['ECigaretteUsage'].value_counts())"
   ]
  },
  {
   "cell_type": "markdown",
   "id": "a0300b3c-1d36-4ff9-9927-eda9ebab275a",
   "metadata": {},
   "source": [
    "Then, we convert these unique values to only `Yes No` values."
   ]
  },
  {
   "cell_type": "code",
   "execution_count": null,
   "id": "dc27e383-aa52-449d-b44a-82497d500723",
   "metadata": {},
   "outputs": [],
   "source": [
    "cleaned_data_copy = data.copy()\n",
    "\n",
    "cleaned_data_copy['HadDiabetes'] = cleaned_data_copy['HadDiabetes'].replace(['Yes, but only during pregnancy (female)', \n",
    "                                                                             'No, pre-diabetes or borderline diabetes'], ['Yes', 'Yes'])\n",
    "\n",
    "cleaned_data_copy['SmokerStatus'] = cleaned_data_copy['SmokerStatus'].replace(['Never smoked', 'Former smoker', \n",
    "                                                                               'Current smoker - now smokes every day', \n",
    "                                                                               'Current smoker - now smokes some days'], \n",
    "                                                                              ['No', 'Yes', 'Yes', 'Yes'])\n",
    "\n",
    "cleaned_data_copy['ECigaretteUsage'] = cleaned_data_copy['ECigaretteUsage'].replace(['Never used e-cigarettes in my entire life', \n",
    "                                                                                     'Not at all (right now)', 'Use them some days', \n",
    "                                                                                     'Use them every day'], ['No', 'No', 'Yes', 'Yes'])\n",
    "cleaned_data_copy"
   ]
  },
  {
   "cell_type": "markdown",
   "id": "dffc1ac4-b694-4c66-b70e-8e40cbcfebd5",
   "metadata": {},
   "source": [
    "**Select rows having `HadHeartAttack = Yes`**"
   ]
  },
  {
   "cell_type": "code",
   "execution_count": null,
   "id": "8c2d8e07-27fd-4877-a9a8-08e4804cba26",
   "metadata": {},
   "outputs": [],
   "source": [
    "heart_attack_df = cleaned_data_copy[cleaned_data_copy['HadHeartAttack'] == 'Yes']"
   ]
  },
  {
   "cell_type": "markdown",
   "id": "f68752db-212a-4d31-a1a0-bd4e32b6eedb",
   "metadata": {},
   "source": [
    "**Calculate the probability of a person experiencing a heart attack when exhibiting any of the indicators we believe may be associated with such an event.**"
   ]
  },
  {
   "cell_type": "code",
   "execution_count": null,
   "id": "a8532646-ba20-4cb8-9336-3f11b7447b41",
   "metadata": {},
   "outputs": [],
   "source": [
    "# Select columns having only yes and no values\n",
    "yes_no_cols = heart_attack_df.columns[(heart_attack_df.isin(['Yes', 'No']).all()) & (heart_attack_df.columns != 'HadHeartAttack')]\n",
    "\n",
    "# Seperate yes_no_cols into two different lists\n",
    "# no_cols: a list containing all columns' names that we will use only No value\n",
    "# yes_cols: a list containing all columns' names that we will use only Yes value\n",
    "no_cols = ['PhysicalActivities', 'ChestScan']\n",
    "yes_cols = yes_no_cols[~yes_no_cols.isin(no_cols)]\n",
    "\n",
    "def count_yes(col):\n",
    "    counts = col.value_counts()\n",
    "    return counts['Yes']\n",
    "\n",
    "def count_no(col):\n",
    "    counts = col.value_counts()\n",
    "    return counts['No']\n",
    "\n",
    "# Calculate conditional probability\n",
    "# The number of people has the particular indicator\n",
    "num_yes = cleaned_data_copy[yes_cols].agg(count_yes)\n",
    "num_no = cleaned_data_copy[no_cols].agg(count_no)\n",
    "num_has_indicator = pd.concat([num_yes, num_no])\n",
    "\n",
    "# The number of people has both the particular indicator and heart attack\n",
    "num_yes = heart_attack_df[yes_cols].agg(count_yes)\n",
    "num_no = heart_attack_df[no_cols].agg(count_no)\n",
    "num_has_indicator_heart_attack = pd.concat([num_yes, num_no])\n",
    "\n",
    "prop_heart_attack_under_indicator = (num_has_indicator_heart_attack * 100 / num_has_indicator).round(2)\n",
    "prop_heart_attack_under_indicator = prop_heart_attack_under_indicator.sort_values(ascending=False)"
   ]
  },
  {
   "cell_type": "markdown",
   "id": "d59c95bc-d29c-40b4-b906-dac721edc0b9",
   "metadata": {},
   "source": [
    "**2. Visualization**"
   ]
  },
  {
   "cell_type": "code",
   "execution_count": null,
   "id": "68564519",
   "metadata": {},
   "outputs": [],
   "source": [
    "fig = px.bar(prop_heart_attack_under_indicator, x = prop_heart_attack_under_indicator.index, y = prop_heart_attack_under_indicator.values,  \n",
    "             title = 'The likelihood of a person experiencing a heart attack based on a specific factor', labels = {'index': 'Indicators', 'y': 'Probability(%)'}, \n",
    "             range_y = (0, 100), color = prop_heart_attack_under_indicator.values)\n",
    "fig.update_layout(height=500, width=1000)\n",
    "fig.show()"
   ]
  },
  {
   "cell_type": "markdown",
   "id": "4e918524-b846-4996-a35b-1f66272c18f6",
   "metadata": {},
   "source": [
    "**3. Observation**"
   ]
  },
  {
   "cell_type": "markdown",
   "id": "2c9a4cec-8d13-4c0a-a956-4909ba790cd1",
   "metadata": {},
   "source": [
    "- Individuals who have experienced `Angina or Stroke` exhibit a higher likelihood of having a heart attack.\n",
    "- Additionally, individuals with conditions such as `Kidney Disease, COPD, Diabetes or Arthritis` show a relatively lower but still notable probability of experiencing a heart attack.\n",
    "- Columns labeled with `Difficulty` suggest a higher probability, potentially linked to both physical and mental health issues. Individuals facing these challenges may have a somewhat elevated risk of a heart attack.\n",
    "- Conversely, factors like `Smoker Status, Had Asthma, Alcohol Drinkers or E-Cigarette Usage` seem to have a comparatively lower impact on the likelihood of a heart attack."
   ]
  },
  {
   "cell_type": "markdown",
   "id": "52a83b64-25ce-48b7-a4e2-ae32bbc2cbd1",
   "metadata": {},
   "source": [
    "## **Question 3: Can we predict whether a person has a heart disease based on certain features? Which features can be used to predict whether a person has a heart disease or not?**"
   ]
  },
  {
   "cell_type": "markdown",
   "id": "4bcfdb2c-e6b7-4deb-b534-c78bdb4a2f8b",
   "metadata": {},
   "source": [
    "- **Purpose:** The purpose of the question is to determine whether it is possible to predict whether a person has a heart disease based on certain features. This question aims to explore the predictive power of the selected features and their relationship to the presence of heart disease.\n",
    "- **Significance:** Answering this question has several implications. Firstly, it provides insights into the potential of using specific features to predict heart disease. By identifying the most important features, it can help researchers and healthcare professionals understand the underlying factors associated with heart disease. Additionally, the model's accuracy on the test set indicates how well it can generalize to new, unseen data. This information can guide decision-making for healthcare interventions and preventive measures related to heart disease.\n",
    "- **How to answer:** The methodology involves building a Random Forest model to predict the presence of heart disease using the selected features. The data is split into training and testing sets, and data preprocessing techniques are applied to handle categorical and numeric features. The preprocessed data is then used to train the Random Forest model. Cross-validation is performed to evaluate the model's performance, and the accuracy of the model is measured on the test set."
   ]
  },
  {
   "cell_type": "markdown",
   "id": "c0806329-7277-4272-a7d7-8ce66f84b6da",
   "metadata": {},
   "source": [
    "### Preprocessing"
   ]
  },
  {
   "cell_type": "code",
   "execution_count": null,
   "id": "c07d4b40-06e2-492f-889c-260ef9c6fa1b",
   "metadata": {},
   "outputs": [],
   "source": [
    "#Selecting features and target variable\n",
    "categorical_features = ['RemovedTeeth','SmokerStatus','AgeCategory', 'AlcoholDrinkers',\n",
    "'HadAngina', 'HadStroke', 'HadCOPD', 'HadKidneyDisease',\n",
    "'HadArthritis', 'HadDiabetes', 'DifficultyWalking', 'DifficultyDressingBathing', 'DifficultyErrands', 'ChestScan']\n",
    "numeric_features = ['PhysicalHealthDays', 'MentalHealthDays', 'SleepHours', 'HeightInMeters', 'WeightInKilograms']\n",
    "target = 'HadHeartAttack'\n",
    "\n",
    "#Split the data into training and testing sets\n",
    "X_train, X_test, y_train, y_test = train_test_split(data.drop(target, axis=1), data[target], test_size=0.2, random_state=42)\n",
    "\n",
    "#Data preprocessing\n",
    "categorical_transformer = Pipeline(steps=[('onehot', OneHotEncoder(handle_unknown='ignore'))])\n",
    "numeric_transformer = Pipeline(steps=[('scaler', RobustScaler())])\n",
    "\n",
    "preprocessor = ColumnTransformer(transformers=[\n",
    "('cat', categorical_transformer, categorical_features),\n",
    "('num', numeric_transformer, numeric_features)])\n",
    "\n",
    "#Build the Random Forest model\n",
    "model = Pipeline(steps=[('preprocessor', preprocessor),\n",
    "('classifier', RandomForestClassifier())])\n",
    "\n",
    "#Evaluate the model using Cross Validation\n",
    "scores = cross_val_score(model, X_train, y_train, cv=5)\n",
    "\n",
    "print(\"Accuracy of the model (Cross Validation): {:.2f}% (+/- {:.2f}%)\".format(scores.mean() * 100, scores.std() * 100))\n",
    "\n",
    "#Train the model\n",
    "model.fit(X_train, y_train)\n",
    "\n",
    "#Make predictions on the test set\n",
    "y_pred = model.predict(X_test)\n",
    "\n",
    "#Evaluate the prediction performance\n",
    "accuracy = accuracy_score(y_test, y_pred)\n",
    "print(\"Accuracy of the model on the test set: {:.2f}%\".format(accuracy * 100))"
   ]
  },
  {
   "cell_type": "markdown",
   "id": "1e1e14ee-2a90-4dee-a4b8-2546e465d8cc",
   "metadata": {},
   "source": [
    "### Visualization"
   ]
  },
  {
   "cell_type": "code",
   "execution_count": null,
   "id": "90fc4019",
   "metadata": {},
   "outputs": [],
   "source": [
    "#Get the feature importance from the model\n",
    "importances = model.named_steps['classifier'].feature_importances_\n",
    "#Get the names of the features\n",
    "feature_names = categorical_features + numeric_features\n",
    "#Sort the importances and feature names in descending order\n",
    "indices = np.argsort(importances)[::-1]\n",
    "sorted_importances = importances[indices]\n",
    "sorted_feature_names = [feature_names[i] for i in indices if i < len(feature_names)]\n",
    "\n",
    "#Visualize the feature importances\n",
    "# Define a custom color palette\n",
    "custom_colors = ['#FFC300', '#FF5733', '#C70039', '#900C3F', '#581845']\n",
    "# Create a bar chart figure with custom colors\n",
    "fig = go.Figure(data=go.Bar(x= sorted_feature_names, y= sorted_importances, marker=dict(color=custom_colors)))\n",
    "# Update the layout of the figure\n",
    "fig.update_layout(\n",
    "    title='Feature Importance',\n",
    "    xaxis=dict(title='Features'),\n",
    "    yaxis=dict(title='Importance')\n",
    ")\n",
    "# Show the figure\n",
    "fig.show()"
   ]
  },
  {
   "cell_type": "markdown",
   "id": "13a09d53-f914-415b-8997-9cc49fb8cab1",
   "metadata": {},
   "source": [
    "### Observation"
   ]
  },
  {
   "cell_type": "markdown",
   "id": "e4a35e1a-0baf-4753-b8a2-40fbc3473866",
   "metadata": {},
   "source": []
  }
 ],
 "metadata": {
  "kernelspec": {
   "display_name": "Python 3 (ipykernel)",
   "language": "python",
   "name": "python3"
  },
  "language_info": {
   "codemirror_mode": {
    "name": "ipython",
    "version": 3
   },
   "file_extension": ".py",
   "mimetype": "text/x-python",
   "name": "python",
   "nbconvert_exporter": "python",
   "pygments_lexer": "ipython3",
   "version": "3.10.8"
  }
 },
 "nbformat": 4,
 "nbformat_minor": 5
}
