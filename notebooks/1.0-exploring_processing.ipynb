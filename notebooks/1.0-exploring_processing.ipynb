{
 "cells": [
  {
   "cell_type": "markdown",
   "id": "1a4f9f92-8769-4267-a16d-8f5e57bf54e5",
   "metadata": {},
   "source": [
    "<div style=\"text-align: center; background-color: #5A96E3; font-family: 'Trebuchet MS', Arial, sans-serif; color: white; padding: 20px; font-size: 40px; font-weight: bold; border-radius: 0 0 0 0; box-shadow: 0px 6px 8px rgba(0, 0, 0, 0.2);\">\n",
    "  Stage 01 - Data exploration and preprocessing\n",
    "</div>"
   ]
  },
  {
   "cell_type": "markdown",
   "id": "c18afd8a",
   "metadata": {},
   "source": [
    "# **Data exploration**"
   ]
  },
  {
   "cell_type": "markdown",
   "id": "d88db445-0269-4e34-9bd3-d8a2e7ebd7f9",
   "metadata": {},
   "source": [
    "**1. Import libraries**"
   ]
  },
  {
   "cell_type": "code",
   "execution_count": 27,
   "id": "893810ce-e160-4f2b-8195-4c5435626ee1",
   "metadata": {},
   "outputs": [],
   "source": [
    "import pandas as pd\n",
    "import numpy as np\n",
    "\n",
    "import matplotlib.pyplot as plt\n",
    "import seaborn as sn\n",
    "import plotly.express as px\n",
    "from plotly.subplots import make_subplots\n",
    "import plotly.graph_objects as go"
   ]
  },
  {
   "cell_type": "markdown",
   "id": "f42b0914-7a11-4a7d-8938-c7acdb42edd2",
   "metadata": {},
   "source": [
    "**2. Read data**"
   ]
  },
  {
   "cell_type": "code",
   "execution_count": 28,
   "id": "9ab4e307-04ba-4f34-a0c8-c02d89449fbf",
   "metadata": {
    "scrolled": true
   },
   "outputs": [
    {
     "data": {
      "text/html": [
       "<div>\n",
       "<style scoped>\n",
       "    .dataframe tbody tr th:only-of-type {\n",
       "        vertical-align: middle;\n",
       "    }\n",
       "\n",
       "    .dataframe tbody tr th {\n",
       "        vertical-align: top;\n",
       "    }\n",
       "\n",
       "    .dataframe thead th {\n",
       "        text-align: right;\n",
       "    }\n",
       "</style>\n",
       "<table border=\"1\" class=\"dataframe\">\n",
       "  <thead>\n",
       "    <tr style=\"text-align: right;\">\n",
       "      <th></th>\n",
       "      <th>State</th>\n",
       "      <th>Sex</th>\n",
       "      <th>GeneralHealth</th>\n",
       "      <th>PhysicalHealthDays</th>\n",
       "      <th>MentalHealthDays</th>\n",
       "      <th>LastCheckupTime</th>\n",
       "      <th>PhysicalActivities</th>\n",
       "      <th>SleepHours</th>\n",
       "      <th>RemovedTeeth</th>\n",
       "      <th>HadHeartAttack</th>\n",
       "      <th>...</th>\n",
       "      <th>HeightInMeters</th>\n",
       "      <th>WeightInKilograms</th>\n",
       "      <th>BMI</th>\n",
       "      <th>AlcoholDrinkers</th>\n",
       "      <th>HIVTesting</th>\n",
       "      <th>FluVaxLast12</th>\n",
       "      <th>PneumoVaxEver</th>\n",
       "      <th>TetanusLast10Tdap</th>\n",
       "      <th>HighRiskLastYear</th>\n",
       "      <th>CovidPos</th>\n",
       "    </tr>\n",
       "  </thead>\n",
       "  <tbody>\n",
       "    <tr>\n",
       "      <th>0</th>\n",
       "      <td>California</td>\n",
       "      <td>Female</td>\n",
       "      <td>Excellent</td>\n",
       "      <td>NaN</td>\n",
       "      <td>3.0</td>\n",
       "      <td>Within past year (anytime less than 12 months ago)</td>\n",
       "      <td>Yes</td>\n",
       "      <td>7.0</td>\n",
       "      <td>None of them</td>\n",
       "      <td>No</td>\n",
       "      <td>...</td>\n",
       "      <td>1.60</td>\n",
       "      <td>67.13</td>\n",
       "      <td>26.22</td>\n",
       "      <td>Yes</td>\n",
       "      <td>No</td>\n",
       "      <td>Yes</td>\n",
       "      <td>Yes</td>\n",
       "      <td>No, did not receive any tetanus shot in the past 10 years</td>\n",
       "      <td>No</td>\n",
       "      <td>No</td>\n",
       "    </tr>\n",
       "    <tr>\n",
       "      <th>1</th>\n",
       "      <td>California</td>\n",
       "      <td>Male</td>\n",
       "      <td>Very good</td>\n",
       "      <td>0.0</td>\n",
       "      <td>0.0</td>\n",
       "      <td>Within past year (anytime less than 12 months ago)</td>\n",
       "      <td>Yes</td>\n",
       "      <td>6.0</td>\n",
       "      <td>None of them</td>\n",
       "      <td>No</td>\n",
       "      <td>...</td>\n",
       "      <td>1.83</td>\n",
       "      <td>86.18</td>\n",
       "      <td>25.77</td>\n",
       "      <td>No</td>\n",
       "      <td>Yes</td>\n",
       "      <td>No</td>\n",
       "      <td>No</td>\n",
       "      <td>Yes, received Tdap</td>\n",
       "      <td>No</td>\n",
       "      <td>No</td>\n",
       "    </tr>\n",
       "    <tr>\n",
       "      <th>2</th>\n",
       "      <td>California</td>\n",
       "      <td>Female</td>\n",
       "      <td>Very good</td>\n",
       "      <td>0.0</td>\n",
       "      <td>0.0</td>\n",
       "      <td>Within past 2 years (1 year but less than 2 years ago)</td>\n",
       "      <td>No</td>\n",
       "      <td>8.0</td>\n",
       "      <td>1 to 5</td>\n",
       "      <td>No</td>\n",
       "      <td>...</td>\n",
       "      <td>1.63</td>\n",
       "      <td>55.79</td>\n",
       "      <td>21.11</td>\n",
       "      <td>No</td>\n",
       "      <td>No</td>\n",
       "      <td>No</td>\n",
       "      <td>Yes</td>\n",
       "      <td>No, did not receive any tetanus shot in the past 10 years</td>\n",
       "      <td>No</td>\n",
       "      <td>No</td>\n",
       "    </tr>\n",
       "    <tr>\n",
       "      <th>3</th>\n",
       "      <td>California</td>\n",
       "      <td>Female</td>\n",
       "      <td>Good</td>\n",
       "      <td>0.0</td>\n",
       "      <td>30.0</td>\n",
       "      <td>Within past year (anytime less than 12 months ago)</td>\n",
       "      <td>No</td>\n",
       "      <td>7.0</td>\n",
       "      <td>None of them</td>\n",
       "      <td>No</td>\n",
       "      <td>...</td>\n",
       "      <td>1.75</td>\n",
       "      <td>72.57</td>\n",
       "      <td>23.63</td>\n",
       "      <td>No</td>\n",
       "      <td>No</td>\n",
       "      <td>No</td>\n",
       "      <td>No</td>\n",
       "      <td>No, did not receive any tetanus shot in the past 10 years</td>\n",
       "      <td>No</td>\n",
       "      <td>No</td>\n",
       "    </tr>\n",
       "    <tr>\n",
       "      <th>4</th>\n",
       "      <td>California</td>\n",
       "      <td>Male</td>\n",
       "      <td>Good</td>\n",
       "      <td>12.0</td>\n",
       "      <td>0.0</td>\n",
       "      <td>Within past year (anytime less than 12 months ago)</td>\n",
       "      <td>Yes</td>\n",
       "      <td>8.0</td>\n",
       "      <td>None of them</td>\n",
       "      <td>No</td>\n",
       "      <td>...</td>\n",
       "      <td>1.73</td>\n",
       "      <td>65.77</td>\n",
       "      <td>22.05</td>\n",
       "      <td>Yes</td>\n",
       "      <td>No</td>\n",
       "      <td>Yes</td>\n",
       "      <td>Yes</td>\n",
       "      <td>NaN</td>\n",
       "      <td>Yes</td>\n",
       "      <td>No</td>\n",
       "    </tr>\n",
       "    <tr>\n",
       "      <th>...</th>\n",
       "      <td>...</td>\n",
       "      <td>...</td>\n",
       "      <td>...</td>\n",
       "      <td>...</td>\n",
       "      <td>...</td>\n",
       "      <td>...</td>\n",
       "      <td>...</td>\n",
       "      <td>...</td>\n",
       "      <td>...</td>\n",
       "      <td>...</td>\n",
       "      <td>...</td>\n",
       "      <td>...</td>\n",
       "      <td>...</td>\n",
       "      <td>...</td>\n",
       "      <td>...</td>\n",
       "      <td>...</td>\n",
       "      <td>...</td>\n",
       "      <td>...</td>\n",
       "      <td>...</td>\n",
       "      <td>...</td>\n",
       "      <td>...</td>\n",
       "    </tr>\n",
       "    <tr>\n",
       "      <th>10947</th>\n",
       "      <td>California</td>\n",
       "      <td>Male</td>\n",
       "      <td>Good</td>\n",
       "      <td>0.0</td>\n",
       "      <td>3.0</td>\n",
       "      <td>Within past year (anytime less than 12 months ago)</td>\n",
       "      <td>Yes</td>\n",
       "      <td>5.0</td>\n",
       "      <td>1 to 5</td>\n",
       "      <td>No</td>\n",
       "      <td>...</td>\n",
       "      <td>1.83</td>\n",
       "      <td>65.77</td>\n",
       "      <td>19.67</td>\n",
       "      <td>Yes</td>\n",
       "      <td>Yes</td>\n",
       "      <td>No</td>\n",
       "      <td>Yes</td>\n",
       "      <td>Yes, received Tdap</td>\n",
       "      <td>No</td>\n",
       "      <td>No</td>\n",
       "    </tr>\n",
       "    <tr>\n",
       "      <th>10948</th>\n",
       "      <td>California</td>\n",
       "      <td>Male</td>\n",
       "      <td>Good</td>\n",
       "      <td>0.0</td>\n",
       "      <td>0.0</td>\n",
       "      <td>Within past year (anytime less than 12 months ago)</td>\n",
       "      <td>Yes</td>\n",
       "      <td>8.0</td>\n",
       "      <td>None of them</td>\n",
       "      <td>No</td>\n",
       "      <td>...</td>\n",
       "      <td>1.78</td>\n",
       "      <td>90.72</td>\n",
       "      <td>28.70</td>\n",
       "      <td>Yes</td>\n",
       "      <td>NaN</td>\n",
       "      <td>Yes</td>\n",
       "      <td>Yes</td>\n",
       "      <td>NaN</td>\n",
       "      <td>No</td>\n",
       "      <td>Tested positive using home test without a health professional</td>\n",
       "    </tr>\n",
       "    <tr>\n",
       "      <th>10949</th>\n",
       "      <td>California</td>\n",
       "      <td>Female</td>\n",
       "      <td>Fair</td>\n",
       "      <td>5.0</td>\n",
       "      <td>5.0</td>\n",
       "      <td>Within past year (anytime less than 12 months ago)</td>\n",
       "      <td>Yes</td>\n",
       "      <td>7.0</td>\n",
       "      <td>None of them</td>\n",
       "      <td>No</td>\n",
       "      <td>...</td>\n",
       "      <td>1.57</td>\n",
       "      <td>68.04</td>\n",
       "      <td>27.44</td>\n",
       "      <td>No</td>\n",
       "      <td>No</td>\n",
       "      <td>Yes</td>\n",
       "      <td>NaN</td>\n",
       "      <td>No, did not receive any tetanus shot in the past 10 years</td>\n",
       "      <td>No</td>\n",
       "      <td>Yes</td>\n",
       "    </tr>\n",
       "    <tr>\n",
       "      <th>10950</th>\n",
       "      <td>California</td>\n",
       "      <td>Female</td>\n",
       "      <td>Excellent</td>\n",
       "      <td>0.0</td>\n",
       "      <td>2.0</td>\n",
       "      <td>Within past 2 years (1 year but less than 2 years ago)</td>\n",
       "      <td>Yes</td>\n",
       "      <td>10.0</td>\n",
       "      <td>None of them</td>\n",
       "      <td>No</td>\n",
       "      <td>...</td>\n",
       "      <td>1.75</td>\n",
       "      <td>58.97</td>\n",
       "      <td>19.20</td>\n",
       "      <td>No</td>\n",
       "      <td>Yes</td>\n",
       "      <td>No</td>\n",
       "      <td>NaN</td>\n",
       "      <td>Yes, received Tdap</td>\n",
       "      <td>No</td>\n",
       "      <td>Yes</td>\n",
       "    </tr>\n",
       "    <tr>\n",
       "      <th>10951</th>\n",
       "      <td>California</td>\n",
       "      <td>Female</td>\n",
       "      <td>Very good</td>\n",
       "      <td>1.0</td>\n",
       "      <td>3.0</td>\n",
       "      <td>Within past year (anytime less than 12 months ago)</td>\n",
       "      <td>Yes</td>\n",
       "      <td>8.0</td>\n",
       "      <td>1 to 5</td>\n",
       "      <td>No</td>\n",
       "      <td>...</td>\n",
       "      <td>NaN</td>\n",
       "      <td>77.11</td>\n",
       "      <td>NaN</td>\n",
       "      <td>NaN</td>\n",
       "      <td>NaN</td>\n",
       "      <td>NaN</td>\n",
       "      <td>NaN</td>\n",
       "      <td>NaN</td>\n",
       "      <td>NaN</td>\n",
       "      <td>NaN</td>\n",
       "    </tr>\n",
       "  </tbody>\n",
       "</table>\n",
       "<p>10952 rows × 40 columns</p>\n",
       "</div>"
      ],
      "text/plain": [
       "            State     Sex GeneralHealth  PhysicalHealthDays  MentalHealthDays  \\\n",
       "0      California  Female     Excellent                 NaN               3.0   \n",
       "1      California    Male     Very good                 0.0               0.0   \n",
       "2      California  Female     Very good                 0.0               0.0   \n",
       "3      California  Female          Good                 0.0              30.0   \n",
       "4      California    Male          Good                12.0               0.0   \n",
       "...           ...     ...           ...                 ...               ...   \n",
       "10947  California    Male          Good                 0.0               3.0   \n",
       "10948  California    Male          Good                 0.0               0.0   \n",
       "10949  California  Female          Fair                 5.0               5.0   \n",
       "10950  California  Female     Excellent                 0.0               2.0   \n",
       "10951  California  Female     Very good                 1.0               3.0   \n",
       "\n",
       "                                              LastCheckupTime  \\\n",
       "0          Within past year (anytime less than 12 months ago)   \n",
       "1          Within past year (anytime less than 12 months ago)   \n",
       "2      Within past 2 years (1 year but less than 2 years ago)   \n",
       "3          Within past year (anytime less than 12 months ago)   \n",
       "4          Within past year (anytime less than 12 months ago)   \n",
       "...                                                       ...   \n",
       "10947      Within past year (anytime less than 12 months ago)   \n",
       "10948      Within past year (anytime less than 12 months ago)   \n",
       "10949      Within past year (anytime less than 12 months ago)   \n",
       "10950  Within past 2 years (1 year but less than 2 years ago)   \n",
       "10951      Within past year (anytime less than 12 months ago)   \n",
       "\n",
       "      PhysicalActivities  SleepHours  RemovedTeeth HadHeartAttack  ...  \\\n",
       "0                    Yes         7.0  None of them             No  ...   \n",
       "1                    Yes         6.0  None of them             No  ...   \n",
       "2                     No         8.0        1 to 5             No  ...   \n",
       "3                     No         7.0  None of them             No  ...   \n",
       "4                    Yes         8.0  None of them             No  ...   \n",
       "...                  ...         ...           ...            ...  ...   \n",
       "10947                Yes         5.0        1 to 5             No  ...   \n",
       "10948                Yes         8.0  None of them             No  ...   \n",
       "10949                Yes         7.0  None of them             No  ...   \n",
       "10950                Yes        10.0  None of them             No  ...   \n",
       "10951                Yes         8.0        1 to 5             No  ...   \n",
       "\n",
       "      HeightInMeters WeightInKilograms    BMI AlcoholDrinkers HIVTesting  \\\n",
       "0               1.60             67.13  26.22             Yes         No   \n",
       "1               1.83             86.18  25.77              No        Yes   \n",
       "2               1.63             55.79  21.11              No         No   \n",
       "3               1.75             72.57  23.63              No         No   \n",
       "4               1.73             65.77  22.05             Yes         No   \n",
       "...              ...               ...    ...             ...        ...   \n",
       "10947           1.83             65.77  19.67             Yes        Yes   \n",
       "10948           1.78             90.72  28.70             Yes        NaN   \n",
       "10949           1.57             68.04  27.44              No         No   \n",
       "10950           1.75             58.97  19.20              No        Yes   \n",
       "10951            NaN             77.11    NaN             NaN        NaN   \n",
       "\n",
       "      FluVaxLast12 PneumoVaxEver  \\\n",
       "0              Yes           Yes   \n",
       "1               No            No   \n",
       "2               No           Yes   \n",
       "3               No            No   \n",
       "4              Yes           Yes   \n",
       "...            ...           ...   \n",
       "10947           No           Yes   \n",
       "10948          Yes           Yes   \n",
       "10949          Yes           NaN   \n",
       "10950           No           NaN   \n",
       "10951          NaN           NaN   \n",
       "\n",
       "                                               TetanusLast10Tdap  \\\n",
       "0      No, did not receive any tetanus shot in the past 10 years   \n",
       "1                                             Yes, received Tdap   \n",
       "2      No, did not receive any tetanus shot in the past 10 years   \n",
       "3      No, did not receive any tetanus shot in the past 10 years   \n",
       "4                                                            NaN   \n",
       "...                                                          ...   \n",
       "10947                                         Yes, received Tdap   \n",
       "10948                                                        NaN   \n",
       "10949  No, did not receive any tetanus shot in the past 10 years   \n",
       "10950                                         Yes, received Tdap   \n",
       "10951                                                        NaN   \n",
       "\n",
       "      HighRiskLastYear  \\\n",
       "0                   No   \n",
       "1                   No   \n",
       "2                   No   \n",
       "3                   No   \n",
       "4                  Yes   \n",
       "...                ...   \n",
       "10947               No   \n",
       "10948               No   \n",
       "10949               No   \n",
       "10950               No   \n",
       "10951              NaN   \n",
       "\n",
       "                                                            CovidPos  \n",
       "0                                                                 No  \n",
       "1                                                                 No  \n",
       "2                                                                 No  \n",
       "3                                                                 No  \n",
       "4                                                                 No  \n",
       "...                                                              ...  \n",
       "10947                                                             No  \n",
       "10948  Tested positive using home test without a health professional  \n",
       "10949                                                            Yes  \n",
       "10950                                                            Yes  \n",
       "10951                                                            NaN  \n",
       "\n",
       "[10952 rows x 40 columns]"
      ]
     },
     "execution_count": 28,
     "metadata": {},
     "output_type": "execute_result"
    }
   ],
   "source": [
    "raw_data = pd.read_csv('../data/data.csv')\n",
    "raw_data"
   ]
  },
  {
   "cell_type": "markdown",
   "id": "424b492c-92c8-4132-9480-03e566b448e7",
   "metadata": {},
   "source": [
    "**3. How many rows and how many columns does the raw data have?**\n",
    "- First, we should find out our dataset contains."
   ]
  },
  {
   "cell_type": "code",
   "execution_count": 29,
   "id": "057f7a44-aa0f-46b4-81db-2ba3315faefd",
   "metadata": {},
   "outputs": [
    {
     "data": {
      "text/plain": [
       "(10952, 40)"
      ]
     },
     "execution_count": 29,
     "metadata": {},
     "output_type": "execute_result"
    }
   ],
   "source": [
    "# Todo\n",
    "raw_data.shape"
   ]
  },
  {
   "cell_type": "markdown",
   "id": "04822f8a-ecd3-4839-94d3-d03b253a307e",
   "metadata": {},
   "source": [
    "We can see in this dataset, there are\n",
    "- `10952 rows`\n",
    "- `40 columns`"
   ]
  },
  {
   "cell_type": "markdown",
   "id": "11071b90-2dce-4506-9851-353c4f4422cf",
   "metadata": {},
   "source": [
    "**4. What are the meanings of each row?**"
   ]
  },
  {
   "cell_type": "markdown",
   "id": "9a3700c7-29e7-4b67-bcb3-ffab064c1115",
   "metadata": {},
   "source": [
    "Each row in the dataset represents the **information of an individual** in the state of **California**, USA. The information includes the state, gender, general health status, number of days affected by physical and mental health, last health checkup time, physical activities, sleep hours, medical history, and other health-related factors."
   ]
  },
  {
   "cell_type": "markdown",
   "id": "fd4d93da-ad8d-43a4-96e1-b41221f44824",
   "metadata": {},
   "source": [
    "**5. Does the raw data have duplicate rows?**"
   ]
  },
  {
   "cell_type": "code",
   "execution_count": 30,
   "id": "81ec2340-de67-487a-b17a-7f1576084fc2",
   "metadata": {},
   "outputs": [
    {
     "name": "stdout",
     "output_type": "stream",
     "text": [
      "Duplicate rows found\n",
      "           State     Sex GeneralHealth  PhysicalHealthDays  MentalHealthDays  \\\n",
      "2341  California    Male     Excellent                 0.0               0.0   \n",
      "3474  California    Male     Excellent                 0.0               0.0   \n",
      "6846  California  Female           NaN                 NaN               NaN   \n",
      "9779  California    Male     Excellent                 0.0               0.0   \n",
      "\n",
      "                                         LastCheckupTime PhysicalActivities  \\\n",
      "2341  Within past year (anytime less than 12 months ago)                Yes   \n",
      "3474  Within past year (anytime less than 12 months ago)                Yes   \n",
      "6846                                                 NaN                NaN   \n",
      "9779  Within past year (anytime less than 12 months ago)                Yes   \n",
      "\n",
      "      SleepHours  RemovedTeeth HadHeartAttack  ... HeightInMeters  \\\n",
      "2341         7.0  None of them             No  ...            NaN   \n",
      "3474         7.0  None of them             No  ...            NaN   \n",
      "6846         NaN           NaN            NaN  ...            NaN   \n",
      "9779         7.0  None of them             No  ...            NaN   \n",
      "\n",
      "     WeightInKilograms BMI AlcoholDrinkers HIVTesting FluVaxLast12  \\\n",
      "2341               NaN NaN             NaN        NaN          NaN   \n",
      "3474               NaN NaN             NaN        NaN          NaN   \n",
      "6846               NaN NaN             NaN        NaN          NaN   \n",
      "9779               NaN NaN             NaN        NaN          NaN   \n",
      "\n",
      "     PneumoVaxEver TetanusLast10Tdap HighRiskLastYear CovidPos  \n",
      "2341           NaN               NaN              NaN      NaN  \n",
      "3474           NaN               NaN              NaN      NaN  \n",
      "6846           NaN               NaN              NaN      NaN  \n",
      "9779           NaN               NaN              NaN      NaN  \n",
      "\n",
      "[4 rows x 40 columns]\n"
     ]
    }
   ],
   "source": [
    "# Todo\n",
    "def check_duplicates(data):\n",
    "    duplicate_rows = data[data.duplicated()]\n",
    "    if duplicate_rows.empty:\n",
    "        print('No duplicate rows found')\n",
    "    else:\n",
    "        print('Duplicate rows found')\n",
    "        print(duplicate_rows)\n",
    "    return duplicate_rows\n",
    "duplicates = check_duplicates(raw_data)"
   ]
  },
  {
   "cell_type": "markdown",
   "id": "5eb3876e-5cc1-47f6-876c-ee7fcb3824e3",
   "metadata": {},
   "source": [
    "**6. What does each column mean?**"
   ]
  },
  {
   "cell_type": "code",
   "execution_count": 31,
   "id": "45638653-f56b-4657-8ea6-e20e1b5f3451",
   "metadata": {},
   "outputs": [
    {
     "data": {
      "text/plain": [
       "Index(['State', 'Sex', 'GeneralHealth', 'PhysicalHealthDays',\n",
       "       'MentalHealthDays', 'LastCheckupTime', 'PhysicalActivities',\n",
       "       'SleepHours', 'RemovedTeeth', 'HadHeartAttack', 'HadAngina',\n",
       "       'HadStroke', 'HadAsthma', 'HadSkinCancer', 'HadCOPD',\n",
       "       'HadDepressiveDisorder', 'HadKidneyDisease', 'HadArthritis',\n",
       "       'HadDiabetes', 'DeafOrHardOfHearing', 'BlindOrVisionDifficulty',\n",
       "       'DifficultyConcentrating', 'DifficultyWalking',\n",
       "       'DifficultyDressingBathing', 'DifficultyErrands', 'SmokerStatus',\n",
       "       'ECigaretteUsage', 'ChestScan', 'RaceEthnicityCategory', 'AgeCategory',\n",
       "       'HeightInMeters', 'WeightInKilograms', 'BMI', 'AlcoholDrinkers',\n",
       "       'HIVTesting', 'FluVaxLast12', 'PneumoVaxEver', 'TetanusLast10Tdap',\n",
       "       'HighRiskLastYear', 'CovidPos'],\n",
       "      dtype='object')"
      ]
     },
     "execution_count": 31,
     "metadata": {},
     "output_type": "execute_result"
    }
   ],
   "source": [
    "raw_data.columns"
   ]
  },
  {
   "cell_type": "markdown",
   "id": "2b8fcd28-696f-451c-aeec-8279131170ab",
   "metadata": {},
   "source": [
    "Describe meaning of each column"
   ]
  },
  {
   "cell_type": "code",
   "execution_count": 32,
   "id": "e081b361-1803-47ae-9c30-d402e769f417",
   "metadata": {},
   "outputs": [
    {
     "data": {
      "text/html": [
       "<div>\n",
       "<style scoped>\n",
       "    .dataframe tbody tr th:only-of-type {\n",
       "        vertical-align: middle;\n",
       "    }\n",
       "\n",
       "    .dataframe tbody tr th {\n",
       "        vertical-align: top;\n",
       "    }\n",
       "\n",
       "    .dataframe thead th {\n",
       "        text-align: right;\n",
       "    }\n",
       "</style>\n",
       "<table border=\"1\" class=\"dataframe\">\n",
       "  <thead>\n",
       "    <tr style=\"text-align: right;\">\n",
       "      <th></th>\n",
       "      <th>Column</th>\n",
       "      <th>Meaning</th>\n",
       "    </tr>\n",
       "  </thead>\n",
       "  <tbody>\n",
       "    <tr>\n",
       "      <th>0</th>\n",
       "      <td>State</td>\n",
       "      <td>State FIPS Code</td>\n",
       "    </tr>\n",
       "    <tr>\n",
       "      <th>1</th>\n",
       "      <td>Sex</td>\n",
       "      <td>Sex of Respondent</td>\n",
       "    </tr>\n",
       "    <tr>\n",
       "      <th>2</th>\n",
       "      <td>GeneralHealth</td>\n",
       "      <td>Would you say that in general your health is:</td>\n",
       "    </tr>\n",
       "    <tr>\n",
       "      <th>3</th>\n",
       "      <td>PhysicalHealthDays</td>\n",
       "      <td>Now thinking about your physical health, which includes physical illness and injury, for how many days during the past 30 days was your physical health not good?</td>\n",
       "    </tr>\n",
       "    <tr>\n",
       "      <th>4</th>\n",
       "      <td>MentalHealthDays</td>\n",
       "      <td>Now thinking about your mental health, which includes stress, depression, and problems with emotions, for how many days during the past 30 days was your mental health not good?</td>\n",
       "    </tr>\n",
       "    <tr>\n",
       "      <th>5</th>\n",
       "      <td>LastCheckupTime</td>\n",
       "      <td>About how long has it been since you last visited a doctor for a routine checkup?</td>\n",
       "    </tr>\n",
       "    <tr>\n",
       "      <th>6</th>\n",
       "      <td>PhysicalActivities</td>\n",
       "      <td>During the past month, other than your regular job, did you participate in any physical activities or exercises such as running, calisthenics, golf, gardening, or walking for exercise?</td>\n",
       "    </tr>\n",
       "    <tr>\n",
       "      <th>7</th>\n",
       "      <td>SleepHours</td>\n",
       "      <td>On average, how many hours of sleep do you get in a 24-hour period?</td>\n",
       "    </tr>\n",
       "    <tr>\n",
       "      <th>8</th>\n",
       "      <td>RemovedTeeth</td>\n",
       "      <td>Not including teeth lost for injury or orthodontics, how many of your permanent teeth have been removed because of tooth decay or gum disease?</td>\n",
       "    </tr>\n",
       "    <tr>\n",
       "      <th>9</th>\n",
       "      <td>HadHeartAttack</td>\n",
       "      <td>(Ever told) you had a heart attack, also called a myocardial infarction?</td>\n",
       "    </tr>\n",
       "    <tr>\n",
       "      <th>10</th>\n",
       "      <td>HadAngina</td>\n",
       "      <td>(Ever told) (you had) angina or coronary heart disease?</td>\n",
       "    </tr>\n",
       "    <tr>\n",
       "      <th>11</th>\n",
       "      <td>HadStroke</td>\n",
       "      <td>(Ever told) (you had) a stroke.</td>\n",
       "    </tr>\n",
       "    <tr>\n",
       "      <th>12</th>\n",
       "      <td>HadAsthma</td>\n",
       "      <td>(Ever told) (you had) asthma?</td>\n",
       "    </tr>\n",
       "    <tr>\n",
       "      <th>13</th>\n",
       "      <td>HadSkinCancer</td>\n",
       "      <td>(Ever told) (you had) skin cancer that is not melanoma?</td>\n",
       "    </tr>\n",
       "    <tr>\n",
       "      <th>14</th>\n",
       "      <td>HadCOPD</td>\n",
       "      <td>(Ever told) (you had) C.O.P.D. (chronic obstructive pulmonary disease), emphysema or chronic bronchitis?</td>\n",
       "    </tr>\n",
       "    <tr>\n",
       "      <th>15</th>\n",
       "      <td>HadDepressiveDisorder</td>\n",
       "      <td>(Ever told) (you had) a depressive disorder (including depression, major depression, dysthymia, or minor depression)?</td>\n",
       "    </tr>\n",
       "    <tr>\n",
       "      <th>16</th>\n",
       "      <td>HadKidneyDisease</td>\n",
       "      <td>Not including kidney stones, bladder infection or incontinence, were you ever told you had kidney disease?</td>\n",
       "    </tr>\n",
       "    <tr>\n",
       "      <th>17</th>\n",
       "      <td>HadArthritis</td>\n",
       "      <td>(Ever told) (you had) some form of arthritis, rheumatoid arthritis, gout, lupus, or fibromyalgia?  (Arthritis diagnoses include: rheumatism, polymyalgia rheumatica; osteoarthritis (not osteporosis); tendonitis, bursitis, bunion, tennis elbow; carpal tunnel syndrome, tarsal tunnel syndrome; joint infection, etc.)</td>\n",
       "    </tr>\n",
       "    <tr>\n",
       "      <th>18</th>\n",
       "      <td>HadDiabetes</td>\n",
       "      <td>(Ever told) (you had) diabetes?</td>\n",
       "    </tr>\n",
       "    <tr>\n",
       "      <th>19</th>\n",
       "      <td>DeafOrHardOfHearing</td>\n",
       "      <td>Are you deaf or do you have serious difficulty hearing?</td>\n",
       "    </tr>\n",
       "    <tr>\n",
       "      <th>20</th>\n",
       "      <td>BlindOrVisionDifficulty</td>\n",
       "      <td>Are you blind or do you have serious difficulty seeing, even when wearing glasses?</td>\n",
       "    </tr>\n",
       "    <tr>\n",
       "      <th>21</th>\n",
       "      <td>DifficultyConcentrating</td>\n",
       "      <td>Because of a physical, mental, or emotional condition, do you have serious difficulty concentrating, remembering, or making decisions?</td>\n",
       "    </tr>\n",
       "    <tr>\n",
       "      <th>22</th>\n",
       "      <td>DifficultyWalking</td>\n",
       "      <td>Do you have serious difficulty walking or climbing stairs?</td>\n",
       "    </tr>\n",
       "    <tr>\n",
       "      <th>23</th>\n",
       "      <td>DifficultyDressingBathing</td>\n",
       "      <td>Do you have difficulty dressing or bathing?</td>\n",
       "    </tr>\n",
       "    <tr>\n",
       "      <th>24</th>\n",
       "      <td>DifficultyErrands</td>\n",
       "      <td>Because of a physical, mental, or emotional condition, do you have difficulty doing errands alone such as visiting a doctor´s office or shopping?</td>\n",
       "    </tr>\n",
       "    <tr>\n",
       "      <th>25</th>\n",
       "      <td>SmokerStatus</td>\n",
       "      <td>Four-level smoker status:  Everyday smoker, Someday smoker, Former smoker, Non-smoker</td>\n",
       "    </tr>\n",
       "    <tr>\n",
       "      <th>26</th>\n",
       "      <td>ECigaretteUsage</td>\n",
       "      <td>Would you say you have never used e-cigarettes or other electronic vaping products in your entire life or now use them every day, use them some days, or used them in the past but do not currently use them at all?</td>\n",
       "    </tr>\n",
       "    <tr>\n",
       "      <th>27</th>\n",
       "      <td>ChestScan</td>\n",
       "      <td>LCSCTSC1 - Have you ever had a CT or CAT scan of your chest area?</td>\n",
       "    </tr>\n",
       "    <tr>\n",
       "      <th>28</th>\n",
       "      <td>RaceEthnicityCategory</td>\n",
       "      <td>Five-level race/ethnicity category</td>\n",
       "    </tr>\n",
       "    <tr>\n",
       "      <th>29</th>\n",
       "      <td>AgeCategory</td>\n",
       "      <td>Fourteen-level age category</td>\n",
       "    </tr>\n",
       "    <tr>\n",
       "      <th>30</th>\n",
       "      <td>HeightInMeters</td>\n",
       "      <td>Reported height in meters</td>\n",
       "    </tr>\n",
       "    <tr>\n",
       "      <th>31</th>\n",
       "      <td>WeightInKilograms</td>\n",
       "      <td>Reported weight in kilograms</td>\n",
       "    </tr>\n",
       "    <tr>\n",
       "      <th>32</th>\n",
       "      <td>BMI</td>\n",
       "      <td>Body Mass Index (BMI)</td>\n",
       "    </tr>\n",
       "    <tr>\n",
       "      <th>33</th>\n",
       "      <td>AlcoholDrinkers</td>\n",
       "      <td>Adults who reported having had at least one drink of alcohol in the past 30 days.</td>\n",
       "    </tr>\n",
       "    <tr>\n",
       "      <th>34</th>\n",
       "      <td>HIVTesting</td>\n",
       "      <td>Adults who have ever been tested for HIV</td>\n",
       "    </tr>\n",
       "    <tr>\n",
       "      <th>35</th>\n",
       "      <td>FluVaxLast12</td>\n",
       "      <td>During the past 12 months, have you had either flu vaccine that was sprayed in your nose or flu shot injected into your arm?</td>\n",
       "    </tr>\n",
       "    <tr>\n",
       "      <th>36</th>\n",
       "      <td>PneumoVaxEver</td>\n",
       "      <td>Have you ever had a pneumonia shot also known as a pneumococcal vaccine?</td>\n",
       "    </tr>\n",
       "    <tr>\n",
       "      <th>37</th>\n",
       "      <td>TetanusLast10Tdap</td>\n",
       "      <td>Have you received a tetanus shot in the past 10 years? Was this Tdap, the tetanus shot that also has pertussis or whooping cough vaccine?</td>\n",
       "    </tr>\n",
       "    <tr>\n",
       "      <th>38</th>\n",
       "      <td>HighRiskLastYear</td>\n",
       "      <td>You have injected any drug other than those prescribed for you in the past year. You have been treated for a sexually transmitted disease or STD in the past year. You have given or received money or drugs in exchange for sex in the past year.</td>\n",
       "    </tr>\n",
       "    <tr>\n",
       "      <th>39</th>\n",
       "      <td>CovidPos</td>\n",
       "      <td>Has a doctor, nurse, or other health professional ever told you that you tested positive for COVID 19?</td>\n",
       "    </tr>\n",
       "  </tbody>\n",
       "</table>\n",
       "</div>"
      ],
      "text/plain": [
       "                       Column  \\\n",
       "0                       State   \n",
       "1                         Sex   \n",
       "2               GeneralHealth   \n",
       "3          PhysicalHealthDays   \n",
       "4            MentalHealthDays   \n",
       "5             LastCheckupTime   \n",
       "6          PhysicalActivities   \n",
       "7                  SleepHours   \n",
       "8                RemovedTeeth   \n",
       "9              HadHeartAttack   \n",
       "10                  HadAngina   \n",
       "11                  HadStroke   \n",
       "12                  HadAsthma   \n",
       "13              HadSkinCancer   \n",
       "14                    HadCOPD   \n",
       "15      HadDepressiveDisorder   \n",
       "16           HadKidneyDisease   \n",
       "17               HadArthritis   \n",
       "18                HadDiabetes   \n",
       "19        DeafOrHardOfHearing   \n",
       "20    BlindOrVisionDifficulty   \n",
       "21    DifficultyConcentrating   \n",
       "22          DifficultyWalking   \n",
       "23  DifficultyDressingBathing   \n",
       "24          DifficultyErrands   \n",
       "25               SmokerStatus   \n",
       "26            ECigaretteUsage   \n",
       "27                  ChestScan   \n",
       "28      RaceEthnicityCategory   \n",
       "29                AgeCategory   \n",
       "30             HeightInMeters   \n",
       "31          WeightInKilograms   \n",
       "32                        BMI   \n",
       "33            AlcoholDrinkers   \n",
       "34                 HIVTesting   \n",
       "35               FluVaxLast12   \n",
       "36              PneumoVaxEver   \n",
       "37          TetanusLast10Tdap   \n",
       "38           HighRiskLastYear   \n",
       "39                   CovidPos   \n",
       "\n",
       "                                                                                                                                                                                                                                                                                                                      Meaning  \n",
       "0                                                                                                                                                                                                                                                                                                             State FIPS Code  \n",
       "1                                                                                                                                                                                                                                                                                                           Sex of Respondent  \n",
       "2                                                                                                                                                                                                                                                                               Would you say that in general your health is:  \n",
       "3                                                                                                                                                           Now thinking about your physical health, which includes physical illness and injury, for how many days during the past 30 days was your physical health not good?  \n",
       "4                                                                                                                                            Now thinking about your mental health, which includes stress, depression, and problems with emotions, for how many days during the past 30 days was your mental health not good?  \n",
       "5                                                                                                                                                                                                                                           About how long has it been since you last visited a doctor for a routine checkup?  \n",
       "6                                                                                                                                    During the past month, other than your regular job, did you participate in any physical activities or exercises such as running, calisthenics, golf, gardening, or walking for exercise?  \n",
       "7                                                                                                                                                                                                                                                         On average, how many hours of sleep do you get in a 24-hour period?  \n",
       "8                                                                                                                                                                              Not including teeth lost for injury or orthodontics, how many of your permanent teeth have been removed because of tooth decay or gum disease?  \n",
       "9                                                                                                                                                                                                                                                    (Ever told) you had a heart attack, also called a myocardial infarction?  \n",
       "10                                                                                                                                                                                                                                                                    (Ever told) (you had) angina or coronary heart disease?  \n",
       "11                                                                                                                                                                                                                                                                                            (Ever told) (you had) a stroke.  \n",
       "12                                                                                                                                                                                                                                                                                              (Ever told) (you had) asthma?  \n",
       "13                                                                                                                                                                                                                                                                    (Ever told) (you had) skin cancer that is not melanoma?  \n",
       "14                                                                                                                                                                                                                   (Ever told) (you had) C.O.P.D. (chronic obstructive pulmonary disease), emphysema or chronic bronchitis?  \n",
       "15                                                                                                                                                                                                      (Ever told) (you had) a depressive disorder (including depression, major depression, dysthymia, or minor depression)?  \n",
       "16                                                                                                                                                                                                                 Not including kidney stones, bladder infection or incontinence, were you ever told you had kidney disease?  \n",
       "17  (Ever told) (you had) some form of arthritis, rheumatoid arthritis, gout, lupus, or fibromyalgia?  (Arthritis diagnoses include: rheumatism, polymyalgia rheumatica; osteoarthritis (not osteporosis); tendonitis, bursitis, bunion, tennis elbow; carpal tunnel syndrome, tarsal tunnel syndrome; joint infection, etc.)  \n",
       "18                                                                                                                                                                                                                                                                                            (Ever told) (you had) diabetes?  \n",
       "19                                                                                                                                                                                                                                                                    Are you deaf or do you have serious difficulty hearing?  \n",
       "20                                                                                                                                                                                                                                         Are you blind or do you have serious difficulty seeing, even when wearing glasses?  \n",
       "21                                                                                                                                                                                     Because of a physical, mental, or emotional condition, do you have serious difficulty concentrating, remembering, or making decisions?  \n",
       "22                                                                                                                                                                                                                                                                 Do you have serious difficulty walking or climbing stairs?  \n",
       "23                                                                                                                                                                                                                                                                                Do you have difficulty dressing or bathing?  \n",
       "24                                                                                                                                                                          Because of a physical, mental, or emotional condition, do you have difficulty doing errands alone such as visiting a doctor´s office or shopping?  \n",
       "25                                                                                                                                                                                                                                      Four-level smoker status:  Everyday smoker, Someday smoker, Former smoker, Non-smoker  \n",
       "26                                                                                                       Would you say you have never used e-cigarettes or other electronic vaping products in your entire life or now use them every day, use them some days, or used them in the past but do not currently use them at all?  \n",
       "27                                                                                                                                                                                                                                                          LCSCTSC1 - Have you ever had a CT or CAT scan of your chest area?  \n",
       "28                                                                                                                                                                                                                                                                                         Five-level race/ethnicity category  \n",
       "29                                                                                                                                                                                                                                                                                                Fourteen-level age category  \n",
       "30                                                                                                                                                                                                                                                                                                  Reported height in meters  \n",
       "31                                                                                                                                                                                                                                                                                               Reported weight in kilograms  \n",
       "32                                                                                                                                                                                                                                                                                                      Body Mass Index (BMI)  \n",
       "33                                                                                                                                                                                                                                          Adults who reported having had at least one drink of alcohol in the past 30 days.  \n",
       "34                                                                                                                                                                                                                                                                                   Adults who have ever been tested for HIV  \n",
       "35                                                                                                                                                                                               During the past 12 months, have you had either flu vaccine that was sprayed in your nose or flu shot injected into your arm?  \n",
       "36                                                                                                                                                                                                                                                   Have you ever had a pneumonia shot also known as a pneumococcal vaccine?  \n",
       "37                                                                                                                                                                                  Have you received a tetanus shot in the past 10 years? Was this Tdap, the tetanus shot that also has pertussis or whooping cough vaccine?  \n",
       "38                                                                         You have injected any drug other than those prescribed for you in the past year. You have been treated for a sexually transmitted disease or STD in the past year. You have given or received money or drugs in exchange for sex in the past year.  \n",
       "39                                                                                                                                                                                                                     Has a doctor, nurse, or other health professional ever told you that you tested positive for COVID 19?  "
      ]
     },
     "execution_count": 32,
     "metadata": {},
     "output_type": "execute_result"
    }
   ],
   "source": [
    "col_meaning_df = pd.read_csv('../data/schema.csv')\n",
    "pd.set_option(\"display.max_colwidth\", None)\n",
    "col_meaning_df"
   ]
  },
  {
   "cell_type": "markdown",
   "id": "05f5df0f-5f83-4da0-ad39-9b676f68f1cf",
   "metadata": {},
   "source": [
    "**7. What data type does each column currently have? Are there any columns whose data types are not suitable for further processing?**"
   ]
  },
  {
   "cell_type": "code",
   "execution_count": 33,
   "id": "9a32eed3-a28e-4224-ace1-545f7188f5b8",
   "metadata": {},
   "outputs": [
    {
     "data": {
      "text/plain": [
       "State                         object\n",
       "Sex                           object\n",
       "GeneralHealth                 object\n",
       "PhysicalHealthDays           float64\n",
       "MentalHealthDays             float64\n",
       "LastCheckupTime               object\n",
       "PhysicalActivities            object\n",
       "SleepHours                   float64\n",
       "RemovedTeeth                  object\n",
       "HadHeartAttack                object\n",
       "HadAngina                     object\n",
       "HadStroke                     object\n",
       "HadAsthma                     object\n",
       "HadSkinCancer                 object\n",
       "HadCOPD                       object\n",
       "HadDepressiveDisorder         object\n",
       "HadKidneyDisease              object\n",
       "HadArthritis                  object\n",
       "HadDiabetes                   object\n",
       "DeafOrHardOfHearing           object\n",
       "BlindOrVisionDifficulty       object\n",
       "DifficultyConcentrating       object\n",
       "DifficultyWalking             object\n",
       "DifficultyDressingBathing     object\n",
       "DifficultyErrands             object\n",
       "SmokerStatus                  object\n",
       "ECigaretteUsage               object\n",
       "ChestScan                     object\n",
       "RaceEthnicityCategory         object\n",
       "AgeCategory                   object\n",
       "HeightInMeters               float64\n",
       "WeightInKilograms            float64\n",
       "BMI                          float64\n",
       "AlcoholDrinkers               object\n",
       "HIVTesting                    object\n",
       "FluVaxLast12                  object\n",
       "PneumoVaxEver                 object\n",
       "TetanusLast10Tdap             object\n",
       "HighRiskLastYear              object\n",
       "CovidPos                      object\n",
       "dtype: object"
      ]
     },
     "execution_count": 33,
     "metadata": {},
     "output_type": "execute_result"
    }
   ],
   "source": [
    "raw_data.dtypes"
   ]
  },
  {
   "cell_type": "markdown",
   "id": "03396e66-9371-43eb-8a63-b429f3fb2896",
   "metadata": {},
   "source": [
    "**8. With each numerical column, how are values distributed?**\n",
    "- What is the percentage of missing values?\n",
    "- Min? max? Are they abnormal?"
   ]
  },
  {
   "cell_type": "markdown",
   "id": "0b49d41a-1c5a-41f1-8988-38248950bf1f",
   "metadata": {},
   "source": [
    "**8.1 Select numeric columns**"
   ]
  },
  {
   "cell_type": "code",
   "execution_count": 34,
   "id": "f5e415f3-de42-4253-a52f-85d3bae9288a",
   "metadata": {},
   "outputs": [
    {
     "data": {
      "text/html": [
       "<div>\n",
       "<style scoped>\n",
       "    .dataframe tbody tr th:only-of-type {\n",
       "        vertical-align: middle;\n",
       "    }\n",
       "\n",
       "    .dataframe tbody tr th {\n",
       "        vertical-align: top;\n",
       "    }\n",
       "\n",
       "    .dataframe thead th {\n",
       "        text-align: right;\n",
       "    }\n",
       "</style>\n",
       "<table border=\"1\" class=\"dataframe\">\n",
       "  <thead>\n",
       "    <tr style=\"text-align: right;\">\n",
       "      <th></th>\n",
       "      <th>PhysicalHealthDays</th>\n",
       "      <th>MentalHealthDays</th>\n",
       "      <th>SleepHours</th>\n",
       "      <th>HeightInMeters</th>\n",
       "      <th>WeightInKilograms</th>\n",
       "      <th>BMI</th>\n",
       "    </tr>\n",
       "  </thead>\n",
       "  <tbody>\n",
       "    <tr>\n",
       "      <th>0</th>\n",
       "      <td>NaN</td>\n",
       "      <td>3.0</td>\n",
       "      <td>7.0</td>\n",
       "      <td>1.60</td>\n",
       "      <td>67.13</td>\n",
       "      <td>26.22</td>\n",
       "    </tr>\n",
       "    <tr>\n",
       "      <th>1</th>\n",
       "      <td>0.0</td>\n",
       "      <td>0.0</td>\n",
       "      <td>6.0</td>\n",
       "      <td>1.83</td>\n",
       "      <td>86.18</td>\n",
       "      <td>25.77</td>\n",
       "    </tr>\n",
       "    <tr>\n",
       "      <th>2</th>\n",
       "      <td>0.0</td>\n",
       "      <td>0.0</td>\n",
       "      <td>8.0</td>\n",
       "      <td>1.63</td>\n",
       "      <td>55.79</td>\n",
       "      <td>21.11</td>\n",
       "    </tr>\n",
       "    <tr>\n",
       "      <th>3</th>\n",
       "      <td>0.0</td>\n",
       "      <td>30.0</td>\n",
       "      <td>7.0</td>\n",
       "      <td>1.75</td>\n",
       "      <td>72.57</td>\n",
       "      <td>23.63</td>\n",
       "    </tr>\n",
       "    <tr>\n",
       "      <th>4</th>\n",
       "      <td>12.0</td>\n",
       "      <td>0.0</td>\n",
       "      <td>8.0</td>\n",
       "      <td>1.73</td>\n",
       "      <td>65.77</td>\n",
       "      <td>22.05</td>\n",
       "    </tr>\n",
       "    <tr>\n",
       "      <th>...</th>\n",
       "      <td>...</td>\n",
       "      <td>...</td>\n",
       "      <td>...</td>\n",
       "      <td>...</td>\n",
       "      <td>...</td>\n",
       "      <td>...</td>\n",
       "    </tr>\n",
       "    <tr>\n",
       "      <th>10947</th>\n",
       "      <td>0.0</td>\n",
       "      <td>3.0</td>\n",
       "      <td>5.0</td>\n",
       "      <td>1.83</td>\n",
       "      <td>65.77</td>\n",
       "      <td>19.67</td>\n",
       "    </tr>\n",
       "    <tr>\n",
       "      <th>10948</th>\n",
       "      <td>0.0</td>\n",
       "      <td>0.0</td>\n",
       "      <td>8.0</td>\n",
       "      <td>1.78</td>\n",
       "      <td>90.72</td>\n",
       "      <td>28.70</td>\n",
       "    </tr>\n",
       "    <tr>\n",
       "      <th>10949</th>\n",
       "      <td>5.0</td>\n",
       "      <td>5.0</td>\n",
       "      <td>7.0</td>\n",
       "      <td>1.57</td>\n",
       "      <td>68.04</td>\n",
       "      <td>27.44</td>\n",
       "    </tr>\n",
       "    <tr>\n",
       "      <th>10950</th>\n",
       "      <td>0.0</td>\n",
       "      <td>2.0</td>\n",
       "      <td>10.0</td>\n",
       "      <td>1.75</td>\n",
       "      <td>58.97</td>\n",
       "      <td>19.20</td>\n",
       "    </tr>\n",
       "    <tr>\n",
       "      <th>10951</th>\n",
       "      <td>1.0</td>\n",
       "      <td>3.0</td>\n",
       "      <td>8.0</td>\n",
       "      <td>NaN</td>\n",
       "      <td>77.11</td>\n",
       "      <td>NaN</td>\n",
       "    </tr>\n",
       "  </tbody>\n",
       "</table>\n",
       "<p>10952 rows × 6 columns</p>\n",
       "</div>"
      ],
      "text/plain": [
       "       PhysicalHealthDays  MentalHealthDays  SleepHours  HeightInMeters  \\\n",
       "0                     NaN               3.0         7.0            1.60   \n",
       "1                     0.0               0.0         6.0            1.83   \n",
       "2                     0.0               0.0         8.0            1.63   \n",
       "3                     0.0              30.0         7.0            1.75   \n",
       "4                    12.0               0.0         8.0            1.73   \n",
       "...                   ...               ...         ...             ...   \n",
       "10947                 0.0               3.0         5.0            1.83   \n",
       "10948                 0.0               0.0         8.0            1.78   \n",
       "10949                 5.0               5.0         7.0            1.57   \n",
       "10950                 0.0               2.0        10.0            1.75   \n",
       "10951                 1.0               3.0         8.0             NaN   \n",
       "\n",
       "       WeightInKilograms    BMI  \n",
       "0                  67.13  26.22  \n",
       "1                  86.18  25.77  \n",
       "2                  55.79  21.11  \n",
       "3                  72.57  23.63  \n",
       "4                  65.77  22.05  \n",
       "...                  ...    ...  \n",
       "10947              65.77  19.67  \n",
       "10948              90.72  28.70  \n",
       "10949              68.04  27.44  \n",
       "10950              58.97  19.20  \n",
       "10951              77.11    NaN  \n",
       "\n",
       "[10952 rows x 6 columns]"
      ]
     },
     "execution_count": 34,
     "metadata": {},
     "output_type": "execute_result"
    }
   ],
   "source": [
    "num_col_df = raw_data.select_dtypes(include='float64')\n",
    "num_col_df"
   ]
  },
  {
   "cell_type": "markdown",
   "id": "ded49ba4-8fa6-460b-9046-aa5e421be225",
   "metadata": {},
   "source": [
    "**8.2 Explore the distribution using descriptive statistics.**"
   ]
  },
  {
   "cell_type": "code",
   "execution_count": 35,
   "id": "375c9a8b",
   "metadata": {},
   "outputs": [],
   "source": [
    "# Function \n",
    "def missing_ratio(col):\n",
    "    return (col.isnull().mean()*100).round(2)\n",
    "\n",
    "def value_ratios(col):\n",
    "    percentage = (col.value_counts(normalize=True)*100).round(2)\n",
    "    return percentage.to_dict()"
   ]
  },
  {
   "cell_type": "code",
   "execution_count": 36,
   "id": "a0191612-f0e8-4b86-a036-e0f142a556e0",
   "metadata": {},
   "outputs": [
    {
     "data": {
      "text/html": [
       "<div>\n",
       "<style scoped>\n",
       "    .dataframe tbody tr th:only-of-type {\n",
       "        vertical-align: middle;\n",
       "    }\n",
       "\n",
       "    .dataframe tbody tr th {\n",
       "        vertical-align: top;\n",
       "    }\n",
       "\n",
       "    .dataframe thead th {\n",
       "        text-align: right;\n",
       "    }\n",
       "</style>\n",
       "<table border=\"1\" class=\"dataframe\">\n",
       "  <thead>\n",
       "    <tr style=\"text-align: right;\">\n",
       "      <th></th>\n",
       "      <th>PhysicalHealthDays</th>\n",
       "      <th>MentalHealthDays</th>\n",
       "      <th>SleepHours</th>\n",
       "      <th>HeightInMeters</th>\n",
       "      <th>WeightInKilograms</th>\n",
       "      <th>BMI</th>\n",
       "    </tr>\n",
       "  </thead>\n",
       "  <tbody>\n",
       "    <tr>\n",
       "      <th>missing_ratio</th>\n",
       "      <td>4.570000</td>\n",
       "      <td>3.840000</td>\n",
       "      <td>1.450000</td>\n",
       "      <td>9.560000</td>\n",
       "      <td>10.400000</td>\n",
       "      <td>13.570000</td>\n",
       "    </tr>\n",
       "    <tr>\n",
       "      <th>count</th>\n",
       "      <td>10452.000000</td>\n",
       "      <td>10531.000000</td>\n",
       "      <td>10793.000000</td>\n",
       "      <td>9905.000000</td>\n",
       "      <td>9813.000000</td>\n",
       "      <td>9466.000000</td>\n",
       "    </tr>\n",
       "    <tr>\n",
       "      <th>mean</th>\n",
       "      <td>4.267987</td>\n",
       "      <td>4.766309</td>\n",
       "      <td>6.987399</td>\n",
       "      <td>1.706469</td>\n",
       "      <td>80.342657</td>\n",
       "      <td>27.505724</td>\n",
       "    </tr>\n",
       "    <tr>\n",
       "      <th>std</th>\n",
       "      <td>8.533119</td>\n",
       "      <td>8.476849</td>\n",
       "      <td>1.448469</td>\n",
       "      <td>0.106467</td>\n",
       "      <td>20.702922</td>\n",
       "      <td>6.198806</td>\n",
       "    </tr>\n",
       "    <tr>\n",
       "      <th>min</th>\n",
       "      <td>0.000000</td>\n",
       "      <td>0.000000</td>\n",
       "      <td>1.000000</td>\n",
       "      <td>1.250000</td>\n",
       "      <td>25.400000</td>\n",
       "      <td>12.210000</td>\n",
       "    </tr>\n",
       "    <tr>\n",
       "      <th>25%</th>\n",
       "      <td>0.000000</td>\n",
       "      <td>0.000000</td>\n",
       "      <td>6.000000</td>\n",
       "      <td>1.630000</td>\n",
       "      <td>65.770000</td>\n",
       "      <td>23.340000</td>\n",
       "    </tr>\n",
       "    <tr>\n",
       "      <th>50%</th>\n",
       "      <td>0.000000</td>\n",
       "      <td>0.000000</td>\n",
       "      <td>7.000000</td>\n",
       "      <td>1.700000</td>\n",
       "      <td>77.110000</td>\n",
       "      <td>26.580000</td>\n",
       "    </tr>\n",
       "    <tr>\n",
       "      <th>75%</th>\n",
       "      <td>4.000000</td>\n",
       "      <td>5.000000</td>\n",
       "      <td>8.000000</td>\n",
       "      <td>1.780000</td>\n",
       "      <td>90.720000</td>\n",
       "      <td>30.420000</td>\n",
       "    </tr>\n",
       "    <tr>\n",
       "      <th>max</th>\n",
       "      <td>30.000000</td>\n",
       "      <td>30.000000</td>\n",
       "      <td>24.000000</td>\n",
       "      <td>2.360000</td>\n",
       "      <td>272.160000</td>\n",
       "      <td>91.450000</td>\n",
       "    </tr>\n",
       "  </tbody>\n",
       "</table>\n",
       "</div>"
      ],
      "text/plain": [
       "               PhysicalHealthDays  MentalHealthDays    SleepHours  \\\n",
       "missing_ratio            4.570000          3.840000      1.450000   \n",
       "count                10452.000000      10531.000000  10793.000000   \n",
       "mean                     4.267987          4.766309      6.987399   \n",
       "std                      8.533119          8.476849      1.448469   \n",
       "min                      0.000000          0.000000      1.000000   \n",
       "25%                      0.000000          0.000000      6.000000   \n",
       "50%                      0.000000          0.000000      7.000000   \n",
       "75%                      4.000000          5.000000      8.000000   \n",
       "max                     30.000000         30.000000     24.000000   \n",
       "\n",
       "               HeightInMeters  WeightInKilograms          BMI  \n",
       "missing_ratio        9.560000          10.400000    13.570000  \n",
       "count             9905.000000        9813.000000  9466.000000  \n",
       "mean                 1.706469          80.342657    27.505724  \n",
       "std                  0.106467          20.702922     6.198806  \n",
       "min                  1.250000          25.400000    12.210000  \n",
       "25%                  1.630000          65.770000    23.340000  \n",
       "50%                  1.700000          77.110000    26.580000  \n",
       "75%                  1.780000          90.720000    30.420000  \n",
       "max                  2.360000         272.160000    91.450000  "
      ]
     },
     "execution_count": 36,
     "metadata": {},
     "output_type": "execute_result"
    }
   ],
   "source": [
    "num_col_describe_df = num_col_df.describe()\n",
    "num_col_info_df = num_col_df.agg([missing_ratio])\n",
    "num_col_info_df = pd.concat([num_col_info_df, num_col_describe_df])\n",
    "num_col_info_df"
   ]
  },
  {
   "cell_type": "markdown",
   "id": "2e18ba15-ca56-4a35-961d-9b3fa85e600e",
   "metadata": {},
   "source": [
    "**Observation:**\n",
    "- The percentage of missing values of each numeric column is low so we won't drop any of these columns. Instead, we try to handle these missing values.\n",
    "- The minimum and maximum values of each numeric column are within normal ranges:\n",
    "    - There are no negative numbers.\n",
    "    - PhysicalHealthDays and MentalHealthDays both have values equal or less than 30.\n",
    "    - SleepHours have values equal or less than 24.\n",
    "    - Three remaining columns also have reasonable values.\n"
   ]
  },
  {
   "cell_type": "markdown",
   "id": "982a6261-f615-4bb5-a0a0-48f9f6b57d64",
   "metadata": {},
   "source": [
    "**8.3 Visualize missing ratio**"
   ]
  },
  {
   "cell_type": "code",
   "execution_count": 37,
   "id": "9b5b10d4-d35b-4841-8f8b-192e85537128",
   "metadata": {},
   "outputs": [
    {
     "data": {
      "application/vnd.plotly.v1+json": {
       "config": {
        "plotlyServerURL": "https://plot.ly"
       },
       "data": [
        {
         "alignmentgroup": "True",
         "hovertemplate": "Numeric column=%{x}<br>Percentage(%)=%{y}<extra></extra>",
         "legendgroup": "",
         "marker": {
          "color": "#636efa",
          "pattern": {
           "shape": ""
          }
         },
         "name": "",
         "offsetgroup": "",
         "orientation": "v",
         "showlegend": false,
         "textposition": "auto",
         "type": "bar",
         "x": [
          "PhysicalHealthDays",
          "MentalHealthDays",
          "SleepHours",
          "HeightInMeters",
          "WeightInKilograms",
          "BMI"
         ],
         "xaxis": "x",
         "y": [
          4.57,
          3.84,
          1.45,
          9.56,
          10.4,
          13.57
         ],
         "yaxis": "y"
        }
       ],
       "layout": {
        "barmode": "relative",
        "height": 500,
        "legend": {
         "tracegroupgap": 0
        },
        "template": {
         "data": {
          "bar": [
           {
            "error_x": {
             "color": "#2a3f5f"
            },
            "error_y": {
             "color": "#2a3f5f"
            },
            "marker": {
             "line": {
              "color": "#E5ECF6",
              "width": 0.5
             },
             "pattern": {
              "fillmode": "overlay",
              "size": 10,
              "solidity": 0.2
             }
            },
            "type": "bar"
           }
          ],
          "barpolar": [
           {
            "marker": {
             "line": {
              "color": "#E5ECF6",
              "width": 0.5
             },
             "pattern": {
              "fillmode": "overlay",
              "size": 10,
              "solidity": 0.2
             }
            },
            "type": "barpolar"
           }
          ],
          "carpet": [
           {
            "aaxis": {
             "endlinecolor": "#2a3f5f",
             "gridcolor": "white",
             "linecolor": "white",
             "minorgridcolor": "white",
             "startlinecolor": "#2a3f5f"
            },
            "baxis": {
             "endlinecolor": "#2a3f5f",
             "gridcolor": "white",
             "linecolor": "white",
             "minorgridcolor": "white",
             "startlinecolor": "#2a3f5f"
            },
            "type": "carpet"
           }
          ],
          "choropleth": [
           {
            "colorbar": {
             "outlinewidth": 0,
             "ticks": ""
            },
            "type": "choropleth"
           }
          ],
          "contour": [
           {
            "colorbar": {
             "outlinewidth": 0,
             "ticks": ""
            },
            "colorscale": [
             [
              0,
              "#0d0887"
             ],
             [
              0.1111111111111111,
              "#46039f"
             ],
             [
              0.2222222222222222,
              "#7201a8"
             ],
             [
              0.3333333333333333,
              "#9c179e"
             ],
             [
              0.4444444444444444,
              "#bd3786"
             ],
             [
              0.5555555555555556,
              "#d8576b"
             ],
             [
              0.6666666666666666,
              "#ed7953"
             ],
             [
              0.7777777777777778,
              "#fb9f3a"
             ],
             [
              0.8888888888888888,
              "#fdca26"
             ],
             [
              1,
              "#f0f921"
             ]
            ],
            "type": "contour"
           }
          ],
          "contourcarpet": [
           {
            "colorbar": {
             "outlinewidth": 0,
             "ticks": ""
            },
            "type": "contourcarpet"
           }
          ],
          "heatmap": [
           {
            "colorbar": {
             "outlinewidth": 0,
             "ticks": ""
            },
            "colorscale": [
             [
              0,
              "#0d0887"
             ],
             [
              0.1111111111111111,
              "#46039f"
             ],
             [
              0.2222222222222222,
              "#7201a8"
             ],
             [
              0.3333333333333333,
              "#9c179e"
             ],
             [
              0.4444444444444444,
              "#bd3786"
             ],
             [
              0.5555555555555556,
              "#d8576b"
             ],
             [
              0.6666666666666666,
              "#ed7953"
             ],
             [
              0.7777777777777778,
              "#fb9f3a"
             ],
             [
              0.8888888888888888,
              "#fdca26"
             ],
             [
              1,
              "#f0f921"
             ]
            ],
            "type": "heatmap"
           }
          ],
          "heatmapgl": [
           {
            "colorbar": {
             "outlinewidth": 0,
             "ticks": ""
            },
            "colorscale": [
             [
              0,
              "#0d0887"
             ],
             [
              0.1111111111111111,
              "#46039f"
             ],
             [
              0.2222222222222222,
              "#7201a8"
             ],
             [
              0.3333333333333333,
              "#9c179e"
             ],
             [
              0.4444444444444444,
              "#bd3786"
             ],
             [
              0.5555555555555556,
              "#d8576b"
             ],
             [
              0.6666666666666666,
              "#ed7953"
             ],
             [
              0.7777777777777778,
              "#fb9f3a"
             ],
             [
              0.8888888888888888,
              "#fdca26"
             ],
             [
              1,
              "#f0f921"
             ]
            ],
            "type": "heatmapgl"
           }
          ],
          "histogram": [
           {
            "marker": {
             "pattern": {
              "fillmode": "overlay",
              "size": 10,
              "solidity": 0.2
             }
            },
            "type": "histogram"
           }
          ],
          "histogram2d": [
           {
            "colorbar": {
             "outlinewidth": 0,
             "ticks": ""
            },
            "colorscale": [
             [
              0,
              "#0d0887"
             ],
             [
              0.1111111111111111,
              "#46039f"
             ],
             [
              0.2222222222222222,
              "#7201a8"
             ],
             [
              0.3333333333333333,
              "#9c179e"
             ],
             [
              0.4444444444444444,
              "#bd3786"
             ],
             [
              0.5555555555555556,
              "#d8576b"
             ],
             [
              0.6666666666666666,
              "#ed7953"
             ],
             [
              0.7777777777777778,
              "#fb9f3a"
             ],
             [
              0.8888888888888888,
              "#fdca26"
             ],
             [
              1,
              "#f0f921"
             ]
            ],
            "type": "histogram2d"
           }
          ],
          "histogram2dcontour": [
           {
            "colorbar": {
             "outlinewidth": 0,
             "ticks": ""
            },
            "colorscale": [
             [
              0,
              "#0d0887"
             ],
             [
              0.1111111111111111,
              "#46039f"
             ],
             [
              0.2222222222222222,
              "#7201a8"
             ],
             [
              0.3333333333333333,
              "#9c179e"
             ],
             [
              0.4444444444444444,
              "#bd3786"
             ],
             [
              0.5555555555555556,
              "#d8576b"
             ],
             [
              0.6666666666666666,
              "#ed7953"
             ],
             [
              0.7777777777777778,
              "#fb9f3a"
             ],
             [
              0.8888888888888888,
              "#fdca26"
             ],
             [
              1,
              "#f0f921"
             ]
            ],
            "type": "histogram2dcontour"
           }
          ],
          "mesh3d": [
           {
            "colorbar": {
             "outlinewidth": 0,
             "ticks": ""
            },
            "type": "mesh3d"
           }
          ],
          "parcoords": [
           {
            "line": {
             "colorbar": {
              "outlinewidth": 0,
              "ticks": ""
             }
            },
            "type": "parcoords"
           }
          ],
          "pie": [
           {
            "automargin": true,
            "type": "pie"
           }
          ],
          "scatter": [
           {
            "fillpattern": {
             "fillmode": "overlay",
             "size": 10,
             "solidity": 0.2
            },
            "type": "scatter"
           }
          ],
          "scatter3d": [
           {
            "line": {
             "colorbar": {
              "outlinewidth": 0,
              "ticks": ""
             }
            },
            "marker": {
             "colorbar": {
              "outlinewidth": 0,
              "ticks": ""
             }
            },
            "type": "scatter3d"
           }
          ],
          "scattercarpet": [
           {
            "marker": {
             "colorbar": {
              "outlinewidth": 0,
              "ticks": ""
             }
            },
            "type": "scattercarpet"
           }
          ],
          "scattergeo": [
           {
            "marker": {
             "colorbar": {
              "outlinewidth": 0,
              "ticks": ""
             }
            },
            "type": "scattergeo"
           }
          ],
          "scattergl": [
           {
            "marker": {
             "colorbar": {
              "outlinewidth": 0,
              "ticks": ""
             }
            },
            "type": "scattergl"
           }
          ],
          "scattermapbox": [
           {
            "marker": {
             "colorbar": {
              "outlinewidth": 0,
              "ticks": ""
             }
            },
            "type": "scattermapbox"
           }
          ],
          "scatterpolar": [
           {
            "marker": {
             "colorbar": {
              "outlinewidth": 0,
              "ticks": ""
             }
            },
            "type": "scatterpolar"
           }
          ],
          "scatterpolargl": [
           {
            "marker": {
             "colorbar": {
              "outlinewidth": 0,
              "ticks": ""
             }
            },
            "type": "scatterpolargl"
           }
          ],
          "scatterternary": [
           {
            "marker": {
             "colorbar": {
              "outlinewidth": 0,
              "ticks": ""
             }
            },
            "type": "scatterternary"
           }
          ],
          "surface": [
           {
            "colorbar": {
             "outlinewidth": 0,
             "ticks": ""
            },
            "colorscale": [
             [
              0,
              "#0d0887"
             ],
             [
              0.1111111111111111,
              "#46039f"
             ],
             [
              0.2222222222222222,
              "#7201a8"
             ],
             [
              0.3333333333333333,
              "#9c179e"
             ],
             [
              0.4444444444444444,
              "#bd3786"
             ],
             [
              0.5555555555555556,
              "#d8576b"
             ],
             [
              0.6666666666666666,
              "#ed7953"
             ],
             [
              0.7777777777777778,
              "#fb9f3a"
             ],
             [
              0.8888888888888888,
              "#fdca26"
             ],
             [
              1,
              "#f0f921"
             ]
            ],
            "type": "surface"
           }
          ],
          "table": [
           {
            "cells": {
             "fill": {
              "color": "#EBF0F8"
             },
             "line": {
              "color": "white"
             }
            },
            "header": {
             "fill": {
              "color": "#C8D4E3"
             },
             "line": {
              "color": "white"
             }
            },
            "type": "table"
           }
          ]
         },
         "layout": {
          "annotationdefaults": {
           "arrowcolor": "#2a3f5f",
           "arrowhead": 0,
           "arrowwidth": 1
          },
          "autotypenumbers": "strict",
          "coloraxis": {
           "colorbar": {
            "outlinewidth": 0,
            "ticks": ""
           }
          },
          "colorscale": {
           "diverging": [
            [
             0,
             "#8e0152"
            ],
            [
             0.1,
             "#c51b7d"
            ],
            [
             0.2,
             "#de77ae"
            ],
            [
             0.3,
             "#f1b6da"
            ],
            [
             0.4,
             "#fde0ef"
            ],
            [
             0.5,
             "#f7f7f7"
            ],
            [
             0.6,
             "#e6f5d0"
            ],
            [
             0.7,
             "#b8e186"
            ],
            [
             0.8,
             "#7fbc41"
            ],
            [
             0.9,
             "#4d9221"
            ],
            [
             1,
             "#276419"
            ]
           ],
           "sequential": [
            [
             0,
             "#0d0887"
            ],
            [
             0.1111111111111111,
             "#46039f"
            ],
            [
             0.2222222222222222,
             "#7201a8"
            ],
            [
             0.3333333333333333,
             "#9c179e"
            ],
            [
             0.4444444444444444,
             "#bd3786"
            ],
            [
             0.5555555555555556,
             "#d8576b"
            ],
            [
             0.6666666666666666,
             "#ed7953"
            ],
            [
             0.7777777777777778,
             "#fb9f3a"
            ],
            [
             0.8888888888888888,
             "#fdca26"
            ],
            [
             1,
             "#f0f921"
            ]
           ],
           "sequentialminus": [
            [
             0,
             "#0d0887"
            ],
            [
             0.1111111111111111,
             "#46039f"
            ],
            [
             0.2222222222222222,
             "#7201a8"
            ],
            [
             0.3333333333333333,
             "#9c179e"
            ],
            [
             0.4444444444444444,
             "#bd3786"
            ],
            [
             0.5555555555555556,
             "#d8576b"
            ],
            [
             0.6666666666666666,
             "#ed7953"
            ],
            [
             0.7777777777777778,
             "#fb9f3a"
            ],
            [
             0.8888888888888888,
             "#fdca26"
            ],
            [
             1,
             "#f0f921"
            ]
           ]
          },
          "colorway": [
           "#636efa",
           "#EF553B",
           "#00cc96",
           "#ab63fa",
           "#FFA15A",
           "#19d3f3",
           "#FF6692",
           "#B6E880",
           "#FF97FF",
           "#FECB52"
          ],
          "font": {
           "color": "#2a3f5f"
          },
          "geo": {
           "bgcolor": "white",
           "lakecolor": "white",
           "landcolor": "#E5ECF6",
           "showlakes": true,
           "showland": true,
           "subunitcolor": "white"
          },
          "hoverlabel": {
           "align": "left"
          },
          "hovermode": "closest",
          "mapbox": {
           "style": "light"
          },
          "paper_bgcolor": "white",
          "plot_bgcolor": "#E5ECF6",
          "polar": {
           "angularaxis": {
            "gridcolor": "white",
            "linecolor": "white",
            "ticks": ""
           },
           "bgcolor": "#E5ECF6",
           "radialaxis": {
            "gridcolor": "white",
            "linecolor": "white",
            "ticks": ""
           }
          },
          "scene": {
           "xaxis": {
            "backgroundcolor": "#E5ECF6",
            "gridcolor": "white",
            "gridwidth": 2,
            "linecolor": "white",
            "showbackground": true,
            "ticks": "",
            "zerolinecolor": "white"
           },
           "yaxis": {
            "backgroundcolor": "#E5ECF6",
            "gridcolor": "white",
            "gridwidth": 2,
            "linecolor": "white",
            "showbackground": true,
            "ticks": "",
            "zerolinecolor": "white"
           },
           "zaxis": {
            "backgroundcolor": "#E5ECF6",
            "gridcolor": "white",
            "gridwidth": 2,
            "linecolor": "white",
            "showbackground": true,
            "ticks": "",
            "zerolinecolor": "white"
           }
          },
          "shapedefaults": {
           "line": {
            "color": "#2a3f5f"
           }
          },
          "ternary": {
           "aaxis": {
            "gridcolor": "white",
            "linecolor": "white",
            "ticks": ""
           },
           "baxis": {
            "gridcolor": "white",
            "linecolor": "white",
            "ticks": ""
           },
           "bgcolor": "#E5ECF6",
           "caxis": {
            "gridcolor": "white",
            "linecolor": "white",
            "ticks": ""
           }
          },
          "title": {
           "x": 0.05
          },
          "xaxis": {
           "automargin": true,
           "gridcolor": "white",
           "linecolor": "white",
           "ticks": "",
           "title": {
            "standoff": 15
           },
           "zerolinecolor": "white",
           "zerolinewidth": 2
          },
          "yaxis": {
           "automargin": true,
           "gridcolor": "white",
           "linecolor": "white",
           "ticks": "",
           "title": {
            "standoff": 15
           },
           "zerolinecolor": "white",
           "zerolinewidth": 2
          }
         }
        },
        "title": {
         "text": "Missing ratio of numeric columns"
        },
        "width": 1000,
        "xaxis": {
         "anchor": "y",
         "domain": [
          0,
          1
         ],
         "title": {
          "text": "Numeric column"
         }
        },
        "yaxis": {
         "anchor": "x",
         "domain": [
          0,
          1
         ],
         "title": {
          "text": "Percentage(%)"
         }
        }
       }
      }
     },
     "metadata": {},
     "output_type": "display_data"
    }
   ],
   "source": [
    "data = num_col_info_df.loc['missing_ratio']\n",
    "fig = px.bar(x=data.index, y=data.values, width=1000, height=500, labels={'x': 'Numeric column', 'y': 'Percentage(%)'}, \n",
    "             title='Missing ratio of numeric columns')\n",
    "fig.show()"
   ]
  },
  {
   "cell_type": "markdown",
   "id": "89d4fa4c-32ad-4310-b0a1-0370fac0a9c7",
   "metadata": {},
   "source": [
    "**9. With each catagorical column, how are values distributed?**\n",
    "- What is the percentage of missing values?\n",
    "- How many different values? Show a few\n",
    "- Are they abnormal?"
   ]
  },
  {
   "cell_type": "markdown",
   "id": "da9cc3ea-cee0-459c-821c-2c28c1042877",
   "metadata": {},
   "source": [
    "**Select catagorical columns**"
   ]
  },
  {
   "cell_type": "code",
   "execution_count": 38,
   "id": "dfb3b9e5-0014-4fa4-988b-9d2fbef89a4d",
   "metadata": {},
   "outputs": [
    {
     "data": {
      "text/html": [
       "<div>\n",
       "<style scoped>\n",
       "    .dataframe tbody tr th:only-of-type {\n",
       "        vertical-align: middle;\n",
       "    }\n",
       "\n",
       "    .dataframe tbody tr th {\n",
       "        vertical-align: top;\n",
       "    }\n",
       "\n",
       "    .dataframe thead th {\n",
       "        text-align: right;\n",
       "    }\n",
       "</style>\n",
       "<table border=\"1\" class=\"dataframe\">\n",
       "  <thead>\n",
       "    <tr style=\"text-align: right;\">\n",
       "      <th></th>\n",
       "      <th>State</th>\n",
       "      <th>Sex</th>\n",
       "      <th>GeneralHealth</th>\n",
       "      <th>LastCheckupTime</th>\n",
       "      <th>PhysicalActivities</th>\n",
       "      <th>RemovedTeeth</th>\n",
       "      <th>HadHeartAttack</th>\n",
       "      <th>HadAngina</th>\n",
       "      <th>HadStroke</th>\n",
       "      <th>HadAsthma</th>\n",
       "      <th>...</th>\n",
       "      <th>ChestScan</th>\n",
       "      <th>RaceEthnicityCategory</th>\n",
       "      <th>AgeCategory</th>\n",
       "      <th>AlcoholDrinkers</th>\n",
       "      <th>HIVTesting</th>\n",
       "      <th>FluVaxLast12</th>\n",
       "      <th>PneumoVaxEver</th>\n",
       "      <th>TetanusLast10Tdap</th>\n",
       "      <th>HighRiskLastYear</th>\n",
       "      <th>CovidPos</th>\n",
       "    </tr>\n",
       "  </thead>\n",
       "  <tbody>\n",
       "    <tr>\n",
       "      <th>0</th>\n",
       "      <td>California</td>\n",
       "      <td>Female</td>\n",
       "      <td>Excellent</td>\n",
       "      <td>Within past year (anytime less than 12 months ago)</td>\n",
       "      <td>Yes</td>\n",
       "      <td>None of them</td>\n",
       "      <td>No</td>\n",
       "      <td>No</td>\n",
       "      <td>No</td>\n",
       "      <td>No</td>\n",
       "      <td>...</td>\n",
       "      <td>No</td>\n",
       "      <td>White only, Non-Hispanic</td>\n",
       "      <td>Age 70 to 74</td>\n",
       "      <td>Yes</td>\n",
       "      <td>No</td>\n",
       "      <td>Yes</td>\n",
       "      <td>Yes</td>\n",
       "      <td>No, did not receive any tetanus shot in the past 10 years</td>\n",
       "      <td>No</td>\n",
       "      <td>No</td>\n",
       "    </tr>\n",
       "    <tr>\n",
       "      <th>1</th>\n",
       "      <td>California</td>\n",
       "      <td>Male</td>\n",
       "      <td>Very good</td>\n",
       "      <td>Within past year (anytime less than 12 months ago)</td>\n",
       "      <td>Yes</td>\n",
       "      <td>None of them</td>\n",
       "      <td>No</td>\n",
       "      <td>No</td>\n",
       "      <td>No</td>\n",
       "      <td>No</td>\n",
       "      <td>...</td>\n",
       "      <td>No</td>\n",
       "      <td>Hispanic</td>\n",
       "      <td>Age 40 to 44</td>\n",
       "      <td>No</td>\n",
       "      <td>Yes</td>\n",
       "      <td>No</td>\n",
       "      <td>No</td>\n",
       "      <td>Yes, received Tdap</td>\n",
       "      <td>No</td>\n",
       "      <td>No</td>\n",
       "    </tr>\n",
       "    <tr>\n",
       "      <th>2</th>\n",
       "      <td>California</td>\n",
       "      <td>Female</td>\n",
       "      <td>Very good</td>\n",
       "      <td>Within past 2 years (1 year but less than 2 years ago)</td>\n",
       "      <td>No</td>\n",
       "      <td>1 to 5</td>\n",
       "      <td>No</td>\n",
       "      <td>No</td>\n",
       "      <td>No</td>\n",
       "      <td>Yes</td>\n",
       "      <td>...</td>\n",
       "      <td>No</td>\n",
       "      <td>White only, Non-Hispanic</td>\n",
       "      <td>Age 75 to 79</td>\n",
       "      <td>No</td>\n",
       "      <td>No</td>\n",
       "      <td>No</td>\n",
       "      <td>Yes</td>\n",
       "      <td>No, did not receive any tetanus shot in the past 10 years</td>\n",
       "      <td>No</td>\n",
       "      <td>No</td>\n",
       "    </tr>\n",
       "    <tr>\n",
       "      <th>3</th>\n",
       "      <td>California</td>\n",
       "      <td>Female</td>\n",
       "      <td>Good</td>\n",
       "      <td>Within past year (anytime less than 12 months ago)</td>\n",
       "      <td>No</td>\n",
       "      <td>None of them</td>\n",
       "      <td>No</td>\n",
       "      <td>No</td>\n",
       "      <td>No</td>\n",
       "      <td>No</td>\n",
       "      <td>...</td>\n",
       "      <td>No</td>\n",
       "      <td>Black only, Non-Hispanic</td>\n",
       "      <td>Age 80 or older</td>\n",
       "      <td>No</td>\n",
       "      <td>No</td>\n",
       "      <td>No</td>\n",
       "      <td>No</td>\n",
       "      <td>No, did not receive any tetanus shot in the past 10 years</td>\n",
       "      <td>No</td>\n",
       "      <td>No</td>\n",
       "    </tr>\n",
       "    <tr>\n",
       "      <th>4</th>\n",
       "      <td>California</td>\n",
       "      <td>Male</td>\n",
       "      <td>Good</td>\n",
       "      <td>Within past year (anytime less than 12 months ago)</td>\n",
       "      <td>Yes</td>\n",
       "      <td>None of them</td>\n",
       "      <td>No</td>\n",
       "      <td>No</td>\n",
       "      <td>No</td>\n",
       "      <td>No</td>\n",
       "      <td>...</td>\n",
       "      <td>No</td>\n",
       "      <td>White only, Non-Hispanic</td>\n",
       "      <td>Age 75 to 79</td>\n",
       "      <td>Yes</td>\n",
       "      <td>No</td>\n",
       "      <td>Yes</td>\n",
       "      <td>Yes</td>\n",
       "      <td>NaN</td>\n",
       "      <td>Yes</td>\n",
       "      <td>No</td>\n",
       "    </tr>\n",
       "  </tbody>\n",
       "</table>\n",
       "<p>5 rows × 34 columns</p>\n",
       "</div>"
      ],
      "text/plain": [
       "        State     Sex GeneralHealth  \\\n",
       "0  California  Female     Excellent   \n",
       "1  California    Male     Very good   \n",
       "2  California  Female     Very good   \n",
       "3  California  Female          Good   \n",
       "4  California    Male          Good   \n",
       "\n",
       "                                          LastCheckupTime PhysicalActivities  \\\n",
       "0      Within past year (anytime less than 12 months ago)                Yes   \n",
       "1      Within past year (anytime less than 12 months ago)                Yes   \n",
       "2  Within past 2 years (1 year but less than 2 years ago)                 No   \n",
       "3      Within past year (anytime less than 12 months ago)                 No   \n",
       "4      Within past year (anytime less than 12 months ago)                Yes   \n",
       "\n",
       "   RemovedTeeth HadHeartAttack HadAngina HadStroke HadAsthma  ... ChestScan  \\\n",
       "0  None of them             No        No        No        No  ...        No   \n",
       "1  None of them             No        No        No        No  ...        No   \n",
       "2        1 to 5             No        No        No       Yes  ...        No   \n",
       "3  None of them             No        No        No        No  ...        No   \n",
       "4  None of them             No        No        No        No  ...        No   \n",
       "\n",
       "      RaceEthnicityCategory      AgeCategory AlcoholDrinkers HIVTesting  \\\n",
       "0  White only, Non-Hispanic     Age 70 to 74             Yes         No   \n",
       "1                  Hispanic     Age 40 to 44              No        Yes   \n",
       "2  White only, Non-Hispanic     Age 75 to 79              No         No   \n",
       "3  Black only, Non-Hispanic  Age 80 or older              No         No   \n",
       "4  White only, Non-Hispanic     Age 75 to 79             Yes         No   \n",
       "\n",
       "  FluVaxLast12 PneumoVaxEver  \\\n",
       "0          Yes           Yes   \n",
       "1           No            No   \n",
       "2           No           Yes   \n",
       "3           No            No   \n",
       "4          Yes           Yes   \n",
       "\n",
       "                                           TetanusLast10Tdap HighRiskLastYear  \\\n",
       "0  No, did not receive any tetanus shot in the past 10 years               No   \n",
       "1                                         Yes, received Tdap               No   \n",
       "2  No, did not receive any tetanus shot in the past 10 years               No   \n",
       "3  No, did not receive any tetanus shot in the past 10 years               No   \n",
       "4                                                        NaN              Yes   \n",
       "\n",
       "  CovidPos  \n",
       "0       No  \n",
       "1       No  \n",
       "2       No  \n",
       "3       No  \n",
       "4       No  \n",
       "\n",
       "[5 rows x 34 columns]"
      ]
     },
     "execution_count": 38,
     "metadata": {},
     "output_type": "execute_result"
    }
   ],
   "source": [
    "# Select catagorical columns in data\n",
    "cat_col_df = raw_data.select_dtypes(include = ['object'])\n",
    "cat_col_df.head(5)"
   ]
  },
  {
   "cell_type": "code",
   "execution_count": 39,
   "id": "45909799-9805-48a6-95ff-5d56820fc98d",
   "metadata": {},
   "outputs": [
    {
     "name": "stdout",
     "output_type": "stream",
     "text": [
      "The percentage of missing values:\n",
      "- State: 0.0%\n",
      "- Sex: 0.0%\n",
      "- GeneralHealth: 0.35%\n",
      "- LastCheckupTime: 2.68%\n",
      "- PhysicalActivities: 0.42%\n",
      "- RemovedTeeth: 2.26%\n",
      "- HadHeartAttack: 0.9%\n",
      "- HadAngina: 1.09%\n",
      "- HadStroke: 0.68%\n",
      "- HadAsthma: 0.74%\n",
      "- HadSkinCancer: 0.97%\n",
      "- HadCOPD: 0.86%\n",
      "- HadDepressiveDisorder: 1.02%\n",
      "- HadKidneyDisease: 0.72%\n",
      "- HadArthritis: 0.93%\n",
      "- HadDiabetes: 0.63%\n",
      "- DeafOrHardOfHearing: 6.22%\n",
      "- BlindOrVisionDifficulty: 6.43%\n",
      "- DifficultyConcentrating: 7.37%\n",
      "- DifficultyWalking: 7.5%\n",
      "- DifficultyDressingBathing: 7.49%\n",
      "- DifficultyErrands: 8.07%\n",
      "- SmokerStatus: 10.73%\n",
      "- ECigaretteUsage: 10.93%\n",
      "- ChestScan: 15.45%\n",
      "- RaceEthnicityCategory: 4.92%\n",
      "- AgeCategory: 2.83%\n",
      "- AlcoholDrinkers: 14.03%\n",
      "- HIVTesting: 18.77%\n",
      "- FluVaxLast12: 14.66%\n",
      "- PneumoVaxEver: 24.22%\n",
      "- TetanusLast10Tdap: 24.32%\n",
      "- HighRiskLastYear: 15.92%\n",
      "- CovidPos: 15.95%\n"
     ]
    }
   ],
   "source": [
    "# Calculate missing ratio for catagorical columns\n",
    "cat_missing_ratio = cat_col_df.agg(missing_ratio)\n",
    "# Print the result\n",
    "print(\"The percentage of missing values:\")\n",
    "for col, ratio in cat_missing_ratio.items():\n",
    "    print(f\"- {col}: {ratio}%\")"
   ]
  },
  {
   "cell_type": "markdown",
   "id": "572da5fb-a32e-464b-9d55-f345ba6fa5b8",
   "metadata": {},
   "source": [
    "*Visualize missing ratio of catagorical columns*"
   ]
  },
  {
   "cell_type": "code",
   "execution_count": 40,
   "id": "faed633d-418a-403b-964b-7328488acb9e",
   "metadata": {},
   "outputs": [
    {
     "data": {
      "application/vnd.plotly.v1+json": {
       "config": {
        "plotlyServerURL": "https://plot.ly"
       },
       "data": [
        {
         "alignmentgroup": "True",
         "hovertemplate": "Missing Ratio (%)=%{text}<br>Column=%{y}<extra></extra>",
         "legendgroup": "",
         "marker": {
          "color": "#636efa",
          "pattern": {
           "shape": ""
          }
         },
         "name": "",
         "offsetgroup": "",
         "orientation": "h",
         "showlegend": false,
         "text": [
          0,
          0,
          0.35,
          2.68,
          0.42,
          2.26,
          0.9,
          1.09,
          0.68,
          0.74,
          0.97,
          0.86,
          1.02,
          0.72,
          0.93,
          0.63,
          6.22,
          6.43,
          7.37,
          7.5,
          7.49,
          8.07,
          10.73,
          10.93,
          15.45,
          4.92,
          2.83,
          14.03,
          18.77,
          14.66,
          24.22,
          24.32,
          15.92,
          15.95
         ],
         "textposition": "auto",
         "type": "bar",
         "x": [
          0,
          0,
          0.35,
          2.68,
          0.42,
          2.26,
          0.9,
          1.09,
          0.68,
          0.74,
          0.97,
          0.86,
          1.02,
          0.72,
          0.93,
          0.63,
          6.22,
          6.43,
          7.37,
          7.5,
          7.49,
          8.07,
          10.73,
          10.93,
          15.45,
          4.92,
          2.83,
          14.03,
          18.77,
          14.66,
          24.22,
          24.32,
          15.92,
          15.95
         ],
         "xaxis": "x",
         "y": [
          "State",
          "Sex",
          "GeneralHealth",
          "LastCheckupTime",
          "PhysicalActivities",
          "RemovedTeeth",
          "HadHeartAttack",
          "HadAngina",
          "HadStroke",
          "HadAsthma",
          "HadSkinCancer",
          "HadCOPD",
          "HadDepressiveDisorder",
          "HadKidneyDisease",
          "HadArthritis",
          "HadDiabetes",
          "DeafOrHardOfHearing",
          "BlindOrVisionDifficulty",
          "DifficultyConcentrating",
          "DifficultyWalking",
          "DifficultyDressingBathing",
          "DifficultyErrands",
          "SmokerStatus",
          "ECigaretteUsage",
          "ChestScan",
          "RaceEthnicityCategory",
          "AgeCategory",
          "AlcoholDrinkers",
          "HIVTesting",
          "FluVaxLast12",
          "PneumoVaxEver",
          "TetanusLast10Tdap",
          "HighRiskLastYear",
          "CovidPos"
         ],
         "yaxis": "y"
        }
       ],
       "layout": {
        "barmode": "relative",
        "height": 800,
        "legend": {
         "tracegroupgap": 0
        },
        "template": {
         "data": {
          "bar": [
           {
            "error_x": {
             "color": "#2a3f5f"
            },
            "error_y": {
             "color": "#2a3f5f"
            },
            "marker": {
             "line": {
              "color": "#E5ECF6",
              "width": 0.5
             },
             "pattern": {
              "fillmode": "overlay",
              "size": 10,
              "solidity": 0.2
             }
            },
            "type": "bar"
           }
          ],
          "barpolar": [
           {
            "marker": {
             "line": {
              "color": "#E5ECF6",
              "width": 0.5
             },
             "pattern": {
              "fillmode": "overlay",
              "size": 10,
              "solidity": 0.2
             }
            },
            "type": "barpolar"
           }
          ],
          "carpet": [
           {
            "aaxis": {
             "endlinecolor": "#2a3f5f",
             "gridcolor": "white",
             "linecolor": "white",
             "minorgridcolor": "white",
             "startlinecolor": "#2a3f5f"
            },
            "baxis": {
             "endlinecolor": "#2a3f5f",
             "gridcolor": "white",
             "linecolor": "white",
             "minorgridcolor": "white",
             "startlinecolor": "#2a3f5f"
            },
            "type": "carpet"
           }
          ],
          "choropleth": [
           {
            "colorbar": {
             "outlinewidth": 0,
             "ticks": ""
            },
            "type": "choropleth"
           }
          ],
          "contour": [
           {
            "colorbar": {
             "outlinewidth": 0,
             "ticks": ""
            },
            "colorscale": [
             [
              0,
              "#0d0887"
             ],
             [
              0.1111111111111111,
              "#46039f"
             ],
             [
              0.2222222222222222,
              "#7201a8"
             ],
             [
              0.3333333333333333,
              "#9c179e"
             ],
             [
              0.4444444444444444,
              "#bd3786"
             ],
             [
              0.5555555555555556,
              "#d8576b"
             ],
             [
              0.6666666666666666,
              "#ed7953"
             ],
             [
              0.7777777777777778,
              "#fb9f3a"
             ],
             [
              0.8888888888888888,
              "#fdca26"
             ],
             [
              1,
              "#f0f921"
             ]
            ],
            "type": "contour"
           }
          ],
          "contourcarpet": [
           {
            "colorbar": {
             "outlinewidth": 0,
             "ticks": ""
            },
            "type": "contourcarpet"
           }
          ],
          "heatmap": [
           {
            "colorbar": {
             "outlinewidth": 0,
             "ticks": ""
            },
            "colorscale": [
             [
              0,
              "#0d0887"
             ],
             [
              0.1111111111111111,
              "#46039f"
             ],
             [
              0.2222222222222222,
              "#7201a8"
             ],
             [
              0.3333333333333333,
              "#9c179e"
             ],
             [
              0.4444444444444444,
              "#bd3786"
             ],
             [
              0.5555555555555556,
              "#d8576b"
             ],
             [
              0.6666666666666666,
              "#ed7953"
             ],
             [
              0.7777777777777778,
              "#fb9f3a"
             ],
             [
              0.8888888888888888,
              "#fdca26"
             ],
             [
              1,
              "#f0f921"
             ]
            ],
            "type": "heatmap"
           }
          ],
          "heatmapgl": [
           {
            "colorbar": {
             "outlinewidth": 0,
             "ticks": ""
            },
            "colorscale": [
             [
              0,
              "#0d0887"
             ],
             [
              0.1111111111111111,
              "#46039f"
             ],
             [
              0.2222222222222222,
              "#7201a8"
             ],
             [
              0.3333333333333333,
              "#9c179e"
             ],
             [
              0.4444444444444444,
              "#bd3786"
             ],
             [
              0.5555555555555556,
              "#d8576b"
             ],
             [
              0.6666666666666666,
              "#ed7953"
             ],
             [
              0.7777777777777778,
              "#fb9f3a"
             ],
             [
              0.8888888888888888,
              "#fdca26"
             ],
             [
              1,
              "#f0f921"
             ]
            ],
            "type": "heatmapgl"
           }
          ],
          "histogram": [
           {
            "marker": {
             "pattern": {
              "fillmode": "overlay",
              "size": 10,
              "solidity": 0.2
             }
            },
            "type": "histogram"
           }
          ],
          "histogram2d": [
           {
            "colorbar": {
             "outlinewidth": 0,
             "ticks": ""
            },
            "colorscale": [
             [
              0,
              "#0d0887"
             ],
             [
              0.1111111111111111,
              "#46039f"
             ],
             [
              0.2222222222222222,
              "#7201a8"
             ],
             [
              0.3333333333333333,
              "#9c179e"
             ],
             [
              0.4444444444444444,
              "#bd3786"
             ],
             [
              0.5555555555555556,
              "#d8576b"
             ],
             [
              0.6666666666666666,
              "#ed7953"
             ],
             [
              0.7777777777777778,
              "#fb9f3a"
             ],
             [
              0.8888888888888888,
              "#fdca26"
             ],
             [
              1,
              "#f0f921"
             ]
            ],
            "type": "histogram2d"
           }
          ],
          "histogram2dcontour": [
           {
            "colorbar": {
             "outlinewidth": 0,
             "ticks": ""
            },
            "colorscale": [
             [
              0,
              "#0d0887"
             ],
             [
              0.1111111111111111,
              "#46039f"
             ],
             [
              0.2222222222222222,
              "#7201a8"
             ],
             [
              0.3333333333333333,
              "#9c179e"
             ],
             [
              0.4444444444444444,
              "#bd3786"
             ],
             [
              0.5555555555555556,
              "#d8576b"
             ],
             [
              0.6666666666666666,
              "#ed7953"
             ],
             [
              0.7777777777777778,
              "#fb9f3a"
             ],
             [
              0.8888888888888888,
              "#fdca26"
             ],
             [
              1,
              "#f0f921"
             ]
            ],
            "type": "histogram2dcontour"
           }
          ],
          "mesh3d": [
           {
            "colorbar": {
             "outlinewidth": 0,
             "ticks": ""
            },
            "type": "mesh3d"
           }
          ],
          "parcoords": [
           {
            "line": {
             "colorbar": {
              "outlinewidth": 0,
              "ticks": ""
             }
            },
            "type": "parcoords"
           }
          ],
          "pie": [
           {
            "automargin": true,
            "type": "pie"
           }
          ],
          "scatter": [
           {
            "fillpattern": {
             "fillmode": "overlay",
             "size": 10,
             "solidity": 0.2
            },
            "type": "scatter"
           }
          ],
          "scatter3d": [
           {
            "line": {
             "colorbar": {
              "outlinewidth": 0,
              "ticks": ""
             }
            },
            "marker": {
             "colorbar": {
              "outlinewidth": 0,
              "ticks": ""
             }
            },
            "type": "scatter3d"
           }
          ],
          "scattercarpet": [
           {
            "marker": {
             "colorbar": {
              "outlinewidth": 0,
              "ticks": ""
             }
            },
            "type": "scattercarpet"
           }
          ],
          "scattergeo": [
           {
            "marker": {
             "colorbar": {
              "outlinewidth": 0,
              "ticks": ""
             }
            },
            "type": "scattergeo"
           }
          ],
          "scattergl": [
           {
            "marker": {
             "colorbar": {
              "outlinewidth": 0,
              "ticks": ""
             }
            },
            "type": "scattergl"
           }
          ],
          "scattermapbox": [
           {
            "marker": {
             "colorbar": {
              "outlinewidth": 0,
              "ticks": ""
             }
            },
            "type": "scattermapbox"
           }
          ],
          "scatterpolar": [
           {
            "marker": {
             "colorbar": {
              "outlinewidth": 0,
              "ticks": ""
             }
            },
            "type": "scatterpolar"
           }
          ],
          "scatterpolargl": [
           {
            "marker": {
             "colorbar": {
              "outlinewidth": 0,
              "ticks": ""
             }
            },
            "type": "scatterpolargl"
           }
          ],
          "scatterternary": [
           {
            "marker": {
             "colorbar": {
              "outlinewidth": 0,
              "ticks": ""
             }
            },
            "type": "scatterternary"
           }
          ],
          "surface": [
           {
            "colorbar": {
             "outlinewidth": 0,
             "ticks": ""
            },
            "colorscale": [
             [
              0,
              "#0d0887"
             ],
             [
              0.1111111111111111,
              "#46039f"
             ],
             [
              0.2222222222222222,
              "#7201a8"
             ],
             [
              0.3333333333333333,
              "#9c179e"
             ],
             [
              0.4444444444444444,
              "#bd3786"
             ],
             [
              0.5555555555555556,
              "#d8576b"
             ],
             [
              0.6666666666666666,
              "#ed7953"
             ],
             [
              0.7777777777777778,
              "#fb9f3a"
             ],
             [
              0.8888888888888888,
              "#fdca26"
             ],
             [
              1,
              "#f0f921"
             ]
            ],
            "type": "surface"
           }
          ],
          "table": [
           {
            "cells": {
             "fill": {
              "color": "#EBF0F8"
             },
             "line": {
              "color": "white"
             }
            },
            "header": {
             "fill": {
              "color": "#C8D4E3"
             },
             "line": {
              "color": "white"
             }
            },
            "type": "table"
           }
          ]
         },
         "layout": {
          "annotationdefaults": {
           "arrowcolor": "#2a3f5f",
           "arrowhead": 0,
           "arrowwidth": 1
          },
          "autotypenumbers": "strict",
          "coloraxis": {
           "colorbar": {
            "outlinewidth": 0,
            "ticks": ""
           }
          },
          "colorscale": {
           "diverging": [
            [
             0,
             "#8e0152"
            ],
            [
             0.1,
             "#c51b7d"
            ],
            [
             0.2,
             "#de77ae"
            ],
            [
             0.3,
             "#f1b6da"
            ],
            [
             0.4,
             "#fde0ef"
            ],
            [
             0.5,
             "#f7f7f7"
            ],
            [
             0.6,
             "#e6f5d0"
            ],
            [
             0.7,
             "#b8e186"
            ],
            [
             0.8,
             "#7fbc41"
            ],
            [
             0.9,
             "#4d9221"
            ],
            [
             1,
             "#276419"
            ]
           ],
           "sequential": [
            [
             0,
             "#0d0887"
            ],
            [
             0.1111111111111111,
             "#46039f"
            ],
            [
             0.2222222222222222,
             "#7201a8"
            ],
            [
             0.3333333333333333,
             "#9c179e"
            ],
            [
             0.4444444444444444,
             "#bd3786"
            ],
            [
             0.5555555555555556,
             "#d8576b"
            ],
            [
             0.6666666666666666,
             "#ed7953"
            ],
            [
             0.7777777777777778,
             "#fb9f3a"
            ],
            [
             0.8888888888888888,
             "#fdca26"
            ],
            [
             1,
             "#f0f921"
            ]
           ],
           "sequentialminus": [
            [
             0,
             "#0d0887"
            ],
            [
             0.1111111111111111,
             "#46039f"
            ],
            [
             0.2222222222222222,
             "#7201a8"
            ],
            [
             0.3333333333333333,
             "#9c179e"
            ],
            [
             0.4444444444444444,
             "#bd3786"
            ],
            [
             0.5555555555555556,
             "#d8576b"
            ],
            [
             0.6666666666666666,
             "#ed7953"
            ],
            [
             0.7777777777777778,
             "#fb9f3a"
            ],
            [
             0.8888888888888888,
             "#fdca26"
            ],
            [
             1,
             "#f0f921"
            ]
           ]
          },
          "colorway": [
           "#636efa",
           "#EF553B",
           "#00cc96",
           "#ab63fa",
           "#FFA15A",
           "#19d3f3",
           "#FF6692",
           "#B6E880",
           "#FF97FF",
           "#FECB52"
          ],
          "font": {
           "color": "#2a3f5f"
          },
          "geo": {
           "bgcolor": "white",
           "lakecolor": "white",
           "landcolor": "#E5ECF6",
           "showlakes": true,
           "showland": true,
           "subunitcolor": "white"
          },
          "hoverlabel": {
           "align": "left"
          },
          "hovermode": "closest",
          "mapbox": {
           "style": "light"
          },
          "paper_bgcolor": "white",
          "plot_bgcolor": "#E5ECF6",
          "polar": {
           "angularaxis": {
            "gridcolor": "white",
            "linecolor": "white",
            "ticks": ""
           },
           "bgcolor": "#E5ECF6",
           "radialaxis": {
            "gridcolor": "white",
            "linecolor": "white",
            "ticks": ""
           }
          },
          "scene": {
           "xaxis": {
            "backgroundcolor": "#E5ECF6",
            "gridcolor": "white",
            "gridwidth": 2,
            "linecolor": "white",
            "showbackground": true,
            "ticks": "",
            "zerolinecolor": "white"
           },
           "yaxis": {
            "backgroundcolor": "#E5ECF6",
            "gridcolor": "white",
            "gridwidth": 2,
            "linecolor": "white",
            "showbackground": true,
            "ticks": "",
            "zerolinecolor": "white"
           },
           "zaxis": {
            "backgroundcolor": "#E5ECF6",
            "gridcolor": "white",
            "gridwidth": 2,
            "linecolor": "white",
            "showbackground": true,
            "ticks": "",
            "zerolinecolor": "white"
           }
          },
          "shapedefaults": {
           "line": {
            "color": "#2a3f5f"
           }
          },
          "ternary": {
           "aaxis": {
            "gridcolor": "white",
            "linecolor": "white",
            "ticks": ""
           },
           "baxis": {
            "gridcolor": "white",
            "linecolor": "white",
            "ticks": ""
           },
           "bgcolor": "#E5ECF6",
           "caxis": {
            "gridcolor": "white",
            "linecolor": "white",
            "ticks": ""
           }
          },
          "title": {
           "x": 0.05
          },
          "xaxis": {
           "automargin": true,
           "gridcolor": "white",
           "linecolor": "white",
           "ticks": "",
           "title": {
            "standoff": 15
           },
           "zerolinecolor": "white",
           "zerolinewidth": 2
          },
          "yaxis": {
           "automargin": true,
           "gridcolor": "white",
           "linecolor": "white",
           "ticks": "",
           "title": {
            "standoff": 15
           },
           "zerolinecolor": "white",
           "zerolinewidth": 2
          }
         }
        },
        "title": {
         "text": "Missing Ratio of Catagorical Columns"
        },
        "width": 800,
        "xaxis": {
         "anchor": "y",
         "domain": [
          0,
          1
         ],
         "range": [
          0,
          100
         ],
         "title": {
          "text": "Missing Ratio (%)"
         }
        },
        "yaxis": {
         "anchor": "x",
         "domain": [
          0,
          1
         ],
         "title": {
          "text": "Column"
         }
        }
       }
      }
     },
     "metadata": {},
     "output_type": "display_data"
    }
   ],
   "source": [
    "cat_missing_ratio_df = pd.DataFrame({'Column': cat_missing_ratio.index, 'Missing Ratio (%)': cat_missing_ratio.values})\n",
    "fig = px.bar(cat_missing_ratio_df, x = cat_missing_ratio_df['Missing Ratio (%)'], y = 'Column', \n",
    "             title = 'Missing Ratio of Catagorical Columns', range_x= (0, 100),\n",
    "             text = 'Missing Ratio (%)')\n",
    "fig.update_layout(height=800, width=800)\n",
    "fig.show()"
   ]
  },
  {
   "cell_type": "markdown",
   "id": "f5bda73e-65a8-403a-8d96-7adfa2a0a0f0",
   "metadata": {},
   "source": [
    "**Observation:**\n",
    "- The missing value ratio of each catagorical column is quite low, so we will keep the columns and handle the missing values."
   ]
  },
  {
   "cell_type": "markdown",
   "id": "9596c6ef-1ebf-48a2-b86a-b215e4e9ac7f",
   "metadata": {},
   "source": [
    "- How many different values? Are they abnormal?"
   ]
  },
  {
   "cell_type": "code",
   "execution_count": 41,
   "id": "65e52924-ac89-4edc-aac8-e7c8af0d7198",
   "metadata": {},
   "outputs": [
    {
     "data": {
      "text/html": [
       "<div>\n",
       "<style scoped>\n",
       "    .dataframe tbody tr th:only-of-type {\n",
       "        vertical-align: middle;\n",
       "    }\n",
       "\n",
       "    .dataframe tbody tr th {\n",
       "        vertical-align: top;\n",
       "    }\n",
       "\n",
       "    .dataframe thead th {\n",
       "        text-align: right;\n",
       "    }\n",
       "</style>\n",
       "<table border=\"1\" class=\"dataframe\">\n",
       "  <thead>\n",
       "    <tr style=\"text-align: right;\">\n",
       "      <th></th>\n",
       "      <th>State</th>\n",
       "      <th>Sex</th>\n",
       "      <th>GeneralHealth</th>\n",
       "      <th>LastCheckupTime</th>\n",
       "      <th>PhysicalActivities</th>\n",
       "      <th>RemovedTeeth</th>\n",
       "      <th>HadHeartAttack</th>\n",
       "      <th>HadAngina</th>\n",
       "      <th>HadStroke</th>\n",
       "      <th>HadAsthma</th>\n",
       "      <th>...</th>\n",
       "      <th>ChestScan</th>\n",
       "      <th>RaceEthnicityCategory</th>\n",
       "      <th>AgeCategory</th>\n",
       "      <th>AlcoholDrinkers</th>\n",
       "      <th>HIVTesting</th>\n",
       "      <th>FluVaxLast12</th>\n",
       "      <th>PneumoVaxEver</th>\n",
       "      <th>TetanusLast10Tdap</th>\n",
       "      <th>HighRiskLastYear</th>\n",
       "      <th>CovidPos</th>\n",
       "    </tr>\n",
       "  </thead>\n",
       "  <tbody>\n",
       "    <tr>\n",
       "      <th>count</th>\n",
       "      <td>10952</td>\n",
       "      <td>10952</td>\n",
       "      <td>10914</td>\n",
       "      <td>10659</td>\n",
       "      <td>10906</td>\n",
       "      <td>10705</td>\n",
       "      <td>10853</td>\n",
       "      <td>10833</td>\n",
       "      <td>10878</td>\n",
       "      <td>10871</td>\n",
       "      <td>...</td>\n",
       "      <td>9260</td>\n",
       "      <td>10413</td>\n",
       "      <td>10642</td>\n",
       "      <td>9415</td>\n",
       "      <td>8896</td>\n",
       "      <td>9346</td>\n",
       "      <td>8299</td>\n",
       "      <td>8289</td>\n",
       "      <td>9208</td>\n",
       "      <td>9205</td>\n",
       "    </tr>\n",
       "    <tr>\n",
       "      <th>unique</th>\n",
       "      <td>1</td>\n",
       "      <td>2</td>\n",
       "      <td>5</td>\n",
       "      <td>4</td>\n",
       "      <td>2</td>\n",
       "      <td>4</td>\n",
       "      <td>2</td>\n",
       "      <td>2</td>\n",
       "      <td>2</td>\n",
       "      <td>2</td>\n",
       "      <td>...</td>\n",
       "      <td>2</td>\n",
       "      <td>5</td>\n",
       "      <td>13</td>\n",
       "      <td>2</td>\n",
       "      <td>2</td>\n",
       "      <td>2</td>\n",
       "      <td>2</td>\n",
       "      <td>4</td>\n",
       "      <td>2</td>\n",
       "      <td>3</td>\n",
       "    </tr>\n",
       "    <tr>\n",
       "      <th>top</th>\n",
       "      <td>California</td>\n",
       "      <td>Male</td>\n",
       "      <td>Very good</td>\n",
       "      <td>Within past year (anytime less than 12 months ago)</td>\n",
       "      <td>Yes</td>\n",
       "      <td>None of them</td>\n",
       "      <td>No</td>\n",
       "      <td>No</td>\n",
       "      <td>No</td>\n",
       "      <td>No</td>\n",
       "      <td>...</td>\n",
       "      <td>No</td>\n",
       "      <td>White only, Non-Hispanic</td>\n",
       "      <td>Age 18 to 24</td>\n",
       "      <td>Yes</td>\n",
       "      <td>No</td>\n",
       "      <td>No</td>\n",
       "      <td>No</td>\n",
       "      <td>No, did not receive any tetanus shot in the past 10 years</td>\n",
       "      <td>No</td>\n",
       "      <td>No</td>\n",
       "    </tr>\n",
       "    <tr>\n",
       "      <th>freq</th>\n",
       "      <td>10952</td>\n",
       "      <td>5722</td>\n",
       "      <td>3545</td>\n",
       "      <td>7878</td>\n",
       "      <td>8758</td>\n",
       "      <td>6637</td>\n",
       "      <td>10410</td>\n",
       "      <td>10411</td>\n",
       "      <td>10512</td>\n",
       "      <td>9160</td>\n",
       "      <td>...</td>\n",
       "      <td>5908</td>\n",
       "      <td>5513</td>\n",
       "      <td>1013</td>\n",
       "      <td>5351</td>\n",
       "      <td>5257</td>\n",
       "      <td>4740</td>\n",
       "      <td>5433</td>\n",
       "      <td>2866</td>\n",
       "      <td>8554</td>\n",
       "      <td>6037</td>\n",
       "    </tr>\n",
       "    <tr>\n",
       "      <th>missing_ratio</th>\n",
       "      <td>0.0</td>\n",
       "      <td>0.0</td>\n",
       "      <td>0.35</td>\n",
       "      <td>2.68</td>\n",
       "      <td>0.42</td>\n",
       "      <td>2.26</td>\n",
       "      <td>0.9</td>\n",
       "      <td>1.09</td>\n",
       "      <td>0.68</td>\n",
       "      <td>0.74</td>\n",
       "      <td>...</td>\n",
       "      <td>15.45</td>\n",
       "      <td>4.92</td>\n",
       "      <td>2.83</td>\n",
       "      <td>14.03</td>\n",
       "      <td>18.77</td>\n",
       "      <td>14.66</td>\n",
       "      <td>24.22</td>\n",
       "      <td>24.32</td>\n",
       "      <td>15.92</td>\n",
       "      <td>15.95</td>\n",
       "    </tr>\n",
       "    <tr>\n",
       "      <th>value_ratios</th>\n",
       "      <td>{'California': 100.0}</td>\n",
       "      <td>{'Male': 52.25, 'Female': 47.75}</td>\n",
       "      <td>{'Very good': 32.48, 'Good': 31.45, 'Excellent': 19.01, 'Fair': 13.17, 'Poor': 3.89}</td>\n",
       "      <td>{'Within past year (anytime less than 12 months ago)': 73.91, 'Within past 2 years (1 year but less than 2 years ago)': 12.95, 'Within past 5 years (2 years but less than 5 years ago)': 8.24, '5 or more years ago': 4.91}</td>\n",
       "      <td>{'Yes': 80.3, 'No': 19.7}</td>\n",
       "      <td>{'None of them': 62.0, '1 to 5': 27.68, '6 or more, but not all': 7.39, 'All': 2.93}</td>\n",
       "      <td>{'No': 95.92, 'Yes': 4.08}</td>\n",
       "      <td>{'No': 96.1, 'Yes': 3.9}</td>\n",
       "      <td>{'No': 96.64, 'Yes': 3.36}</td>\n",
       "      <td>{'No': 84.26, 'Yes': 15.74}</td>\n",
       "      <td>...</td>\n",
       "      <td>{'No': 63.8, 'Yes': 36.2}</td>\n",
       "      <td>{'White only, Non-Hispanic': 52.94, 'Hispanic': 26.64, 'Other race only, Non-Hispanic': 12.05, 'Black only, Non-Hispanic': 6.1, 'Multiracial, Non-Hispanic': 2.27}</td>\n",
       "      <td>{'Age 18 to 24': 9.52, 'Age 60 to 64': 8.43, 'Age 30 to 34': 8.37, 'Age 55 to 59': 8.12, 'Age 25 to 29': 8.09, 'Age 35 to 39': 8.0, 'Age 65 to 69': 7.95, 'Age 50 to 54': 7.8, 'Age 70 to 74': 7.69, 'Age 40 to 44': 7.59, 'Age 45 to 49': 6.53, 'Age 80 or older': 6.06, 'Age 75 to 79': 5.85}</td>\n",
       "      <td>{'Yes': 56.83, 'No': 43.17}</td>\n",
       "      <td>{'No': 59.09, 'Yes': 40.91}</td>\n",
       "      <td>{'No': 50.72, 'Yes': 49.28}</td>\n",
       "      <td>{'No': 65.47, 'Yes': 34.53}</td>\n",
       "      <td>{'No, did not receive any tetanus shot in the past 10 years': 34.58, 'Yes, received Tdap': 32.48, 'Yes, received tetanus shot but not sure what type': 26.51, 'Yes, received tetanus shot, but not Tdap': 6.44}</td>\n",
       "      <td>{'No': 92.9, 'Yes': 7.1}</td>\n",
       "      <td>{'No': 65.58, 'Yes': 28.41, 'Tested positive using home test without a health professional': 6.01}</td>\n",
       "    </tr>\n",
       "  </tbody>\n",
       "</table>\n",
       "<p>6 rows × 34 columns</p>\n",
       "</div>"
      ],
      "text/plain": [
       "                               State                               Sex  \\\n",
       "count                          10952                             10952   \n",
       "unique                             1                                 2   \n",
       "top                       California                              Male   \n",
       "freq                           10952                              5722   \n",
       "missing_ratio                    0.0                               0.0   \n",
       "value_ratios   {'California': 100.0}  {'Male': 52.25, 'Female': 47.75}   \n",
       "\n",
       "                                                                                      GeneralHealth  \\\n",
       "count                                                                                         10914   \n",
       "unique                                                                                            5   \n",
       "top                                                                                       Very good   \n",
       "freq                                                                                           3545   \n",
       "missing_ratio                                                                                  0.35   \n",
       "value_ratios   {'Very good': 32.48, 'Good': 31.45, 'Excellent': 19.01, 'Fair': 13.17, 'Poor': 3.89}   \n",
       "\n",
       "                                                                                                                                                                                                                            LastCheckupTime  \\\n",
       "count                                                                                                                                                                                                                                 10659   \n",
       "unique                                                                                                                                                                                                                                    4   \n",
       "top                                                                                                                                                                                      Within past year (anytime less than 12 months ago)   \n",
       "freq                                                                                                                                                                                                                                   7878   \n",
       "missing_ratio                                                                                                                                                                                                                          2.68   \n",
       "value_ratios   {'Within past year (anytime less than 12 months ago)': 73.91, 'Within past 2 years (1 year but less than 2 years ago)': 12.95, 'Within past 5 years (2 years but less than 5 years ago)': 8.24, '5 or more years ago': 4.91}   \n",
       "\n",
       "                      PhysicalActivities  \\\n",
       "count                              10906   \n",
       "unique                                 2   \n",
       "top                                  Yes   \n",
       "freq                                8758   \n",
       "missing_ratio                       0.42   \n",
       "value_ratios   {'Yes': 80.3, 'No': 19.7}   \n",
       "\n",
       "                                                                                       RemovedTeeth  \\\n",
       "count                                                                                         10705   \n",
       "unique                                                                                            4   \n",
       "top                                                                                    None of them   \n",
       "freq                                                                                           6637   \n",
       "missing_ratio                                                                                  2.26   \n",
       "value_ratios   {'None of them': 62.0, '1 to 5': 27.68, '6 or more, but not all': 7.39, 'All': 2.93}   \n",
       "\n",
       "                           HadHeartAttack                 HadAngina  \\\n",
       "count                               10853                     10833   \n",
       "unique                                  2                         2   \n",
       "top                                    No                        No   \n",
       "freq                                10410                     10411   \n",
       "missing_ratio                         0.9                      1.09   \n",
       "value_ratios   {'No': 95.92, 'Yes': 4.08}  {'No': 96.1, 'Yes': 3.9}   \n",
       "\n",
       "                                HadStroke                    HadAsthma  ...  \\\n",
       "count                               10878                        10871  ...   \n",
       "unique                                  2                            2  ...   \n",
       "top                                    No                           No  ...   \n",
       "freq                                10512                         9160  ...   \n",
       "missing_ratio                        0.68                         0.74  ...   \n",
       "value_ratios   {'No': 96.64, 'Yes': 3.36}  {'No': 84.26, 'Yes': 15.74}  ...   \n",
       "\n",
       "                               ChestScan  \\\n",
       "count                               9260   \n",
       "unique                                 2   \n",
       "top                                   No   \n",
       "freq                                5908   \n",
       "missing_ratio                      15.45   \n",
       "value_ratios   {'No': 63.8, 'Yes': 36.2}   \n",
       "\n",
       "                                                                                                                                                            RaceEthnicityCategory  \\\n",
       "count                                                                                                                                                                       10413   \n",
       "unique                                                                                                                                                                          5   \n",
       "top                                                                                                                                                      White only, Non-Hispanic   \n",
       "freq                                                                                                                                                                         5513   \n",
       "missing_ratio                                                                                                                                                                4.92   \n",
       "value_ratios   {'White only, Non-Hispanic': 52.94, 'Hispanic': 26.64, 'Other race only, Non-Hispanic': 12.05, 'Black only, Non-Hispanic': 6.1, 'Multiracial, Non-Hispanic': 2.27}   \n",
       "\n",
       "                                                                                                                                                                                                                                                                                                   AgeCategory  \\\n",
       "count                                                                                                                                                                                                                                                                                                    10642   \n",
       "unique                                                                                                                                                                                                                                                                                                      13   \n",
       "top                                                                                                                                                                                                                                                                                               Age 18 to 24   \n",
       "freq                                                                                                                                                                                                                                                                                                      1013   \n",
       "missing_ratio                                                                                                                                                                                                                                                                                             2.83   \n",
       "value_ratios   {'Age 18 to 24': 9.52, 'Age 60 to 64': 8.43, 'Age 30 to 34': 8.37, 'Age 55 to 59': 8.12, 'Age 25 to 29': 8.09, 'Age 35 to 39': 8.0, 'Age 65 to 69': 7.95, 'Age 50 to 54': 7.8, 'Age 70 to 74': 7.69, 'Age 40 to 44': 7.59, 'Age 45 to 49': 6.53, 'Age 80 or older': 6.06, 'Age 75 to 79': 5.85}   \n",
       "\n",
       "                           AlcoholDrinkers                   HIVTesting  \\\n",
       "count                                 9415                         8896   \n",
       "unique                                   2                            2   \n",
       "top                                    Yes                           No   \n",
       "freq                                  5351                         5257   \n",
       "missing_ratio                        14.03                        18.77   \n",
       "value_ratios   {'Yes': 56.83, 'No': 43.17}  {'No': 59.09, 'Yes': 40.91}   \n",
       "\n",
       "                              FluVaxLast12                PneumoVaxEver  \\\n",
       "count                                 9346                         8299   \n",
       "unique                                   2                            2   \n",
       "top                                     No                           No   \n",
       "freq                                  4740                         5433   \n",
       "missing_ratio                        14.66                        24.22   \n",
       "value_ratios   {'No': 50.72, 'Yes': 49.28}  {'No': 65.47, 'Yes': 34.53}   \n",
       "\n",
       "                                                                                                                                                                                                             TetanusLast10Tdap  \\\n",
       "count                                                                                                                                                                                                                     8289   \n",
       "unique                                                                                                                                                                                                                       4   \n",
       "top                                                                                                                                                                  No, did not receive any tetanus shot in the past 10 years   \n",
       "freq                                                                                                                                                                                                                      2866   \n",
       "missing_ratio                                                                                                                                                                                                            24.32   \n",
       "value_ratios   {'No, did not receive any tetanus shot in the past 10 years': 34.58, 'Yes, received Tdap': 32.48, 'Yes, received tetanus shot but not sure what type': 26.51, 'Yes, received tetanus shot, but not Tdap': 6.44}   \n",
       "\n",
       "                       HighRiskLastYear  \\\n",
       "count                              9208   \n",
       "unique                                2   \n",
       "top                                  No   \n",
       "freq                               8554   \n",
       "missing_ratio                     15.92   \n",
       "value_ratios   {'No': 92.9, 'Yes': 7.1}   \n",
       "\n",
       "                                                                                                         CovidPos  \n",
       "count                                                                                                        9205  \n",
       "unique                                                                                                          3  \n",
       "top                                                                                                            No  \n",
       "freq                                                                                                         6037  \n",
       "missing_ratio                                                                                               15.95  \n",
       "value_ratios   {'No': 65.58, 'Yes': 28.41, 'Tested positive using home test without a health professional': 6.01}  \n",
       "\n",
       "[6 rows x 34 columns]"
      ]
     },
     "execution_count": 41,
     "metadata": {},
     "output_type": "execute_result"
    }
   ],
   "source": [
    "def describe_catagorical(df):\n",
    "    df_info = df.agg([missing_ratio, value_ratios])\n",
    "    df_info = pd.concat([df.describe(), df_info], axis = 0)\n",
    "    return df_info\n",
    "cat_col_info_df = describe_catagorical(cat_col_df)\n",
    "cat_col_info_df"
   ]
  },
  {
   "cell_type": "markdown",
   "id": "9fc51c86",
   "metadata": {},
   "source": [
    "# **Data preprocessing**"
   ]
  },
  {
   "cell_type": "markdown",
   "id": "11067a2d",
   "metadata": {},
   "source": [
    "**1. Handle duplicated rows**"
   ]
  },
  {
   "cell_type": "markdown",
   "id": "ffdf9381-2b2a-4066-b78f-29cc0937af5a",
   "metadata": {},
   "source": [
    "In this dataset, there are duplicated rows of data, so we will proceed to remove these rows."
   ]
  },
  {
   "cell_type": "code",
   "execution_count": 42,
   "id": "5faf2b44-9eb7-40e2-bb42-35024afc9bf6",
   "metadata": {},
   "outputs": [
    {
     "name": "stdout",
     "output_type": "stream",
     "text": [
      "No duplicate rows found\n"
     ]
    }
   ],
   "source": [
    "cleaned_data = raw_data.copy()\n",
    "# Remove duplicate rows\n",
    "cleaned_data = cleaned_data.drop_duplicates()\n",
    "# Check again\n",
    "duplicate_rows =  check_duplicates(cleaned_data)"
   ]
  },
  {
   "cell_type": "markdown",
   "id": "f53b06e8",
   "metadata": {},
   "source": [
    "**2. Handling missing values**"
   ]
  },
  {
   "cell_type": "markdown",
   "id": "427e682b",
   "metadata": {},
   "source": [
    "- First, the rows of data that have a significant number of missing attributes will be removed from the dataset."
   ]
  },
  {
   "cell_type": "code",
   "execution_count": 43,
   "id": "c4a4bc70",
   "metadata": {},
   "outputs": [
    {
     "name": "stdout",
     "output_type": "stream",
     "text": [
      "Dropped 76 rows with a significant percentage of missing data.\n"
     ]
    }
   ],
   "source": [
    "threshold = 0.5 # Define the threshold percentage\n",
    "# Calculate the percentage of missing values in each row\n",
    "missing_percentage_row = cleaned_data.isnull().sum(axis = 1)/cleaned_data.shape[1]\n",
    "# Check for rows with a significant percentage of missing data\n",
    "rows_with_many_missing_values = cleaned_data[missing_percentage_row > threshold]\n",
    "# Drop rows with a significant percentage of missing data\n",
    "cleaned_data = cleaned_data.drop(rows_with_many_missing_values.index)\n",
    "# Print a message after dropping the rows with a significant percentage of missing data\n",
    "print(f\"Dropped {len(rows_with_many_missing_values)} rows with a significant percentage of missing data.\")"
   ]
  },
  {
   "cell_type": "markdown",
   "id": "9d044469",
   "metadata": {},
   "source": [
    "**With numeric columns:**\n",
    "- Based on upper-quartile values and max values, we can see `PhysicalHealthDays, MentalHealthDays, SleepHours, WeightInKilograms` and `BMI` have right-skewed distributions as upper-quartile values are far from max values.\n",
    "- Because of that, we will fill missing values in these columns with the median (an indicator that is insensitive with outliers).\n",
    "    - Because BMI is related to height and weight, we will fill missing values in the BMI column using this formular: \n",
    "    $$ BMI = {weight(kg) \\over height^2(m^2)} $$\n",
    "    - First, we will fill missing values in two columns HeightInMeters and WeightInKilograms with the median."
   ]
  },
  {
   "cell_type": "code",
   "execution_count": 44,
   "id": "43eb6181",
   "metadata": {},
   "outputs": [],
   "source": [
    "median_filled_cols = ['PhysicalHealthDays', 'MentalHealthDays', 'SleepHours', 'HeightInMeters', 'WeightInKilograms']\n",
    "cleaned_data[median_filled_cols] = cleaned_data[median_filled_cols].fillna(num_col_df.median())"
   ]
  },
  {
   "cell_type": "markdown",
   "id": "0a891ee1",
   "metadata": {},
   "source": [
    "Then we will fill missing values in the BMI column using the formular above."
   ]
  },
  {
   "cell_type": "code",
   "execution_count": 45,
   "id": "cdfb7080",
   "metadata": {},
   "outputs": [],
   "source": [
    "cleaned_data['BMI'] = cleaned_data['BMI'].fillna((cleaned_data['WeightInKilograms']/cleaned_data['HeightInMeters']**2).round(2))"
   ]
  },
  {
   "cell_type": "markdown",
   "id": "188978bb",
   "metadata": {},
   "source": [
    "After handling missing values, we will check missing-ratio again to ensure that we have handle missing values successfully."
   ]
  },
  {
   "cell_type": "code",
   "execution_count": 46,
   "id": "a7f1044a",
   "metadata": {},
   "outputs": [
    {
     "data": {
      "text/html": [
       "<div>\n",
       "<style scoped>\n",
       "    .dataframe tbody tr th:only-of-type {\n",
       "        vertical-align: middle;\n",
       "    }\n",
       "\n",
       "    .dataframe tbody tr th {\n",
       "        vertical-align: top;\n",
       "    }\n",
       "\n",
       "    .dataframe thead th {\n",
       "        text-align: right;\n",
       "    }\n",
       "</style>\n",
       "<table border=\"1\" class=\"dataframe\">\n",
       "  <thead>\n",
       "    <tr style=\"text-align: right;\">\n",
       "      <th></th>\n",
       "      <th>PhysicalHealthDays</th>\n",
       "      <th>MentalHealthDays</th>\n",
       "      <th>SleepHours</th>\n",
       "      <th>HeightInMeters</th>\n",
       "      <th>WeightInKilograms</th>\n",
       "      <th>BMI</th>\n",
       "    </tr>\n",
       "  </thead>\n",
       "  <tbody>\n",
       "    <tr>\n",
       "      <th>missing_ratio</th>\n",
       "      <td>0.000000</td>\n",
       "      <td>0.000000</td>\n",
       "      <td>0.000000</td>\n",
       "      <td>0.000000</td>\n",
       "      <td>0.000000</td>\n",
       "      <td>0.000000</td>\n",
       "    </tr>\n",
       "    <tr>\n",
       "      <th>count</th>\n",
       "      <td>10872.000000</td>\n",
       "      <td>10872.000000</td>\n",
       "      <td>10872.000000</td>\n",
       "      <td>10872.000000</td>\n",
       "      <td>10872.000000</td>\n",
       "      <td>10872.000000</td>\n",
       "    </tr>\n",
       "    <tr>\n",
       "      <th>mean</th>\n",
       "      <td>4.078091</td>\n",
       "      <td>4.590232</td>\n",
       "      <td>6.989146</td>\n",
       "      <td>1.705927</td>\n",
       "      <td>80.022852</td>\n",
       "      <td>27.430048</td>\n",
       "    </tr>\n",
       "    <tr>\n",
       "      <th>std</th>\n",
       "      <td>8.385055</td>\n",
       "      <td>8.359151</td>\n",
       "      <td>1.437014</td>\n",
       "      <td>0.101605</td>\n",
       "      <td>19.684581</td>\n",
       "      <td>6.045599</td>\n",
       "    </tr>\n",
       "    <tr>\n",
       "      <th>min</th>\n",
       "      <td>0.000000</td>\n",
       "      <td>0.000000</td>\n",
       "      <td>1.000000</td>\n",
       "      <td>1.250000</td>\n",
       "      <td>25.400000</td>\n",
       "      <td>8.100000</td>\n",
       "    </tr>\n",
       "    <tr>\n",
       "      <th>25%</th>\n",
       "      <td>0.000000</td>\n",
       "      <td>0.000000</td>\n",
       "      <td>6.000000</td>\n",
       "      <td>1.630000</td>\n",
       "      <td>68.040000</td>\n",
       "      <td>23.630000</td>\n",
       "    </tr>\n",
       "    <tr>\n",
       "      <th>50%</th>\n",
       "      <td>0.000000</td>\n",
       "      <td>0.000000</td>\n",
       "      <td>7.000000</td>\n",
       "      <td>1.700000</td>\n",
       "      <td>77.110000</td>\n",
       "      <td>26.680000</td>\n",
       "    </tr>\n",
       "    <tr>\n",
       "      <th>75%</th>\n",
       "      <td>3.000000</td>\n",
       "      <td>5.000000</td>\n",
       "      <td>8.000000</td>\n",
       "      <td>1.780000</td>\n",
       "      <td>90.720000</td>\n",
       "      <td>30.120000</td>\n",
       "    </tr>\n",
       "    <tr>\n",
       "      <th>max</th>\n",
       "      <td>30.000000</td>\n",
       "      <td>30.000000</td>\n",
       "      <td>24.000000</td>\n",
       "      <td>2.360000</td>\n",
       "      <td>272.160000</td>\n",
       "      <td>103.450000</td>\n",
       "    </tr>\n",
       "  </tbody>\n",
       "</table>\n",
       "</div>"
      ],
      "text/plain": [
       "               PhysicalHealthDays  MentalHealthDays    SleepHours  \\\n",
       "missing_ratio            0.000000          0.000000      0.000000   \n",
       "count                10872.000000      10872.000000  10872.000000   \n",
       "mean                     4.078091          4.590232      6.989146   \n",
       "std                      8.385055          8.359151      1.437014   \n",
       "min                      0.000000          0.000000      1.000000   \n",
       "25%                      0.000000          0.000000      6.000000   \n",
       "50%                      0.000000          0.000000      7.000000   \n",
       "75%                      3.000000          5.000000      8.000000   \n",
       "max                     30.000000         30.000000     24.000000   \n",
       "\n",
       "               HeightInMeters  WeightInKilograms           BMI  \n",
       "missing_ratio        0.000000           0.000000      0.000000  \n",
       "count            10872.000000       10872.000000  10872.000000  \n",
       "mean                 1.705927          80.022852     27.430048  \n",
       "std                  0.101605          19.684581      6.045599  \n",
       "min                  1.250000          25.400000      8.100000  \n",
       "25%                  1.630000          68.040000     23.630000  \n",
       "50%                  1.700000          77.110000     26.680000  \n",
       "75%                  1.780000          90.720000     30.120000  \n",
       "max                  2.360000         272.160000    103.450000  "
      ]
     },
     "execution_count": 46,
     "metadata": {},
     "output_type": "execute_result"
    }
   ],
   "source": [
    "non_nan_num_cols = cleaned_data[num_col_df.columns]\n",
    "num_col_describe_df = non_nan_num_cols.describe()\n",
    "non_nan_num_col_info_df = non_nan_num_cols.agg([missing_ratio])\n",
    "non_nan_num_col_info_df = pd.concat([non_nan_num_col_info_df, num_col_describe_df])\n",
    "non_nan_num_col_info_df"
   ]
  },
  {
   "cell_type": "markdown",
   "id": "28539507",
   "metadata": {},
   "source": [
    "**Visualize the distribution of numeric columns**\n",
    "We will use **histogram** to visualize the distributions of numeric columns and provide insights we can gain from them."
   ]
  },
  {
   "cell_type": "code",
   "execution_count": 47,
   "id": "53bcf827",
   "metadata": {},
   "outputs": [
    {
     "data": {
      "image/png": "[encoded data removed]",
      "text/plain": [
       "<Figure size 1400x600 with 6 Axes>"
      ]
     },
     "metadata": {},
     "output_type": "display_data"
    }
   ],
   "source": [
    "fig, axes = plt.subplots(2, 3, figsize=(14, 6))\n",
    "axes = axes.flatten()\n",
    "plt.subplots_adjust(hspace=0.4)\n",
    "\n",
    "bin_nums = [10, 10, 23, 20, 20, 20]\n",
    "for i in range(len(axes)):\n",
    "    axes[i].hist(cleaned_data[non_nan_num_cols.columns[i]], bins=bin_nums[i])\n",
    "    axes[i].set_title(non_nan_num_cols.columns[i]);"
   ]
  },
  {
   "cell_type": "markdown",
   "id": "25ea219a",
   "metadata": {},
   "source": [
    "**Observation**:\n",
    "- The physical health of people in California is generally good, as most of them experienced physical health problems for less than 6 days.\n",
    "- The number of people experiencing mental health problems for more than 6 days is quite higher than that of physical health problems. It can be observed that mental health problems often persist for a longer duration compared to physical health problems.\n",
    "- The distribution of the SleepHours column is narrow, indicating that most people in California have average sleep hours around 6 to 9 hours per day, which is good for health.\n",
    "- The height of people in California is various, but focused mainly in the range of 1.5 to 1.85 meters.\n",
    "- Similarly, the weight and BMI are primarily centered in the range of 50 to 112 kilograms and 20 to 35."
   ]
  },
  {
   "cell_type": "markdown",
   "id": "d949649f",
   "metadata": {},
   "source": [
    "**With catagorical columns:**"
   ]
  },
  {
   "cell_type": "code",
   "execution_count": 48,
   "id": "b91adab8",
   "metadata": {},
   "outputs": [],
   "source": [
    "# Unnecessary columns \n",
    "cols_to_drop = ['State', 'HIVTesting', 'FluVaxLast12', 'PneumoVaxEver', 'TetanusLast10Tdap',\n",
    "       'HighRiskLastYear', 'CovidPos']\n",
    "# Drop columns\n",
    "cleaned_data.drop(columns = cols_to_drop, inplace =True)\n",
    "\n"
   ]
  },
  {
   "cell_type": "code",
   "execution_count": 49,
   "id": "84533cc7",
   "metadata": {},
   "outputs": [
    {
     "data": {
      "text/html": [
       "<div>\n",
       "<style scoped>\n",
       "    .dataframe tbody tr th:only-of-type {\n",
       "        vertical-align: middle;\n",
       "    }\n",
       "\n",
       "    .dataframe tbody tr th {\n",
       "        vertical-align: top;\n",
       "    }\n",
       "\n",
       "    .dataframe thead th {\n",
       "        text-align: right;\n",
       "    }\n",
       "</style>\n",
       "<table border=\"1\" class=\"dataframe\">\n",
       "  <thead>\n",
       "    <tr style=\"text-align: right;\">\n",
       "      <th></th>\n",
       "      <th>Sex</th>\n",
       "      <th>GeneralHealth</th>\n",
       "      <th>LastCheckupTime</th>\n",
       "      <th>PhysicalActivities</th>\n",
       "      <th>RemovedTeeth</th>\n",
       "      <th>HadHeartAttack</th>\n",
       "      <th>HadAngina</th>\n",
       "      <th>HadStroke</th>\n",
       "      <th>HadAsthma</th>\n",
       "      <th>HadSkinCancer</th>\n",
       "      <th>...</th>\n",
       "      <th>DifficultyConcentrating</th>\n",
       "      <th>DifficultyWalking</th>\n",
       "      <th>DifficultyDressingBathing</th>\n",
       "      <th>DifficultyErrands</th>\n",
       "      <th>SmokerStatus</th>\n",
       "      <th>ECigaretteUsage</th>\n",
       "      <th>ChestScan</th>\n",
       "      <th>RaceEthnicityCategory</th>\n",
       "      <th>AgeCategory</th>\n",
       "      <th>AlcoholDrinkers</th>\n",
       "    </tr>\n",
       "  </thead>\n",
       "  <tbody>\n",
       "    <tr>\n",
       "      <th>count</th>\n",
       "      <td>7657</td>\n",
       "      <td>7657</td>\n",
       "      <td>7657</td>\n",
       "      <td>7657</td>\n",
       "      <td>7657</td>\n",
       "      <td>7657</td>\n",
       "      <td>7657</td>\n",
       "      <td>7657</td>\n",
       "      <td>7657</td>\n",
       "      <td>7657</td>\n",
       "      <td>...</td>\n",
       "      <td>7657</td>\n",
       "      <td>7657</td>\n",
       "      <td>7657</td>\n",
       "      <td>7657</td>\n",
       "      <td>7657</td>\n",
       "      <td>7657</td>\n",
       "      <td>7657</td>\n",
       "      <td>7657</td>\n",
       "      <td>7657</td>\n",
       "      <td>7657</td>\n",
       "    </tr>\n",
       "    <tr>\n",
       "      <th>unique</th>\n",
       "      <td>2</td>\n",
       "      <td>5</td>\n",
       "      <td>4</td>\n",
       "      <td>2</td>\n",
       "      <td>4</td>\n",
       "      <td>2</td>\n",
       "      <td>2</td>\n",
       "      <td>2</td>\n",
       "      <td>2</td>\n",
       "      <td>2</td>\n",
       "      <td>...</td>\n",
       "      <td>2</td>\n",
       "      <td>2</td>\n",
       "      <td>2</td>\n",
       "      <td>2</td>\n",
       "      <td>4</td>\n",
       "      <td>4</td>\n",
       "      <td>2</td>\n",
       "      <td>5</td>\n",
       "      <td>13</td>\n",
       "      <td>2</td>\n",
       "    </tr>\n",
       "    <tr>\n",
       "      <th>top</th>\n",
       "      <td>Male</td>\n",
       "      <td>Very good</td>\n",
       "      <td>Within past year (anytime less than 12 months ago)</td>\n",
       "      <td>Yes</td>\n",
       "      <td>None of them</td>\n",
       "      <td>No</td>\n",
       "      <td>No</td>\n",
       "      <td>No</td>\n",
       "      <td>No</td>\n",
       "      <td>No</td>\n",
       "      <td>...</td>\n",
       "      <td>No</td>\n",
       "      <td>No</td>\n",
       "      <td>No</td>\n",
       "      <td>No</td>\n",
       "      <td>Never smoked</td>\n",
       "      <td>Never used e-cigarettes in my entire life</td>\n",
       "      <td>No</td>\n",
       "      <td>White only, Non-Hispanic</td>\n",
       "      <td>Age 18 to 24</td>\n",
       "      <td>Yes</td>\n",
       "    </tr>\n",
       "    <tr>\n",
       "      <th>freq</th>\n",
       "      <td>3957</td>\n",
       "      <td>2589</td>\n",
       "      <td>5656</td>\n",
       "      <td>6245</td>\n",
       "      <td>4793</td>\n",
       "      <td>7359</td>\n",
       "      <td>7371</td>\n",
       "      <td>7416</td>\n",
       "      <td>6431</td>\n",
       "      <td>7118</td>\n",
       "      <td>...</td>\n",
       "      <td>6786</td>\n",
       "      <td>6756</td>\n",
       "      <td>7394</td>\n",
       "      <td>7125</td>\n",
       "      <td>5140</td>\n",
       "      <td>5100</td>\n",
       "      <td>4944</td>\n",
       "      <td>4153</td>\n",
       "      <td>734</td>\n",
       "      <td>4479</td>\n",
       "    </tr>\n",
       "    <tr>\n",
       "      <th>missing_ratio</th>\n",
       "      <td>0.0</td>\n",
       "      <td>0.0</td>\n",
       "      <td>0.0</td>\n",
       "      <td>0.0</td>\n",
       "      <td>0.0</td>\n",
       "      <td>0.0</td>\n",
       "      <td>0.0</td>\n",
       "      <td>0.0</td>\n",
       "      <td>0.0</td>\n",
       "      <td>0.0</td>\n",
       "      <td>...</td>\n",
       "      <td>0.0</td>\n",
       "      <td>0.0</td>\n",
       "      <td>0.0</td>\n",
       "      <td>0.0</td>\n",
       "      <td>0.0</td>\n",
       "      <td>0.0</td>\n",
       "      <td>0.0</td>\n",
       "      <td>0.0</td>\n",
       "      <td>0.0</td>\n",
       "      <td>0.0</td>\n",
       "    </tr>\n",
       "    <tr>\n",
       "      <th>value_ratios</th>\n",
       "      <td>{'Male': 51.68, 'Female': 48.32}</td>\n",
       "      <td>{'Very good': 33.81, 'Good': 30.43, 'Excellent': 19.28, 'Fair': 12.81, 'Poor': 3.67}</td>\n",
       "      <td>{'Within past year (anytime less than 12 months ago)': 73.87, 'Within past 2 years (1 year but less than 2 years ago)': 13.13, 'Within past 5 years (2 years but less than 5 years ago)': 8.21, '5 or more years ago': 4.79}</td>\n",
       "      <td>{'Yes': 81.56, 'No': 18.44}</td>\n",
       "      <td>{'None of them': 62.6, '1 to 5': 27.45, '6 or more, but not all': 7.09, 'All': 2.86}</td>\n",
       "      <td>{'No': 96.11, 'Yes': 3.89}</td>\n",
       "      <td>{'No': 96.26, 'Yes': 3.74}</td>\n",
       "      <td>{'No': 96.85, 'Yes': 3.15}</td>\n",
       "      <td>{'No': 83.99, 'Yes': 16.01}</td>\n",
       "      <td>{'No': 92.96, 'Yes': 7.04}</td>\n",
       "      <td>...</td>\n",
       "      <td>{'No': 88.62, 'Yes': 11.38}</td>\n",
       "      <td>{'No': 88.23, 'Yes': 11.77}</td>\n",
       "      <td>{'No': 96.57, 'Yes': 3.43}</td>\n",
       "      <td>{'No': 93.05, 'Yes': 6.95}</td>\n",
       "      <td>{'Never smoked': 67.13, 'Former smoker': 23.64, 'Current smoker - now smokes every day': 5.58, 'Current smoker - now smokes some days': 3.66}</td>\n",
       "      <td>{'Never used e-cigarettes in my entire life': 66.61, 'Not at all (right now)': 26.54, 'Use them some days': 4.35, 'Use them every day': 2.51}</td>\n",
       "      <td>{'No': 64.57, 'Yes': 35.43}</td>\n",
       "      <td>{'White only, Non-Hispanic': 54.24, 'Hispanic': 26.72, 'Other race only, Non-Hispanic': 10.72, 'Black only, Non-Hispanic': 5.96, 'Multiracial, Non-Hispanic': 2.36}</td>\n",
       "      <td>{'Age 18 to 24': 9.59, 'Age 60 to 64': 8.54, 'Age 25 to 29': 8.52, 'Age 30 to 34': 8.27, 'Age 55 to 59': 8.15, 'Age 35 to 39': 8.1, 'Age 65 to 69': 8.01, 'Age 50 to 54': 7.86, 'Age 40 to 44': 7.84, 'Age 70 to 74': 7.77, 'Age 45 to 49': 6.44, 'Age 75 to 79': 5.71, 'Age 80 or older': 5.22}</td>\n",
       "      <td>{'Yes': 58.5, 'No': 41.5}</td>\n",
       "    </tr>\n",
       "  </tbody>\n",
       "</table>\n",
       "<p>6 rows × 27 columns</p>\n",
       "</div>"
      ],
      "text/plain": [
       "                                            Sex  \\\n",
       "count                                      7657   \n",
       "unique                                        2   \n",
       "top                                        Male   \n",
       "freq                                       3957   \n",
       "missing_ratio                               0.0   \n",
       "value_ratios   {'Male': 51.68, 'Female': 48.32}   \n",
       "\n",
       "                                                                                      GeneralHealth  \\\n",
       "count                                                                                          7657   \n",
       "unique                                                                                            5   \n",
       "top                                                                                       Very good   \n",
       "freq                                                                                           2589   \n",
       "missing_ratio                                                                                   0.0   \n",
       "value_ratios   {'Very good': 33.81, 'Good': 30.43, 'Excellent': 19.28, 'Fair': 12.81, 'Poor': 3.67}   \n",
       "\n",
       "                                                                                                                                                                                                                            LastCheckupTime  \\\n",
       "count                                                                                                                                                                                                                                  7657   \n",
       "unique                                                                                                                                                                                                                                    4   \n",
       "top                                                                                                                                                                                      Within past year (anytime less than 12 months ago)   \n",
       "freq                                                                                                                                                                                                                                   5656   \n",
       "missing_ratio                                                                                                                                                                                                                           0.0   \n",
       "value_ratios   {'Within past year (anytime less than 12 months ago)': 73.87, 'Within past 2 years (1 year but less than 2 years ago)': 13.13, 'Within past 5 years (2 years but less than 5 years ago)': 8.21, '5 or more years ago': 4.79}   \n",
       "\n",
       "                        PhysicalActivities  \\\n",
       "count                                 7657   \n",
       "unique                                   2   \n",
       "top                                    Yes   \n",
       "freq                                  6245   \n",
       "missing_ratio                          0.0   \n",
       "value_ratios   {'Yes': 81.56, 'No': 18.44}   \n",
       "\n",
       "                                                                                       RemovedTeeth  \\\n",
       "count                                                                                          7657   \n",
       "unique                                                                                            4   \n",
       "top                                                                                    None of them   \n",
       "freq                                                                                           4793   \n",
       "missing_ratio                                                                                   0.0   \n",
       "value_ratios   {'None of them': 62.6, '1 to 5': 27.45, '6 or more, but not all': 7.09, 'All': 2.86}   \n",
       "\n",
       "                           HadHeartAttack                   HadAngina  \\\n",
       "count                                7657                        7657   \n",
       "unique                                  2                           2   \n",
       "top                                    No                          No   \n",
       "freq                                 7359                        7371   \n",
       "missing_ratio                         0.0                         0.0   \n",
       "value_ratios   {'No': 96.11, 'Yes': 3.89}  {'No': 96.26, 'Yes': 3.74}   \n",
       "\n",
       "                                HadStroke                    HadAsthma  \\\n",
       "count                                7657                         7657   \n",
       "unique                                  2                            2   \n",
       "top                                    No                           No   \n",
       "freq                                 7416                         6431   \n",
       "missing_ratio                         0.0                          0.0   \n",
       "value_ratios   {'No': 96.85, 'Yes': 3.15}  {'No': 83.99, 'Yes': 16.01}   \n",
       "\n",
       "                            HadSkinCancer  ...      DifficultyConcentrating  \\\n",
       "count                                7657  ...                         7657   \n",
       "unique                                  2  ...                            2   \n",
       "top                                    No  ...                           No   \n",
       "freq                                 7118  ...                         6786   \n",
       "missing_ratio                         0.0  ...                          0.0   \n",
       "value_ratios   {'No': 92.96, 'Yes': 7.04}  ...  {'No': 88.62, 'Yes': 11.38}   \n",
       "\n",
       "                         DifficultyWalking   DifficultyDressingBathing  \\\n",
       "count                                 7657                        7657   \n",
       "unique                                   2                           2   \n",
       "top                                     No                          No   \n",
       "freq                                  6756                        7394   \n",
       "missing_ratio                          0.0                         0.0   \n",
       "value_ratios   {'No': 88.23, 'Yes': 11.77}  {'No': 96.57, 'Yes': 3.43}   \n",
       "\n",
       "                        DifficultyErrands  \\\n",
       "count                                7657   \n",
       "unique                                  2   \n",
       "top                                    No   \n",
       "freq                                 7125   \n",
       "missing_ratio                         0.0   \n",
       "value_ratios   {'No': 93.05, 'Yes': 6.95}   \n",
       "\n",
       "                                                                                                                                                SmokerStatus  \\\n",
       "count                                                                                                                                                   7657   \n",
       "unique                                                                                                                                                     4   \n",
       "top                                                                                                                                             Never smoked   \n",
       "freq                                                                                                                                                    5140   \n",
       "missing_ratio                                                                                                                                            0.0   \n",
       "value_ratios   {'Never smoked': 67.13, 'Former smoker': 23.64, 'Current smoker - now smokes every day': 5.58, 'Current smoker - now smokes some days': 3.66}   \n",
       "\n",
       "                                                                                                                                             ECigaretteUsage  \\\n",
       "count                                                                                                                                                   7657   \n",
       "unique                                                                                                                                                     4   \n",
       "top                                                                                                                Never used e-cigarettes in my entire life   \n",
       "freq                                                                                                                                                    5100   \n",
       "missing_ratio                                                                                                                                            0.0   \n",
       "value_ratios   {'Never used e-cigarettes in my entire life': 66.61, 'Not at all (right now)': 26.54, 'Use them some days': 4.35, 'Use them every day': 2.51}   \n",
       "\n",
       "                                 ChestScan  \\\n",
       "count                                 7657   \n",
       "unique                                   2   \n",
       "top                                     No   \n",
       "freq                                  4944   \n",
       "missing_ratio                          0.0   \n",
       "value_ratios   {'No': 64.57, 'Yes': 35.43}   \n",
       "\n",
       "                                                                                                                                                             RaceEthnicityCategory  \\\n",
       "count                                                                                                                                                                         7657   \n",
       "unique                                                                                                                                                                           5   \n",
       "top                                                                                                                                                       White only, Non-Hispanic   \n",
       "freq                                                                                                                                                                          4153   \n",
       "missing_ratio                                                                                                                                                                  0.0   \n",
       "value_ratios   {'White only, Non-Hispanic': 54.24, 'Hispanic': 26.72, 'Other race only, Non-Hispanic': 10.72, 'Black only, Non-Hispanic': 5.96, 'Multiracial, Non-Hispanic': 2.36}   \n",
       "\n",
       "                                                                                                                                                                                                                                                                                                    AgeCategory  \\\n",
       "count                                                                                                                                                                                                                                                                                                      7657   \n",
       "unique                                                                                                                                                                                                                                                                                                       13   \n",
       "top                                                                                                                                                                                                                                                                                                Age 18 to 24   \n",
       "freq                                                                                                                                                                                                                                                                                                        734   \n",
       "missing_ratio                                                                                                                                                                                                                                                                                               0.0   \n",
       "value_ratios   {'Age 18 to 24': 9.59, 'Age 60 to 64': 8.54, 'Age 25 to 29': 8.52, 'Age 30 to 34': 8.27, 'Age 55 to 59': 8.15, 'Age 35 to 39': 8.1, 'Age 65 to 69': 8.01, 'Age 50 to 54': 7.86, 'Age 40 to 44': 7.84, 'Age 70 to 74': 7.77, 'Age 45 to 49': 6.44, 'Age 75 to 79': 5.71, 'Age 80 or older': 5.22}   \n",
       "\n",
       "                         AlcoholDrinkers  \n",
       "count                               7657  \n",
       "unique                                 2  \n",
       "top                                  Yes  \n",
       "freq                                4479  \n",
       "missing_ratio                        0.0  \n",
       "value_ratios   {'Yes': 58.5, 'No': 41.5}  \n",
       "\n",
       "[6 rows x 27 columns]"
      ]
     },
     "execution_count": 49,
     "metadata": {},
     "output_type": "execute_result"
    }
   ],
   "source": [
    "# Drop  rows with missing values\n",
    "cleaned_data.dropna(inplace = True)\n",
    "# cleaned_data.shape\n",
    "cols = cleaned_data.select_dtypes(include = ['object'])\n",
    "cleaned_data_info = describe_catagorical(cols)\n",
    "cleaned_data_info"
   ]
  },
  {
   "cell_type": "markdown",
   "id": "f6ef6a6e",
   "metadata": {},
   "source": [
    "**3. Handle outliers**"
   ]
  },
  {
   "cell_type": "markdown",
   "id": "798ea24e",
   "metadata": {},
   "source": [
    "Outliers detection\n",
    "- First, we will see if there are any outliers in numeric columns."
   ]
  },
  {
   "cell_type": "code",
   "execution_count": 51,
   "id": "540f8f49",
   "metadata": {},
   "outputs": [
    {
     "data": {
      "image/png": "[encoded data removed]",
      "text/plain": [
       "<Figure size 1400x600 with 6 Axes>"
      ]
     },
     "metadata": {},
     "output_type": "display_data"
    }
   ],
   "source": [
    "fig, axes = plt.subplots(2, 3, figsize=(14, 6))\n",
    "axes = axes.flatten()\n",
    "plt.subplots_adjust(hspace=0.3)\n",
    "\n",
    "non_nan_num_cols = cleaned_data[num_col_df.columns]\n",
    "for i in range(len(axes)):\n",
    "    axes[i].boxplot(non_nan_num_cols.iloc[:, i]);\n",
    "    axes[i].set_title(non_nan_num_cols.columns[i])"
   ]
  },
  {
   "cell_type": "markdown",
   "id": "cde8966b",
   "metadata": {},
   "source": [
    "**Observation:**\n",
    "In the distribution of each column, there are some values out of the lower and the upper range, but these values are unique and need to be considered as they can give us new information about which indicators affect heart disease. "
   ]
  }
 ],
 "metadata": {
  "kernelspec": {
   "display_name": "Python 3 (ipykernel)",
   "language": "python",
   "name": "python3"
  },
  "language_info": {
   "codemirror_mode": {
    "name": "ipython",
    "version": 3
   },
   "file_extension": ".py",
   "mimetype": "text/x-python",
   "name": "python",
   "nbconvert_exporter": "python",
   "pygments_lexer": "ipython3",
   "version": "3.10.8"
  }
 },
 "nbformat": 4,
 "nbformat_minor": 5
}
