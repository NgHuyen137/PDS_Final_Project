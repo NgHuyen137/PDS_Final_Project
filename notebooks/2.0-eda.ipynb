{
 "cells": [
  {
   "cell_type": "markdown",
   "id": "a4ea10a3",
   "metadata": {},
   "source": [
    "<div style=\"text-align: center; background-color: #5A96E3; font-family: 'Trebuchet MS', Arial, sans-serif; color: white; padding: 20px; font-size: 40px; font-weight: bold; border-radius: 0 0 0 0; box-shadow: 0px 6px 8px rgba(0, 0, 0, 0.2);\">\n",
    "  Stage 02 - Exploratory Data Analysis\n",
    "</div>"
   ]
  },
  {
   "cell_type": "markdown",
   "id": "2d5b5cdb-7725-4d07-be64-d61c99473824",
   "metadata": {},
   "source": [
    "# **1. Import libraries**"
   ]
  },
  {
   "cell_type": "code",
   "execution_count": null,
   "id": "79a58cc3-94d4-4738-9e9a-9c1e8f1b1418",
   "metadata": {},
   "outputs": [],
   "source": [
    "import pandas as pd\n",
    "import numpy as np\n",
    "\n",
    "import plotly.express as px\n",
    "import plotly.graph_objects as go\n",
    "from plotly.subplots import make_subplots\n",
    "import matplotlib.pyplot as plt\n",
    "import seaborn as sn\n",
    "from sklearn.preprocessing import LabelEncoder"
   ]
  },
  {
   "cell_type": "markdown",
   "id": "257a7930-06e2-429f-9921-734ee3d7fd78",
   "metadata": {},
   "source": [
    "# **2. Read data**"
   ]
  },
  {
   "cell_type": "markdown",
   "id": "714cecdc",
   "metadata": {},
   "source": [
    "- The data has been previously cleaned and saved into the file ../data/cleaned_data.csv.\n",
    "- We read the data and saved it into a variable called `data` as a dataframe."
   ]
  },
  {
   "cell_type": "code",
   "execution_count": null,
   "id": "2b8cbff4-9006-43f0-bb8b-52314a40c78f",
   "metadata": {},
   "outputs": [],
   "source": [
    "data = pd.read_csv('../data/cleaned_data.csv')\n",
    "data"
   ]
  },
  {
   "cell_type": "markdown",
   "id": "6bfc7989",
   "metadata": {},
   "source": [
    "# **Overview**\n",
    "\n",
    "Before conducting the analysis, let's examine the correlations between the variables in the dataset."
   ]
  },
  {
   "cell_type": "markdown",
   "id": "f3b4485c",
   "metadata": {},
   "source": [
    "- **First**, we need to encode the data to compute the correlation matrix.\n"
   ]
  },
  {
   "cell_type": "code",
   "execution_count": null,
   "id": "bac56bf7",
   "metadata": {},
   "outputs": [],
   "source": [
    "df = data.copy()\n",
    "le = LabelEncoder()\n",
    "for column in df.columns:\n",
    "    if df[column].dtype == 'object':\n",
    "        df[column] = le.fit_transform(df[column].astype(str))\n",
    "df.head(5)"
   ]
  },
  {
   "cell_type": "markdown",
   "id": "ac6500ec",
   "metadata": {},
   "source": [
    "- **Secondly**, we calculate the correlation matrix using the `corr()` function and visualize it using a **heatmap** chart."
   ]
  },
  {
   "cell_type": "code",
   "execution_count": null,
   "id": "d7d3537b",
   "metadata": {},
   "outputs": [],
   "source": [
    "# Calculate the correlation matrix\n",
    "correlation_matrix = df.corr()\n",
    "\n",
    "# Draw heatmap\n",
    "plt.figure(figsize=(30, 20))\n",
    "\n",
    "# Create a triangular mask to hide the upper triangle of the heatmap\n",
    "mask = np.triu(np.ones_like(correlation_matrix, dtype=bool))\n",
    "\n",
    "# Plot the correlation matrix as a heatmap\n",
    "sn.heatmap(correlation_matrix, mask=mask, annot=True, cmap='coolwarm')\n",
    "\n",
    "# Add a title to the plot\n",
    "plt.title('Correlation Matrix')\n",
    "\n",
    "# Display the heatmap\n",
    "plt.show()"
   ]
  },
  {
   "cell_type": "markdown",
   "id": "a7e802a0",
   "metadata": {},
   "source": [
    "\n",
    "**Observations:** Looking at the correlation matrix, we can observe the relationships between variables through the **correlation coefficients**. This provides a general overview of the relationships between columns in the data, which can be helpful for analyzing the following questions."
   ]
  },
  {
   "cell_type": "markdown",
   "id": "1608c5bd-068c-4943-9c76-5098e23879d2",
   "metadata": {},
   "source": [
    "# **3. Questions**"
   ]
  },
  {
   "cell_type": "markdown",
   "id": "97395738-07c6-4d61-8eca-025b8b1c2b41",
   "metadata": {},
   "source": [
    "## Question 1: "
   ]
  },
  {
   "cell_type": "markdown",
   "id": "df1b503e-07b2-4cbf-aef4-1a7b419c1500",
   "metadata": {},
   "source": [
    "- **Purpose:**\n",
    "- **How to answer:**"
   ]
  },
  {
   "cell_type": "markdown",
   "id": "b729dfae-5367-4f60-8425-30a713e6dbb8",
   "metadata": {},
   "source": [
    "### Preprocessing"
   ]
  },
  {
   "cell_type": "code",
   "execution_count": null,
   "id": "a8532646-ba20-4cb8-9336-3f11b7447b41",
   "metadata": {},
   "outputs": [],
   "source": []
  },
  {
   "cell_type": "markdown",
   "id": "d59c95bc-d29c-40b4-b906-dac721edc0b9",
   "metadata": {},
   "source": [
    "### Visualization"
   ]
  },
  {
   "cell_type": "code",
   "execution_count": null,
   "id": "68564519",
   "metadata": {},
   "outputs": [],
   "source": []
  },
  {
   "cell_type": "markdown",
   "id": "4e918524-b846-4996-a35b-1f66272c18f6",
   "metadata": {},
   "source": [
    "### Observation"
   ]
  },
  {
   "cell_type": "markdown",
   "id": "f6823459-6f38-4d80-995e-330c54c8d20e",
   "metadata": {},
   "source": []
  },
  {
   "cell_type": "markdown",
   "id": "b36c1264-8e22-42e3-a7ea-df87867929e9",
   "metadata": {},
   "source": [
    "### **Question 2: What is the overall comparison of general health statuses between males and females across different age groups?**"
   ]
  },
  {
   "cell_type": "markdown",
   "id": "6f7e803c-e979-4244-8215-1e34a1b2ce80",
   "metadata": {},
   "source": [
    "- **Purpose:** The purpose of asking the question is to understand the overall comparison of general health statuses between males and females across different age groups. This analysis aims to identify any patterns, trends, or disparities in health between genders and age groups.\n",
    "- **How to answer:** To answer this question, we will extract relevant columns of data such as `Sex`, `GeneralHealth`, and `AgeCategory`. Then, we will group the data by `Sex` and `AgeCategory`, analyze and compare the general health statuses using statistical analysis techniques. The results can be displayed by utilizing appropriate visualizations, and the findings can be explained to draw conclusions and discuss the significance of healthcare policies and interventions."
   ]
  },
  {
   "cell_type": "markdown",
   "id": "ba3f0654-5a5c-4e22-9be8-3af31ce25dab",
   "metadata": {},
   "source": [
    "**1. Preprocessing**\n",
    "- Step 1: Filter the DataFrame to include only the relevant columns for analysis (`Sex`, `GeneralHealth`, and `AgeCategory`)\n",
    "- Step 2: Group the data by `Sex` and `AgeCategory` columns, and calculate the count of each health status using the `groupby()` and `value_counts()` functions."
   ]
  },
  {
   "cell_type": "code",
   "execution_count": null,
   "id": "4a5c5aaa-102c-49a0-8cc4-950668e79abf",
   "metadata": {},
   "outputs": [],
   "source": [
    "#Filter the DataFrame to include only the relevant columns for analysis\n",
    "df_health = data[[\"Sex\", \"GeneralHealth\", \"AgeCategory\"]]\n",
    "# Group the data by \"Sex\" and \"AgeCategory\" columns, and calculate the count of each health status\n",
    "health_counts = df_health.groupby([\"Sex\", \"AgeCategory\"])[\"GeneralHealth\"].value_counts().unstack().reset_index()"
   ]
  },
  {
   "cell_type": "markdown",
   "id": "68a48eac-926c-4ad1-a378-cc33e5b2a2d0",
   "metadata": {},
   "source": [
    "**2. Visualization**"
   ]
  },
  {
   "cell_type": "code",
   "execution_count": null,
   "id": "c1f722bd-3ac2-4e50-89b1-087b222188ba",
   "metadata": {},
   "outputs": [],
   "source": [
    "# Filter the data for males and females\n",
    "male_data = health_counts[health_counts[\"Sex\"] == \"Male\"]\n",
    "female_data = health_counts[health_counts[\"Sex\"] == \"Female\"]\n",
    "\n",
    "# Define the colors for each health status\n",
    "colors = ['rgba(31, 119, 180, 0.7)', 'rgba(255, 127, 14, 0.7)', 'rgba(44, 160, 44, 0.7)',\n",
    "          'rgba(214, 39, 40, 0.7)', 'rgba(148, 103, 189, 0.7)']\n",
    "\n",
    "# Create subplots for males and females with shared y-axis\n",
    "fig = make_subplots(rows=1, cols=2, subplot_titles=(\"Male\", \"Female\"), shared_yaxes=True)\n",
    "\n",
    "# Plot the stacked bar chart for males\n",
    "for i, status in enumerate([\"Excellent\", \"Very good\", \"Good\", \"Fair\", \"Poor\"]):\n",
    "    fig.add_trace(go.Bar(x=male_data[\"AgeCategory\"], y=male_data[status], name=status, marker_color=colors[i]), row=1, col=1)\n",
    "\n",
    "# Plot the stacked bar chart for females\n",
    "for i, status in enumerate([\"Excellent\", \"Very good\", \"Good\", \"Fair\", \"Poor\"]):\n",
    "    fig.add_trace(go.Bar(x=female_data[\"AgeCategory\"], y=female_data[status], name=status, marker_color=colors[i]), row=1, col=2)\n",
    "\n",
    "# Customize the legend\n",
    "fig.update_layout(legend=dict(x=1, y=1, traceorder=\"normal\", bgcolor='rgba(0,0,0,0)'), showlegend=True)\n",
    "\n",
    "# Customize the layout\n",
    "fig.update_layout(title=\"General Health by Gender and Age Group\", xaxis_title=\"Age Category\", yaxis_title=\"Count\")\n",
    "\n",
    "# Show the plot\n",
    "fig.show()"
   ]
  },
  {
   "cell_type": "markdown",
   "id": "181255e6-46e6-4680-9e4f-fe5deffe4978",
   "metadata": {},
   "source": [
    "### Observation"
   ]
  },
  {
   "cell_type": "markdown",
   "id": "1cc2bf66-78df-4f00-a63e-9462cf9686e2",
   "metadata": {},
   "source": [
    "- In general, at every age and gender, the proportion of people with good or above-average health remains high.\n",
    "- Specific analysis:\n",
    "    - For the age group of 18 to 24: it can be said that this is the age group with the best overall health, with the lowest proportion of poor health.\n",
    "    - Health status tends to decline over time. In males, from the age of 50 onwards, there is a significant increase in poor health. For females, from the age of 35 onwards, there is a noticeable decline in health."
   ]
  },
  {
   "cell_type": "markdown",
   "id": "52a83b64-25ce-48b7-a4e2-ae32bbc2cbd1",
   "metadata": {},
   "source": [
    "## Question 3:"
   ]
  },
  {
   "cell_type": "markdown",
   "id": "4bcfdb2c-e6b7-4deb-b534-c78bdb4a2f8b",
   "metadata": {},
   "source": [
    "- **Purpose:**\n",
    "- **How to answer:**"
   ]
  },
  {
   "cell_type": "markdown",
   "id": "c0806329-7277-4272-a7d7-8ce66f84b6da",
   "metadata": {},
   "source": [
    "### Preprocessing"
   ]
  },
  {
   "cell_type": "code",
   "execution_count": null,
   "id": "c07d4b40-06e2-492f-889c-260ef9c6fa1b",
   "metadata": {},
   "outputs": [],
   "source": []
  },
  {
   "cell_type": "markdown",
   "id": "1e1e14ee-2a90-4dee-a4b8-2546e465d8cc",
   "metadata": {},
   "source": [
    "### Visualization"
   ]
  },
  {
   "cell_type": "code",
   "execution_count": null,
   "id": "b4a16d5f-8105-47a0-bbb3-d9b5797b5c00",
   "metadata": {},
   "outputs": [],
   "source": []
  },
  {
   "cell_type": "markdown",
   "id": "13a09d53-f914-415b-8997-9cc49fb8cab1",
   "metadata": {},
   "source": [
    "### Observation"
   ]
  },
  {
   "cell_type": "markdown",
   "id": "e4a35e1a-0baf-4753-b8a2-40fbc3473866",
   "metadata": {},
   "source": []
  }
 ],
 "metadata": {
  "kernelspec": {
   "display_name": "Python 3 (ipykernel)",
   "language": "python",
   "name": "python3"
  },
  "language_info": {
   "codemirror_mode": {
    "name": "ipython",
    "version": 3
   },
   "file_extension": ".py",
   "mimetype": "text/x-python",
   "name": "python",
   "nbconvert_exporter": "python",
   "pygments_lexer": "ipython3",
   "version": "3.10.8"
  }
 },
 "nbformat": 4,
 "nbformat_minor": 5
}
