{
 "cells": [
  {
   "cell_type": "markdown",
   "id": "a4ea10a3",
   "metadata": {},
   "source": [
    "<div style=\"text-align: center; background-color: #5A96E3; font-family: 'Trebuchet MS', Arial, sans-serif; color: white; padding: 20px; font-size: 40px; font-weight: bold; border-radius: 0 0 0 0; box-shadow: 0px 6px 8px rgba(0, 0, 0, 0.2);\">\n",
    "  Stage 02 - Exploratory Data Analysis\n",
    "</div>"
   ]
  },
  {
   "cell_type": "markdown",
   "id": "2d5b5cdb-7725-4d07-be64-d61c99473824",
   "metadata": {},
   "source": [
    "# 1. Import libraries"
   ]
  },
  {
   "cell_type": "code",
   "execution_count": null,
   "id": "79a58cc3-94d4-4738-9e9a-9c1e8f1b1418",
   "metadata": {},
   "outputs": [],
   "source": [
    "import pandas as pd\n",
    "import numpy as np\n",
    "\n",
    "import plotly.express as px\n",
    "import matplotlib.pyplot as plt\n",
    "import seaborn as sn"
   ]
  },
  {
   "cell_type": "markdown",
   "id": "257a7930-06e2-429f-9921-734ee3d7fd78",
   "metadata": {},
   "source": [
    "# 2. Read data"
   ]
  },
  {
   "cell_type": "code",
   "execution_count": null,
   "id": "2b8cbff4-9006-43f0-bb8b-52314a40c78f",
   "metadata": {},
   "outputs": [],
   "source": [
    "cleaned_data = pd.read_csv('../data/cleaned_data.csv')\n",
    "cleaned_data"
   ]
  },
  {
   "cell_type": "markdown",
   "id": "1608c5bd-068c-4943-9c76-5098e23879d2",
   "metadata": {},
   "source": [
    "# 3. Questions"
   ]
  },
  {
   "cell_type": "markdown",
   "id": "97395738-07c6-4d61-8eca-025b8b1c2b41",
   "metadata": {},
   "source": [
    "## Question 1: Which indicators can affect heart attack most?"
   ]
  },
  {
   "cell_type": "markdown",
   "id": "df1b503e-07b2-4cbf-aef4-1a7b419c1500",
   "metadata": {},
   "source": [
    "- **Purpose:** Understanding the factors that can influence the occurrence of a heart attack empowers us to take preventative measures and adjust our daily routines to mitigate these risk factors. Furthermore, it aids medical professionals in identifying the causes and treatment options for heart attack. \n",
    "- **How to answer:**\n",
    "    - Choose appropriate columns, we will choose all columns having only `Yes, No` values and three columns having multiple values `HadDiabetes, SmokerStatus, ECigaretteUsage`.\n",
    "    - Preprocess columns having multiple values so that these columns only have `Yes, No` values.\n",
    "    - Calculate the probability of a heart attack based on the presence of a specific indicator."
   ]
  },
  {
   "cell_type": "markdown",
   "id": "b729dfae-5367-4f60-8425-30a713e6dbb8",
   "metadata": {},
   "source": [
    "### Preprocessing"
   ]
  },
  {
   "cell_type": "markdown",
   "id": "f7a1287d-4be4-4897-bfa3-6addfabe0d5e",
   "metadata": {},
   "source": [
    "**Preprocess columns having multiple values**"
   ]
  },
  {
   "cell_type": "markdown",
   "id": "38535031-0ae8-4463-9627-3fc0a69330af",
   "metadata": {},
   "source": [
    "First, we will check the unique values of these columns."
   ]
  },
  {
   "cell_type": "code",
   "execution_count": null,
   "id": "cf59c2fc-8c6d-49a5-914c-b0130dc4eb67",
   "metadata": {},
   "outputs": [],
   "source": [
    "heart_attack_df = cleaned_data[cleaned_data['HadHeartAttack'] == 'Yes']\n",
    "\n",
    "print(heart_attack_df['HadDiabetes'].value_counts())\n",
    "print('================================================')\n",
    "print(heart_attack_df['SmokerStatus'].value_counts())\n",
    "print('================================================')\n",
    "print(heart_attack_df['ECigaretteUsage'].value_counts())"
   ]
  },
  {
   "cell_type": "markdown",
   "id": "a0300b3c-1d36-4ff9-9927-eda9ebab275a",
   "metadata": {},
   "source": [
    "Then, we convert these unique values to only `Yes No` values."
   ]
  },
  {
   "cell_type": "code",
   "execution_count": null,
   "id": "dc27e383-aa52-449d-b44a-82497d500723",
   "metadata": {},
   "outputs": [],
   "source": [
    "cleaned_data_copy = cleaned_data.copy()\n",
    "\n",
    "cleaned_data_copy['HadDiabetes'] = cleaned_data_copy['HadDiabetes'].replace(['Yes, but only during pregnancy (female)', \n",
    "                                                                             'No, pre-diabetes or borderline diabetes'], ['Yes', 'Yes'])\n",
    "\n",
    "cleaned_data_copy['SmokerStatus'] = cleaned_data_copy['SmokerStatus'].replace(['Never smoked', 'Former smoker', \n",
    "                                                                               'Current smoker - now smokes every day', \n",
    "                                                                               'Current smoker - now smokes some days'], \n",
    "                                                                              ['No', 'Yes', 'Yes', 'Yes'])\n",
    "\n",
    "cleaned_data_copy['ECigaretteUsage'] = cleaned_data_copy['ECigaretteUsage'].replace(['Never used e-cigarettes in my entire life', \n",
    "                                                                                     'Not at all (right now)', 'Use them some days', \n",
    "                                                                                     'Use them every day'], ['No', 'No', 'Yes', 'Yes'])\n",
    "cleaned_data_copy"
   ]
  },
  {
   "cell_type": "markdown",
   "id": "dffc1ac4-b694-4c66-b70e-8e40cbcfebd5",
   "metadata": {},
   "source": [
    "**Select rows having `HadHeartAttack = Yes`**"
   ]
  },
  {
   "cell_type": "code",
   "execution_count": null,
   "id": "8c2d8e07-27fd-4877-a9a8-08e4804cba26",
   "metadata": {},
   "outputs": [],
   "source": [
    "heart_attack_df = cleaned_data_copy[cleaned_data_copy['HadHeartAttack'] == 'Yes']"
   ]
  },
  {
   "cell_type": "markdown",
   "id": "f68752db-212a-4d31-a1a0-bd4e32b6eedb",
   "metadata": {},
   "source": [
    "**Calculate the probability of a person experiencing a heart attack when exhibiting any of the indicators we believe may be associated with such an event.**"
   ]
  },
  {
   "cell_type": "code",
   "execution_count": null,
   "id": "a8532646-ba20-4cb8-9336-3f11b7447b41",
   "metadata": {},
   "outputs": [],
   "source": [
    "# Select columns having only yes and no values\n",
    "yes_no_cols = heart_attack_df.columns[(heart_attack_df.isin(['Yes', 'No']).all()) & (heart_attack_df.columns != 'HadHeartAttack')]\n",
    "\n",
    "# Seperate yes_no_cols into two different lists\n",
    "# no_cols: a list containing all columns' names that we will use only No value\n",
    "# yes_cols: a list containing all columns' names that we will use only Yes value\n",
    "no_cols = ['PhysicalActivities', 'ChestScan']\n",
    "yes_cols = yes_no_cols[~yes_no_cols.isin(no_cols)]\n",
    "\n",
    "def count_yes(col):\n",
    "    counts = col.value_counts()\n",
    "    return counts['Yes']\n",
    "\n",
    "def count_no(col):\n",
    "    counts = col.value_counts()\n",
    "    return counts['No']\n",
    "\n",
    "# Calculate conditional probability\n",
    " # The number of people has the particular indicator\n",
    "num_yes = cleaned_data_copy[yes_cols].agg(count_yes)\n",
    "num_no = cleaned_data_copy[no_cols].agg(count_no)\n",
    "num_has_indicator = pd.concat([num_yes, num_no])\n",
    "\n",
    "# The number of people has both the particular indicator and heart attack\n",
    "num_yes = heart_attack_df[yes_cols].agg(count_yes)\n",
    "num_no = heart_attack_df[no_cols].agg(count_no)\n",
    "num_has_indicator_heart_attack = pd.concat([num_yes, num_no])\n",
    "\n",
    "prop_heart_attack_under_indicator = (num_has_indicator_heart_attack * 100 / num_has_indicator).round(2)\n",
    "prop_heart_attack_under_indicator = prop_heart_attack_under_indicator.sort_values()"
   ]
  },
  {
   "cell_type": "markdown",
   "id": "d59c95bc-d29c-40b4-b906-dac721edc0b9",
   "metadata": {},
   "source": [
    "### Visualization"
   ]
  },
  {
   "cell_type": "code",
   "execution_count": null,
   "id": "e011d449-5161-4158-b293-78b0e62a351f",
   "metadata": {},
   "outputs": [],
   "source": [
    "fig = px.bar(prop_heart_attack_under_indicator, x = prop_heart_attack_under_indicator.values, y = prop_heart_attack_under_indicator.index, \n",
    "             title = 'The likelihood of a person experiencing a heart attack based on a specific indicator', labels = {'x': 'Probability(%)', 'index': 'Indicators'}, \n",
    "             range_x = (0, 100))\n",
    "fig.update_layout(height=800, width=800)\n",
    "fig.show()"
   ]
  },
  {
   "cell_type": "markdown",
   "id": "4e918524-b846-4996-a35b-1f66272c18f6",
   "metadata": {},
   "source": [
    "### Observation"
   ]
  },
  {
   "cell_type": "markdown",
   "id": "2c9a4cec-8d13-4c0a-a956-4909ba790cd1",
   "metadata": {},
   "source": [
    "- Observing the data, it's evident that the columns for `HadAngina and HadStroke` show the highest probabilities **(42.66% and 24.9% respectively)**. This implies that if an individual has angina or has experienced a stroke, there's a higher likelihood of them having a heart attack.\n",
    "- The next highest probabilities are associated with `HadKidneyDisease and HadCOPD` at **16.18% and 13.56%** respectively.\n",
    "- Following closely are `HadDiabetes and HadArthritis` with probabilities of **9.64% and 8.32%** respectively.\n",
    "- Conversely, indicators such as `SmokerStatus, HadAsthma, AlcoholDrinkers and ECigaretteUsage` appear to have a lower impact on the likelihood of a heart attack."
   ]
  },
  {
   "cell_type": "markdown",
   "id": "b36c1264-8e22-42e3-a7ea-df87867929e9",
   "metadata": {},
   "source": [
    "## Question 2:"
   ]
  },
  {
   "cell_type": "markdown",
   "id": "6f7e803c-e979-4244-8215-1e34a1b2ce80",
   "metadata": {},
   "source": [
    "- **Purpose:**\n",
    "- **How to answer:**"
   ]
  },
  {
   "cell_type": "markdown",
   "id": "ba3f0654-5a5c-4e22-9be8-3af31ce25dab",
   "metadata": {},
   "source": [
    "### Preprocessing"
   ]
  },
  {
   "cell_type": "code",
   "execution_count": null,
   "id": "4a5c5aaa-102c-49a0-8cc4-950668e79abf",
   "metadata": {},
   "outputs": [],
   "source": []
  },
  {
   "cell_type": "markdown",
   "id": "68a48eac-926c-4ad1-a378-cc33e5b2a2d0",
   "metadata": {},
   "source": [
    "### Visualization"
   ]
  },
  {
   "cell_type": "code",
   "execution_count": null,
   "id": "c1f722bd-3ac2-4e50-89b1-087b222188ba",
   "metadata": {},
   "outputs": [],
   "source": []
  },
  {
   "cell_type": "markdown",
   "id": "181255e6-46e6-4680-9e4f-fe5deffe4978",
   "metadata": {},
   "source": [
    "### Observation"
   ]
  },
  {
   "cell_type": "markdown",
   "id": "1cc2bf66-78df-4f00-a63e-9462cf9686e2",
   "metadata": {},
   "source": []
  },
  {
   "cell_type": "markdown",
   "id": "52a83b64-25ce-48b7-a4e2-ae32bbc2cbd1",
   "metadata": {},
   "source": [
    "## Question 3:"
   ]
  },
  {
   "cell_type": "markdown",
   "id": "4bcfdb2c-e6b7-4deb-b534-c78bdb4a2f8b",
   "metadata": {},
   "source": [
    "- **Purpose:**\n",
    "- **How to answer:**"
   ]
  },
  {
   "cell_type": "markdown",
   "id": "c0806329-7277-4272-a7d7-8ce66f84b6da",
   "metadata": {},
   "source": [
    "### Preprocessing"
   ]
  },
  {
   "cell_type": "code",
   "execution_count": null,
   "id": "c07d4b40-06e2-492f-889c-260ef9c6fa1b",
   "metadata": {},
   "outputs": [],
   "source": []
  },
  {
   "cell_type": "markdown",
   "id": "1e1e14ee-2a90-4dee-a4b8-2546e465d8cc",
   "metadata": {},
   "source": [
    "### Visualization"
   ]
  },
  {
   "cell_type": "code",
   "execution_count": null,
   "id": "b4a16d5f-8105-47a0-bbb3-d9b5797b5c00",
   "metadata": {},
   "outputs": [],
   "source": []
  },
  {
   "cell_type": "markdown",
   "id": "13a09d53-f914-415b-8997-9cc49fb8cab1",
   "metadata": {},
   "source": [
    "### Observation"
   ]
  },
  {
   "cell_type": "markdown",
   "id": "e4a35e1a-0baf-4753-b8a2-40fbc3473866",
   "metadata": {},
   "source": []
  }
 ],
 "metadata": {
  "kernelspec": {
   "display_name": "Python 3 (ipykernel)",
   "language": "python",
   "name": "python3"
  },
  "language_info": {
   "codemirror_mode": {
    "name": "ipython",
    "version": 3
   },
   "file_extension": ".py",
   "mimetype": "text/x-python",
   "name": "python",
   "nbconvert_exporter": "python",
   "pygments_lexer": "ipython3",
   "version": "3.10.8"
  }
 },
 "nbformat": 4,
 "nbformat_minor": 5
}
