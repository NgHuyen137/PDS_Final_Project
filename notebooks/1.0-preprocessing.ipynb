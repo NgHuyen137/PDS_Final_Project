{
 "cells": [
  {
   "cell_type": "markdown",
   "id": "d88db445-0269-4e34-9bd3-d8a2e7ebd7f9",
   "metadata": {},
   "source": [
    "# 1. Import libraries"
   ]
  },
  {
   "cell_type": "code",
   "execution_count": null,
   "id": "893810ce-e160-4f2b-8195-4c5435626ee1",
   "metadata": {},
   "outputs": [],
   "source": [
    "import pandas as pd\n",
    "import numpy as np\n",
    "\n",
    "import matplotlib.pyplot as plt\n",
    "import seaborn as sn\n",
    "import plotly.express as px\n",
    "from plotly.subplots import make_subplots\n",
    "import plotly.graph_objects as go"
   ]
  },
  {
   "cell_type": "markdown",
   "id": "f42b0914-7a11-4a7d-8938-c7acdb42edd2",
   "metadata": {},
   "source": [
    "# 2. Explore data"
   ]
  },
  {
   "cell_type": "markdown",
   "id": "91e26287-9ea2-4ac4-8721-54b4a82360e7",
   "metadata": {},
   "source": [
    "## Read data"
   ]
  },
  {
   "cell_type": "code",
   "execution_count": null,
   "id": "9ab4e307-04ba-4f34-a0c8-c02d89449fbf",
   "metadata": {},
   "outputs": [],
   "source": [
    "raw_data = pd.read_csv('../data/data.csv')\n",
    "raw_data"
   ]
  },
  {
   "cell_type": "markdown",
   "id": "424b492c-92c8-4132-9480-03e566b448e7",
   "metadata": {},
   "source": [
    "## How many rows and how many columns does the raw data have?"
   ]
  },
  {
   "cell_type": "code",
   "execution_count": null,
   "id": "057f7a44-aa0f-46b4-81db-2ba3315faefd",
   "metadata": {},
   "outputs": [],
   "source": [
    "# Todo"
   ]
  },
  {
   "cell_type": "markdown",
   "id": "11071b90-2dce-4506-9851-353c4f4422cf",
   "metadata": {},
   "source": [
    "## What are the meanings of each row?"
   ]
  },
  {
   "cell_type": "markdown",
   "id": "b03b6a11-fc69-4fd1-a269-b99efe848bd2",
   "metadata": {},
   "source": []
  },
  {
   "cell_type": "markdown",
   "id": "fd4d93da-ad8d-43a4-96e1-b41221f44824",
   "metadata": {},
   "source": [
    "## Does the raw data have duplicate rows? (if it has, handle it)"
   ]
  },
  {
   "cell_type": "code",
   "execution_count": null,
   "id": "81ec2340-de67-487a-b17a-7f1576084fc2",
   "metadata": {},
   "outputs": [],
   "source": [
    "# Todo"
   ]
  },
  {
   "cell_type": "markdown",
   "id": "5eb3876e-5cc1-47f6-876c-ee7fcb3824e3",
   "metadata": {},
   "source": [
    "## What does each column mean?"
   ]
  },
  {
   "cell_type": "code",
   "execution_count": null,
   "id": "62ccf6ad-c1bf-4926-8a9d-070603200886",
   "metadata": {},
   "outputs": [],
   "source": [
    "raw_data.columns"
   ]
  },
  {
   "cell_type": "markdown",
   "id": "96e327ce-a8cb-40c8-94df-3e57cc5269a9",
   "metadata": {},
   "source": [
    "Describe meaning of each column"
   ]
  },
  {
   "cell_type": "code",
   "execution_count": null,
   "id": "e081b361-1803-47ae-9c30-d402e769f417",
   "metadata": {},
   "outputs": [],
   "source": [
    "col_meaning_df = pd.read_csv('../data/schema.csv')\n",
    "pd.set_option(\"display.max_colwidth\", None)\n",
    "\n",
    "col_meaning_df"
   ]
  },
  {
   "cell_type": "markdown",
   "id": "05f5df0f-5f83-4da0-ad39-9b676f68f1cf",
   "metadata": {},
   "source": [
    "## What data type does each column currently have? Are there any columns whose data types are not suitable for further processing?"
   ]
  },
  {
   "cell_type": "markdown",
   "id": "f452acd8-7a09-46e5-bc2d-ad40452a65f7",
   "metadata": {},
   "source": [
    "To answer this question, first we will use **info() function** to see the general information of each column."
   ]
  },
  {
   "cell_type": "code",
   "execution_count": null,
   "id": "9a32eed3-a28e-4224-ace1-545f7188f5b8",
   "metadata": {},
   "outputs": [],
   "source": [
    "raw_data.info()"
   ]
  },
  {
   "cell_type": "markdown",
   "id": "ae257e6a-06f7-41c5-bbd3-727c03215ed9",
   "metadata": {},
   "source": [
    "Upon examining the **Column** and **Dtype**, we can see that all columns have appropriate data types, so we don't need to convert them."
   ]
  },
  {
   "cell_type": "markdown",
   "id": "5f133912-6f47-48ab-98a1-d74ed070a475",
   "metadata": {},
   "source": [
    "## For each column with numeric data type, how are the values distributed?"
   ]
  },
  {
   "cell_type": "markdown",
   "id": "03396e66-9371-43eb-8a63-b429f3fb2896",
   "metadata": {},
   "source": [
    "With each numerical column, how are values distributed?\n",
    "- What is the percentage of missing values?\n",
    "- If there are missing values, handle them.\n",
    "- Min? max? Are they abnormal?\n",
    "- Missing value treatment."
   ]
  },
  {
   "cell_type": "markdown",
   "id": "0b49d41a-1c5a-41f1-8988-38248950bf1f",
   "metadata": {},
   "source": [
    "### Select numeric columns"
   ]
  },
  {
   "cell_type": "code",
   "execution_count": null,
   "id": "f5e415f3-de42-4253-a52f-85d3bae9288a",
   "metadata": {},
   "outputs": [],
   "source": [
    "num_col_df = raw_data.select_dtypes(include='float64')\n",
    "num_col_df"
   ]
  },
  {
   "cell_type": "markdown",
   "id": "ded49ba4-8fa6-460b-9046-aa5e421be225",
   "metadata": {},
   "source": [
    "### Explore the distribution using descriptive statistics"
   ]
  },
  {
   "cell_type": "code",
   "execution_count": null,
   "id": "a0191612-f0e8-4b86-a036-e0f142a556e0",
   "metadata": {},
   "outputs": [],
   "source": [
    "def missing_ratio(col):\n",
    "    return (col.isna().sum() * 100 / len(col)).round(1)\n",
    "\n",
    "def lower_quartile(col):\n",
    "    return col.quantile(0.25).round(1)\n",
    "\n",
    "def upper_quartile(col):\n",
    "    return col.quantile(0.75).round(1)\n",
    "\n",
    "num_col_info_df = num_col_df.agg([missing_ratio, 'min', lower_quartile, 'median', upper_quartile, 'max'])\n",
    "num_col_info_df"
   ]
  },
  {
   "cell_type": "markdown",
   "id": "2e18ba15-ca56-4a35-961d-9b3fa85e600e",
   "metadata": {},
   "source": [
    "**Observation:**\n",
    "- The percentage of missing values of each numeric column is low so we won't drop any of these columns. Instead, we try to handle these missing values.\n",
    "- The minimum and maximum values of each numeric column are within normal ranges:\n",
    "    - There are no negative numbers.\n",
    "    - PhysicalHealthDays and MentalHealthDays both have values equal or less than 30.\n",
    "    - SleepHours have values equal or less than 24.\n",
    "    - Three remaining columns also have reasonable values.\n",
    "- Based on upper-quartile values and max values, we can see PhysicalHealthDays, MentalHealthDays, SleepHours, WeightInKilograms and BMI have right-skewed distributions as upper-quartile values are far from max values.\n",
    "- Because of that, we will fill missing values in these columns with the median (an indicator that is insensitive with outliers)."
   ]
  },
  {
   "cell_type": "markdown",
   "id": "982a6261-f615-4bb5-a0a0-48f9f6b57d64",
   "metadata": {},
   "source": [
    "### Visualize missing ratio"
   ]
  },
  {
   "cell_type": "code",
   "execution_count": null,
   "id": "9b5b10d4-d35b-4841-8f8b-192e85537128",
   "metadata": {},
   "outputs": [],
   "source": [
    "data = num_col_info_df.loc['missing_ratio']\n",
    "fig = px.bar(x=data.index, y=data.values, width=1000, height=500, labels={'x': 'Numeric column', 'y': 'Percentage(%)'}, \n",
    "             title='Missing ratio of numeric columns')\n",
    "fig.show()"
   ]
  },
  {
   "cell_type": "markdown",
   "id": "77c65963-3e42-4eee-8f59-d8cf5c1037b9",
   "metadata": {},
   "source": [
    "### Handle missing values"
   ]
  },
  {
   "cell_type": "code",
   "execution_count": null,
   "id": "67bf4409-4558-4089-b25e-19973ad599c7",
   "metadata": {},
   "outputs": [],
   "source": [
    "raw_data[num_col_df.columns] = raw_data[num_col_df.columns].fillna(num_col_df.median())"
   ]
  },
  {
   "cell_type": "markdown",
   "id": "e55621cd-97e4-415b-ac0f-1957e44e77d3",
   "metadata": {},
   "source": [
    "After handling missing values, we will check missing-ratio again to ensure that we have handle missing values successfully."
   ]
  },
  {
   "cell_type": "code",
   "execution_count": null,
   "id": "1c1107e7-fc57-4e5f-a046-15f9a79bee10",
   "metadata": {},
   "outputs": [],
   "source": [
    "non_nan_num_cols = raw_data[num_col_df.columns] \n",
    "non_nan_num_col_info_df = non_nan_num_cols.agg([missing_ratio, 'min', lower_quartile, 'median', upper_quartile, 'max'])\n",
    "non_nan_num_col_info_df"
   ]
  },
  {
   "cell_type": "markdown",
   "id": "a9f22569-8836-441c-a1b4-6f6f6a81e06c",
   "metadata": {},
   "source": [
    "Now there are no missing values. "
   ]
  },
  {
   "cell_type": "markdown",
   "id": "5b36f1d0-5c88-45cb-bf90-ef7e2550fdbd",
   "metadata": {},
   "source": [
    "### Visualize the distribution "
   ]
  },
  {
   "cell_type": "markdown",
   "id": "c6867ae7-584f-4be2-91fa-9daecbe2da37",
   "metadata": {},
   "source": [
    "We will use **histogram** to visualize the distributions of numeric columns and provide insights we can gain from them."
   ]
  },
  {
   "cell_type": "code",
   "execution_count": null,
   "id": "a930a6db-0f59-41c4-bce0-c9216bb19250",
   "metadata": {},
   "outputs": [],
   "source": [
    "fig, axes = plt.subplots(2, 3, figsize=(14, 6))\n",
    "axes = axes.flatten()\n",
    "plt.subplots_adjust(hspace=0.4)\n",
    "\n",
    "bin_nums = [10, 10, 23, 20, 20, 20]\n",
    "for i in range(len(axes)):\n",
    "    axes[i].hist(raw_data[non_nan_num_cols.columns[i]], bins=bin_nums[i])\n",
    "    axes[i].set_title(non_nan_num_cols.columns[i]);"
   ]
  },
  {
   "cell_type": "markdown",
   "id": "2c6900c0-df96-4c38-a019-3109a0f4b6c1",
   "metadata": {},
   "source": [
    "**Observation**:\n",
    "- The physical health of people in California is generally good, as most of them experienced physical health problems for less than 6 days.\n",
    "- The number of people experiencing mental health problems for more than 6 days is quite higher than that of physical health problems. It can be observed that mental health problems often persist for a longer duration compared to physical health problems.\n",
    "- The distribution of the SleepHours column is narrow, indicating that most people in California have average sleep hours around 6 to 9 hours per day, which is good for health.\n",
    "- The height of people in California is various, but focused mainly in the range of 1.5 to 1.85 meters.\n",
    "- Similarly, the weight and BMI are primarily centered in the range of 50 to 112 kilograms and 20 to 35."
   ]
  },
  {
   "cell_type": "markdown",
   "id": "896639aa-5643-4ece-87a4-a62549da4222",
   "metadata": {},
   "source": [
    "### Handle outliers"
   ]
  },
  {
   "cell_type": "markdown",
   "id": "cc152c47-b0ad-4759-89bb-a17dcb58ca14",
   "metadata": {},
   "source": [
    "First, we will see if there are any outliers in numerical columns."
   ]
  },
  {
   "cell_type": "code",
   "execution_count": null,
   "id": "317de949-0efa-4ad6-b190-7f106d257959",
   "metadata": {},
   "outputs": [],
   "source": [
    "fig, axes = plt.subplots(2, 3, figsize=(14, 6))\n",
    "axes = axes.flatten()\n",
    "plt.subplots_adjust(hspace=0.3)\n",
    "\n",
    "non_nan_num_cols = raw_data[num_col_df.columns]\n",
    "for i in range(len(axes)):\n",
    "    axes[i].boxplot(non_nan_num_cols.iloc[:, i]);\n",
    "    axes[i].set_title(non_nan_num_cols.columns[i])"
   ]
  },
  {
   "cell_type": "markdown",
   "id": "3d9184fe-de49-4aeb-9ccc-1fa48a143d04",
   "metadata": {},
   "source": [
    "## Outliers detection"
   ]
  },
  {
   "cell_type": "code",
   "execution_count": null,
   "id": "33a5cf9c-eba3-40c7-aef8-b2284525b4a9",
   "metadata": {},
   "outputs": [],
   "source": []
  }
 ],
 "metadata": {
  "kernelspec": {
   "display_name": "Python 3 (ipykernel)",
   "language": "python",
   "name": "python3"
  },
  "language_info": {
   "codemirror_mode": {
    "name": "ipython",
    "version": 3
   },
   "file_extension": ".py",
   "mimetype": "text/x-python",
   "name": "python",
   "nbconvert_exporter": "python",
   "pygments_lexer": "ipython3",
   "version": "3.10.8"
  }
 },
 "nbformat": 4,
 "nbformat_minor": 5
}
